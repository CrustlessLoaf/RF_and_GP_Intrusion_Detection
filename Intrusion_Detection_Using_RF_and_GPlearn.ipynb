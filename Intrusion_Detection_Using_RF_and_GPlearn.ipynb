{
  "cells": [
    {
      "cell_type": "markdown",
      "metadata": {
        "id": "0CbWhznjlrF8"
      },
      "source": [
        "# Initial Import"
      ]
    },
    {
      "cell_type": "code",
      "execution_count": null,
      "metadata": {
        "colab": {
          "base_uri": "https://localhost:8080/"
        },
        "id": "Z9cMGJ_UmPPI",
        "outputId": "26baf73b-911d-4f45-a7d5-31a2478ae04f"
      },
      "outputs": [
        {
          "name": "stdout",
          "output_type": "stream",
          "text": [
            "Looking in indexes: https://pypi.org/simple, https://us-python.pkg.dev/colab-wheels/public/simple/\n",
            "Collecting gplearn\n",
            "  Downloading gplearn-0.4.2-py3-none-any.whl (25 kB)\n",
            "Requirement already satisfied: joblib>=1.0.0 in /usr/local/lib/python3.8/dist-packages (from gplearn) (1.2.0)\n",
            "Requirement already satisfied: scikit-learn>=1.0.2 in /usr/local/lib/python3.8/dist-packages (from gplearn) (1.0.2)\n",
            "Requirement already satisfied: scipy>=1.1.0 in /usr/local/lib/python3.8/dist-packages (from scikit-learn>=1.0.2->gplearn) (1.7.3)\n",
            "Requirement already satisfied: numpy>=1.14.6 in /usr/local/lib/python3.8/dist-packages (from scikit-learn>=1.0.2->gplearn) (1.21.6)\n",
            "Requirement already satisfied: threadpoolctl>=2.0.0 in /usr/local/lib/python3.8/dist-packages (from scikit-learn>=1.0.2->gplearn) (3.1.0)\n",
            "Installing collected packages: gplearn\n",
            "Successfully installed gplearn-0.4.2\n"
          ]
        }
      ],
      "source": [
        "!pip install gplearn"
      ]
    },
    {
      "cell_type": "code",
      "execution_count": null,
      "metadata": {
        "colab": {
          "base_uri": "https://localhost:8080/"
        },
        "id": "WnBi2x8CMPiQ",
        "outputId": "df098929-1e38-43f7-bee6-e2ca86779f7e"
      },
      "outputs": [
        {
          "name": "stdout",
          "output_type": "stream",
          "text": [
            "Mounted at /content/drive\n"
          ]
        }
      ],
      "source": [
        "import os\n",
        "import pandas as pd\n",
        "import numpy as np\n",
        "import sklearn.ensemble as sk_ensemble\n",
        "import sklearn.model_selection as sk_model_select\n",
        "from sklearn.metrics import accuracy_score\n",
        "from google.colab import drive\n",
        "import gplearn as g\n",
        "drive.mount('/content/drive')"
      ]
    },
    {
      "cell_type": "markdown",
      "metadata": {
        "id": "SZWHGz-fYh2f"
      },
      "source": [
        "# Random Forest Practice\n"
      ]
    },
    {
      "cell_type": "code",
      "execution_count": null,
      "metadata": {
        "id": "9AzzKqbwce33"
      },
      "outputs": [],
      "source": [
        "# cleaned_all_features = pd.read_csv('/content/drive/MyDrive/Le_Data/CICIDS2017_Cleaned_All_Features.csv')\n",
        "filtered_balanced = pd.read_csv('/content/drive/MyDrive/Le_Data/CICIDS2017_RFE_binary_multiclass_balanced.csv')\n",
        "# filtered_unbalanced = pd.read_csv('/content/drive/MyDrive/Le_Data/CICIDS2017_RFE_binary_multiclass_imbalanced.csv')\n",
        "# filtered_balanced['Label']"
      ]
    },
    {
      "cell_type": "code",
      "execution_count": null,
      "metadata": {
        "id": "hOUgaE97gksZ"
      },
      "outputs": [],
      "source": [
        "# cleaned_all_features_labels = cleaned_all_features.pop('Label')\n",
        "# cleaned_all_features_binary = cleaned_all_features.pop('BENIGN')\n",
        "# \n",
        "filtered_balanced_labels = filtered_balanced.pop('Label')\n",
        "filtered_balanced_binary = filtered_balanced.pop('BENIGN')\n",
        "\n",
        "# filtered_unbalanced_labels = filtered_unbalanced.pop('Label')\n",
        "# filtered_unbalanced_binary = filtered_unbalanced.pop('BENIGN')"
      ]
    },
    {
      "cell_type": "code",
      "execution_count": null,
      "metadata": {
        "id": "YCbigKfQrm9i"
      },
      "outputs": [],
      "source": [
        "### HYPERPARAMS AND FOREST\n",
        "n_estimators = 100\n",
        "max_depth = 45\n",
        "random_forest = sk_ensemble.RandomForestClassifier(n_estimators=n_estimators, max_depth=max_depth, verbose=1)"
      ]
    },
    {
      "cell_type": "code",
      "execution_count": null,
      "metadata": {
        "colab": {
          "base_uri": "https://localhost:8080/"
        },
        "id": "XU9EfLXbZKFf",
        "outputId": "521b8f40-3e6d-489b-bbcf-47ef782ec100"
      },
      "outputs": [
        {
          "name": "stderr",
          "output_type": "stream",
          "text": [
            "[Parallel(n_jobs=1)]: Using backend SequentialBackend with 1 concurrent workers.\n"
          ]
        }
      ],
      "source": [
        "x_train, x_test, y_train, y_test = sk_model_select.train_test_split(filtered_balanced, filtered_balanced_labels, test_size=0.2, random_state=42)\n",
        "### Fit, predict, check accuracy\n",
        "### BALANCED\n",
        "random_forest.fit(x_train, y_train)\n",
        "prediction_score = random_forest.score(x_test, y_test)\n",
        "prediction_score\n",
        "\n",
        "# Multiclass test 25 depth : 0.9983474478195161\n",
        "# Multiclass test 40 depth : 0.9985618881642545\n",
        "# Multiclass test 50 depth : 0.9985533786267649"
      ]
    },
    {
      "cell_type": "code",
      "execution_count": null,
      "metadata": {
        "id": "SLa2l2EBvdqb"
      },
      "outputs": [],
      "source": [
        "x_train, x_test, y_train, y_test = sk_model_select.train_test_split(filtered_unbalanced, filtered_unbalanced_binary, test_size=0.2, random_state=42)\n",
        "\n",
        "### UNBALANCED\n",
        "random_forest.fit(x_train, y_train)\n",
        "prediction_score = random_forest.score(x_test, y_test)\n",
        "prediction_score\n",
        "\n",
        "# Test accuracy 10 depth, 0.9969641568949178\n",
        "# Test accuracy 25 depth, 0.9989709605782423"
      ]
    },
    {
      "cell_type": "code",
      "execution_count": null,
      "metadata": {
        "colab": {
          "base_uri": "https://localhost:8080/"
        },
        "id": "o7zwHIab_HXd",
        "outputId": "e50c4391-c56b-4de1-a620-f7010265f486"
      },
      "outputs": [
        {
          "name": "stderr",
          "output_type": "stream",
          "text": [
            "[Parallel(n_jobs=1)]: Using backend SequentialBackend with 1 concurrent workers.\n",
            "[Parallel(n_jobs=1)]: Done 100 out of 100 | elapsed: 24.1min finished\n",
            "[Parallel(n_jobs=1)]: Using backend SequentialBackend with 1 concurrent workers.\n",
            "[Parallel(n_jobs=1)]: Done 100 out of 100 | elapsed:   12.9s finished\n"
          ]
        },
        {
          "data": {
            "text/plain": [
              "0.9986650777260704"
            ]
          },
          "execution_count": 6,
          "metadata": {},
          "output_type": "execute_result"
        }
      ],
      "source": [
        "x_train, x_test, y_train, y_test = sk_model_select.train_test_split(cleaned_all_features, cleaned_all_features_labels, test_size=0.2, random_state=42)\n",
        "\n",
        "### ALL FEATURES\n",
        "random_forest.fit(x_train, y_train)\n",
        "prediction_score = random_forest.score(x_test, y_test)\n",
        "prediction_score\n",
        "\n",
        "# Test accuracy, 0.9989409027257168\n",
        "# Multiclass test : 0.9986650777260704"
      ]
    },
    {
      "cell_type": "code",
      "execution_count": null,
      "metadata": {
        "colab": {
          "base_uri": "https://localhost:8080/"
        },
        "id": "XOJXrt44kRl8",
        "outputId": "4b8b9603-b751-4f47-a37f-138923587fac"
      },
      "outputs": [
        {
          "name": "stderr",
          "output_type": "stream",
          "text": [
            "[Parallel(n_jobs=1)]: Using backend SequentialBackend with 1 concurrent workers.\n",
            "[Parallel(n_jobs=1)]: Done 100 out of 100 | elapsed:   10.5s finished\n"
          ]
        },
        {
          "data": {
            "text/plain": [
              "array([[111211,    276],\n",
              "       [   306, 453783]])"
            ]
          },
          "execution_count": 17,
          "metadata": {},
          "output_type": "execute_result"
        }
      ],
      "source": [
        "from sklearn.metrics import confusion_matrix, plot_confusion_matrix\n",
        "confusion_matrix(y_test, random_forest.predict(x_test))\n",
        "\n",
        "# Full conf matrix for cleaned all features (no hyperparams) tn=111020, fn=301, tp=453957, fp=298  => falsealarms = 0.0027      missed = 0.000662619\n",
        "# Full conf matrix for unbalanced dataset   (maxdepth 10   ) tn=110188, fn=418, tp=453671, fp=1299 => falsealarms = 0.011651583 missed = 0.000920524\n",
        "# Full conf matrix for unbalanced dataset   (maxdepth 25   ) tn=111211, fn=306, tp=453783, fp=276  => falsealarms = 0.002475625 missed = 0.000673877\n",
        "# False alarm rate : fp / (fp + tn)\n",
        "# Missed detections: fn / (fn + tp)"
      ]
    },
    {
      "cell_type": "markdown",
      "metadata": {
        "id": "9T7S5e1_Pay1"
      },
      "source": [
        "# GP Failed attempt\n"
      ]
    },
    {
      "cell_type": "code",
      "execution_count": null,
      "metadata": {
        "id": "MmcPz3jxPZ5M"
      },
      "outputs": [],
      "source": [
        "from sklearn.utils import gen_even_slices\n",
        "# Initialization of a Population of GP trees\n",
        "from random import random, randint, seed\n",
        "from statistics import mean\n",
        "from copy import deepcopy\n",
        "\n",
        "population_size  = 500     # population size, from books, must be at least 500\n",
        "minimum_depth    = 3      # minimal initial random tree depth\n",
        "maximum_depth    = 10     # maximal initial random tree depth\n",
        "gen_its          = 250    # maximal number of generations to run evolution, also known as run size, 10-50\n",
        "tournament_size  = 5      # size of tournament for tournament selection\n",
        "xo_rate          = 0.8   # crossover rate \n",
        "mutation_prob    = 0.25   # per-node mutation probability \n",
        "num_classes = 10"
      ]
    },
    {
      "cell_type": "code",
      "execution_count": null,
      "metadata": {
        "id": "DxxGegdTxa13"
      },
      "outputs": [],
      "source": [
        "from sympy import symbols"
      ]
    },
    {
      "cell_type": "code",
      "execution_count": null,
      "metadata": {
        "colab": {
          "base_uri": "https://localhost:8080/"
        },
        "id": "Lk8EoOVmvgNi",
        "outputId": "a6bce155-9df5-4cf3-942c-e17ee01c284c"
      },
      "outputs": [
        {
          "data": {
            "text/plain": [
              "[c0, c1, c2, c3, c4, c5, c6, c7, c8, c9, c10, 8, 6, 5, 3]"
            ]
          },
          "execution_count": 30,
          "metadata": {},
          "output_type": "execute_result"
        }
      ],
      "source": [
        "def add(x, y): return int(x + y)\n",
        "def sub(x, y): return int(x - y)\n",
        "def mul(x, y): return int(x * y)\n",
        "def Pdiv(x, y):           # Protected Division Operator\n",
        "  if x == 0 or y == 0:\n",
        "    return 1\n",
        "  else:\n",
        "    return int(x/y)\n",
        "\n",
        "function_set = [add, sub, mul, Pdiv]  # Branches\n",
        "terminal_set = [] # Leaves\n",
        "# Terminal set is the set of inputs to the GP which can be expresexternal inputs, constants, functions with no args, \n",
        "#? So maybe we have to add in external inputs such as class variable, x_train data, y_train data?\n",
        "for i in range(0, 30):\n",
        "  if i <= num_classes:\n",
        "    terminal_set.append(symbols('c{}'.format(i)))  # Saw this somewhere, not sure about this X thing, but the other coefficients make sense\n",
        "  else: \n",
        "    terminal_set.append(randint(0,10.0))  # This random range was defined in literature\n",
        "terminal_set[0:15]"
      ]
    },
    {
      "cell_type": "code",
      "execution_count": null,
      "metadata": {
        "id": "F9NK9kMyhpa-"
      },
      "outputs": [],
      "source": [
        "def init_pop(number_bits, size):\n",
        "    \n",
        "    #taking samples over the distributtion\n",
        "    #such that no. of 0 almost= no. of 1\n",
        "    \n",
        "    tot = int(2**number_bits)\n",
        "    u = tot // size\n",
        "    l = 1\n",
        "    pop = []\n",
        "    for i in range(size):\n",
        "        p =[]\n",
        "        num = randint(l,u)\n",
        "        p = conver_bin(num)\n",
        "        p = ([0]*(number_bits-len(p))) + p\n",
        "        l = u+1\n",
        "        u = (i+2) * (tot//size)\n",
        "        pop.append(p)\n",
        "    return pop"
      ]
    },
    {
      "cell_type": "code",
      "execution_count": null,
      "metadata": {
        "id": "i_CbCsMyY49t"
      },
      "outputs": [],
      "source": [
        "def battle(p1, p2)  # the battle funciton \n",
        "  if p1 > p2: # Checks if p1's classification score is higher than p2\n",
        "    return p1\n",
        "  else:\n",
        "    return p2"
      ]
    },
    {
      "cell_type": "code",
      "execution_count": null,
      "metadata": {
        "id": "TFU4IVyJS00i"
      },
      "outputs": [],
      "source": [
        "def selection(tournament_size, gen):  # We will battle 5 contestants and one will be the best for breeding with the next winner\n",
        "  p = {}\n",
        "  for i in range(0, tournament_size):\n",
        "    temp = gen[randint(0, population_size)]   # Grab a generation member at random for battle \n",
        "    while temp in p:    # While the same member was picked in p already, pick another and replace temp member\n",
        "      temp = gen[randint(0, population_size)]\n",
        "    p[i] = temp  # For index i put member there\n",
        "  \n",
        "  # Now we have our 5 battling participants form 0->4 indexed\n",
        "  # Battles Begins [FFVII] theme commences\n",
        "  # have p0 battle p1, p2 battle p3, and the two winners battle eachother and the final winner battles p4\n",
        "  winner1 = battle(p0, p1)\n",
        "  winner2 = battle(p2, p3)\n",
        "  semi_final = battle(winner1, winner2)\n",
        "  final = battle(semi_final, p4)\n",
        "  return final"
      ]
    },
    {
      "cell_type": "code",
      "execution_count": null,
      "metadata": {
        "id": "7sxLt6DgbBQw"
      },
      "outputs": [],
      "source": [
        "def sexy_time():  # crossover function\n",
        "  parental_figure1 = selection(tournament_size, gen)\n",
        "  parental_figure2 = selection(tournament_size, gen)\n",
        "  while parental_figure1 == parental_figure2:\n",
        "    parental_figure2 = selection(tournament_size, gen)\n",
        "  # We need to exchange subtrees between the two after this statement\n",
        "  # suggested from literature to choose only one of the offspring so maybe have a tournament between the two\n",
        "  child1 =[]\n",
        "  child2=[]\n",
        "  winner_of_the_womb = battle(child1, child2)\n",
        "  return winner_of_the_womb"
      ]
    },
    {
      "cell_type": "markdown",
      "metadata": {
        "id": "N78GPdlyanFR"
      },
      "source": [
        "Fitness functions determine the n-class abaility. If we can makje a fitness function which can classify different attacks then we can use this as the fitness metric."
      ]
    },
    {
      "cell_type": "code",
      "execution_count": null,
      "metadata": {
        "id": "LBf5TGynZoEo"
      },
      "outputs": [],
      "source": [
        "def fitness():  # The ability to identify the correct attacks in the dataset\n",
        "  # How tf are we going to do this? IDK lol\n",
        "  # We can probably input the test x and see if the y test is close to the predicted?"
      ]
    },
    {
      "cell_type": "code",
      "execution_count": null,
      "metadata": {
        "colab": {
          "base_uri": "https://localhost:8080/"
        },
        "id": "LArZMd8B3bfS",
        "outputId": "b3ea10a3-f832-45ee-8a80-4580d7c6f50f"
      },
      "outputs": [
        {
          "name": "stdout",
          "output_type": "stream",
          "text": [
            "Looking in indexes: https://pypi.org/simple, https://us-python.pkg.dev/colab-wheels/public/simple/\n",
            "Collecting gplearn\n",
            "  Downloading gplearn-0.4.2-py3-none-any.whl (25 kB)\n",
            "Requirement already satisfied: joblib>=1.0.0 in /usr/local/lib/python3.8/dist-packages (from gplearn) (1.2.0)\n",
            "Requirement already satisfied: scikit-learn>=1.0.2 in /usr/local/lib/python3.8/dist-packages (from gplearn) (1.0.2)\n",
            "Requirement already satisfied: numpy>=1.14.6 in /usr/local/lib/python3.8/dist-packages (from scikit-learn>=1.0.2->gplearn) (1.21.6)\n",
            "Requirement already satisfied: scipy>=1.1.0 in /usr/local/lib/python3.8/dist-packages (from scikit-learn>=1.0.2->gplearn) (1.7.3)\n",
            "Requirement already satisfied: threadpoolctl>=2.0.0 in /usr/local/lib/python3.8/dist-packages (from scikit-learn>=1.0.2->gplearn) (3.1.0)\n",
            "Installing collected packages: gplearn\n",
            "Successfully installed gplearn-0.4.2\n"
          ]
        }
      ],
      "source": [
        "!pip install gplearn"
      ]
    },
    {
      "cell_type": "code",
      "execution_count": null,
      "metadata": {
        "id": "Bwri7cZm7x_H"
      },
      "outputs": [],
      "source": [
        "from gplearn import genetic as g\n",
        "import gplearn\n",
        "import pandas as pd\n",
        "import numpy as np\n",
        "from sklearn.model_selection import train_test_split\n"
      ]
    },
    {
      "cell_type": "code",
      "execution_count": null,
      "metadata": {
        "id": "zAcnfPHM1l-y"
      },
      "outputs": [],
      "source": [
        "import os\n",
        "import pandas as pd\n",
        "import numpy as np\n",
        "import sklearn.ensemble as sk_ensemble\n",
        "import sklearn.model_selection as sk_model_select\n",
        "from sklearn.metrics import accuracy_score\n",
        "from google.colab import drive\n",
        "import gplearn as gp"
      ]
    },
    {
      "cell_type": "markdown",
      "metadata": {
        "id": "L4UzJ8WyeDYH"
      },
      "source": [
        "#Using GPlearn Failed Attempt\n"
      ]
    },
    {
      "cell_type": "code",
      "execution_count": null,
      "metadata": {
        "colab": {
          "base_uri": "https://localhost:8080/",
          "height": 296
        },
        "id": "PvPf6Zx73QZ_",
        "outputId": "959429b3-e705-4580-d7a0-93b7ea0cad9c"
      },
      "outputs": [
        {
          "ename": "ParserError",
          "evalue": "ignored",
          "output_type": "error",
          "traceback": [
            "\u001b[0;31m---------------------------------------------------------------------------\u001b[0m",
            "\u001b[0;31mParserError\u001b[0m                               Traceback (most recent call last)",
            "\u001b[0;32m<ipython-input-10-938d3ce1659e>\u001b[0m in \u001b[0;36m<module>\u001b[0;34m\u001b[0m\n\u001b[1;32m     58\u001b[0m     return y'''\n\u001b[1;32m     59\u001b[0m \u001b[0;34m\u001b[0m\u001b[0m\n\u001b[0;32m---> 60\u001b[0;31m \u001b[0mnet_data\u001b[0m \u001b[0;34m=\u001b[0m \u001b[0mpd\u001b[0m\u001b[0;34m.\u001b[0m\u001b[0mread_csv\u001b[0m\u001b[0;34m(\u001b[0m\u001b[0;34m'/content/drive/MyDrive/Le_Data/CICIDS2017_RFE_binary_multiclass_balanced.csv'\u001b[0m\u001b[0;34m)\u001b[0m\u001b[0;34m\u001b[0m\u001b[0;34m\u001b[0m\u001b[0m\n\u001b[0m\u001b[1;32m     61\u001b[0m \u001b[0;31m#print(net_data.head())\u001b[0m\u001b[0;34m\u001b[0m\u001b[0;34m\u001b[0m\u001b[0;34m\u001b[0m\u001b[0m\n\u001b[1;32m     62\u001b[0m \u001b[0my\u001b[0m \u001b[0;34m=\u001b[0m \u001b[0mnet_data\u001b[0m\u001b[0;34m[\u001b[0m\u001b[0;34m'Label'\u001b[0m\u001b[0;34m]\u001b[0m\u001b[0;34m\u001b[0m\u001b[0;34m\u001b[0m\u001b[0m\n",
            "\u001b[0;32m/usr/local/lib/python3.8/dist-packages/pandas/util/_decorators.py\u001b[0m in \u001b[0;36mwrapper\u001b[0;34m(*args, **kwargs)\u001b[0m\n\u001b[1;32m    309\u001b[0m                     \u001b[0mstacklevel\u001b[0m\u001b[0;34m=\u001b[0m\u001b[0mstacklevel\u001b[0m\u001b[0;34m,\u001b[0m\u001b[0;34m\u001b[0m\u001b[0;34m\u001b[0m\u001b[0m\n\u001b[1;32m    310\u001b[0m                 )\n\u001b[0;32m--> 311\u001b[0;31m             \u001b[0;32mreturn\u001b[0m \u001b[0mfunc\u001b[0m\u001b[0;34m(\u001b[0m\u001b[0;34m*\u001b[0m\u001b[0margs\u001b[0m\u001b[0;34m,\u001b[0m \u001b[0;34m**\u001b[0m\u001b[0mkwargs\u001b[0m\u001b[0;34m)\u001b[0m\u001b[0;34m\u001b[0m\u001b[0;34m\u001b[0m\u001b[0m\n\u001b[0m\u001b[1;32m    312\u001b[0m \u001b[0;34m\u001b[0m\u001b[0m\n\u001b[1;32m    313\u001b[0m         \u001b[0;32mreturn\u001b[0m \u001b[0mwrapper\u001b[0m\u001b[0;34m\u001b[0m\u001b[0;34m\u001b[0m\u001b[0m\n",
            "\u001b[0;32m/usr/local/lib/python3.8/dist-packages/pandas/io/parsers/readers.py\u001b[0m in \u001b[0;36mread_csv\u001b[0;34m(filepath_or_buffer, sep, delimiter, header, names, index_col, usecols, squeeze, prefix, mangle_dupe_cols, dtype, engine, converters, true_values, false_values, skipinitialspace, skiprows, skipfooter, nrows, na_values, keep_default_na, na_filter, verbose, skip_blank_lines, parse_dates, infer_datetime_format, keep_date_col, date_parser, dayfirst, cache_dates, iterator, chunksize, compression, thousands, decimal, lineterminator, quotechar, quoting, doublequote, escapechar, comment, encoding, encoding_errors, dialect, error_bad_lines, warn_bad_lines, on_bad_lines, delim_whitespace, low_memory, memory_map, float_precision, storage_options)\u001b[0m\n\u001b[1;32m    584\u001b[0m     \u001b[0mkwds\u001b[0m\u001b[0;34m.\u001b[0m\u001b[0mupdate\u001b[0m\u001b[0;34m(\u001b[0m\u001b[0mkwds_defaults\u001b[0m\u001b[0;34m)\u001b[0m\u001b[0;34m\u001b[0m\u001b[0;34m\u001b[0m\u001b[0m\n\u001b[1;32m    585\u001b[0m \u001b[0;34m\u001b[0m\u001b[0m\n\u001b[0;32m--> 586\u001b[0;31m     \u001b[0;32mreturn\u001b[0m \u001b[0m_read\u001b[0m\u001b[0;34m(\u001b[0m\u001b[0mfilepath_or_buffer\u001b[0m\u001b[0;34m,\u001b[0m \u001b[0mkwds\u001b[0m\u001b[0;34m)\u001b[0m\u001b[0;34m\u001b[0m\u001b[0;34m\u001b[0m\u001b[0m\n\u001b[0m\u001b[1;32m    587\u001b[0m \u001b[0;34m\u001b[0m\u001b[0m\n\u001b[1;32m    588\u001b[0m \u001b[0;34m\u001b[0m\u001b[0m\n",
            "\u001b[0;32m/usr/local/lib/python3.8/dist-packages/pandas/io/parsers/readers.py\u001b[0m in \u001b[0;36m_read\u001b[0;34m(filepath_or_buffer, kwds)\u001b[0m\n\u001b[1;32m    486\u001b[0m \u001b[0;34m\u001b[0m\u001b[0m\n\u001b[1;32m    487\u001b[0m     \u001b[0;32mwith\u001b[0m \u001b[0mparser\u001b[0m\u001b[0;34m:\u001b[0m\u001b[0;34m\u001b[0m\u001b[0;34m\u001b[0m\u001b[0m\n\u001b[0;32m--> 488\u001b[0;31m         \u001b[0;32mreturn\u001b[0m \u001b[0mparser\u001b[0m\u001b[0;34m.\u001b[0m\u001b[0mread\u001b[0m\u001b[0;34m(\u001b[0m\u001b[0mnrows\u001b[0m\u001b[0;34m)\u001b[0m\u001b[0;34m\u001b[0m\u001b[0;34m\u001b[0m\u001b[0m\n\u001b[0m\u001b[1;32m    489\u001b[0m \u001b[0;34m\u001b[0m\u001b[0m\n\u001b[1;32m    490\u001b[0m \u001b[0;34m\u001b[0m\u001b[0m\n",
            "\u001b[0;32m/usr/local/lib/python3.8/dist-packages/pandas/io/parsers/readers.py\u001b[0m in \u001b[0;36mread\u001b[0;34m(self, nrows)\u001b[0m\n\u001b[1;32m   1045\u001b[0m     \u001b[0;32mdef\u001b[0m \u001b[0mread\u001b[0m\u001b[0;34m(\u001b[0m\u001b[0mself\u001b[0m\u001b[0;34m,\u001b[0m \u001b[0mnrows\u001b[0m\u001b[0;34m=\u001b[0m\u001b[0;32mNone\u001b[0m\u001b[0;34m)\u001b[0m\u001b[0;34m:\u001b[0m\u001b[0;34m\u001b[0m\u001b[0;34m\u001b[0m\u001b[0m\n\u001b[1;32m   1046\u001b[0m         \u001b[0mnrows\u001b[0m \u001b[0;34m=\u001b[0m \u001b[0mvalidate_integer\u001b[0m\u001b[0;34m(\u001b[0m\u001b[0;34m\"nrows\"\u001b[0m\u001b[0;34m,\u001b[0m \u001b[0mnrows\u001b[0m\u001b[0;34m)\u001b[0m\u001b[0;34m\u001b[0m\u001b[0;34m\u001b[0m\u001b[0m\n\u001b[0;32m-> 1047\u001b[0;31m         \u001b[0mindex\u001b[0m\u001b[0;34m,\u001b[0m \u001b[0mcolumns\u001b[0m\u001b[0;34m,\u001b[0m \u001b[0mcol_dict\u001b[0m \u001b[0;34m=\u001b[0m \u001b[0mself\u001b[0m\u001b[0;34m.\u001b[0m\u001b[0m_engine\u001b[0m\u001b[0;34m.\u001b[0m\u001b[0mread\u001b[0m\u001b[0;34m(\u001b[0m\u001b[0mnrows\u001b[0m\u001b[0;34m)\u001b[0m\u001b[0;34m\u001b[0m\u001b[0;34m\u001b[0m\u001b[0m\n\u001b[0m\u001b[1;32m   1048\u001b[0m \u001b[0;34m\u001b[0m\u001b[0m\n\u001b[1;32m   1049\u001b[0m         \u001b[0;32mif\u001b[0m \u001b[0mindex\u001b[0m \u001b[0;32mis\u001b[0m \u001b[0;32mNone\u001b[0m\u001b[0;34m:\u001b[0m\u001b[0;34m\u001b[0m\u001b[0;34m\u001b[0m\u001b[0m\n",
            "\u001b[0;32m/usr/local/lib/python3.8/dist-packages/pandas/io/parsers/c_parser_wrapper.py\u001b[0m in \u001b[0;36mread\u001b[0;34m(self, nrows)\u001b[0m\n\u001b[1;32m    222\u001b[0m         \u001b[0;32mtry\u001b[0m\u001b[0;34m:\u001b[0m\u001b[0;34m\u001b[0m\u001b[0;34m\u001b[0m\u001b[0m\n\u001b[1;32m    223\u001b[0m             \u001b[0;32mif\u001b[0m \u001b[0mself\u001b[0m\u001b[0;34m.\u001b[0m\u001b[0mlow_memory\u001b[0m\u001b[0;34m:\u001b[0m\u001b[0;34m\u001b[0m\u001b[0;34m\u001b[0m\u001b[0m\n\u001b[0;32m--> 224\u001b[0;31m                 \u001b[0mchunks\u001b[0m \u001b[0;34m=\u001b[0m \u001b[0mself\u001b[0m\u001b[0;34m.\u001b[0m\u001b[0m_reader\u001b[0m\u001b[0;34m.\u001b[0m\u001b[0mread_low_memory\u001b[0m\u001b[0;34m(\u001b[0m\u001b[0mnrows\u001b[0m\u001b[0;34m)\u001b[0m\u001b[0;34m\u001b[0m\u001b[0;34m\u001b[0m\u001b[0m\n\u001b[0m\u001b[1;32m    225\u001b[0m                 \u001b[0;31m# destructive to chunks\u001b[0m\u001b[0;34m\u001b[0m\u001b[0;34m\u001b[0m\u001b[0;34m\u001b[0m\u001b[0m\n\u001b[1;32m    226\u001b[0m                 \u001b[0mdata\u001b[0m \u001b[0;34m=\u001b[0m \u001b[0m_concatenate_chunks\u001b[0m\u001b[0;34m(\u001b[0m\u001b[0mchunks\u001b[0m\u001b[0;34m)\u001b[0m\u001b[0;34m\u001b[0m\u001b[0;34m\u001b[0m\u001b[0m\n",
            "\u001b[0;32m/usr/local/lib/python3.8/dist-packages/pandas/_libs/parsers.pyx\u001b[0m in \u001b[0;36mpandas._libs.parsers.TextReader.read_low_memory\u001b[0;34m()\u001b[0m\n",
            "\u001b[0;32m/usr/local/lib/python3.8/dist-packages/pandas/_libs/parsers.pyx\u001b[0m in \u001b[0;36mpandas._libs.parsers.TextReader._read_rows\u001b[0;34m()\u001b[0m\n",
            "\u001b[0;32m/usr/local/lib/python3.8/dist-packages/pandas/_libs/parsers.pyx\u001b[0m in \u001b[0;36mpandas._libs.parsers.TextReader._tokenize_rows\u001b[0;34m()\u001b[0m\n",
            "\u001b[0;32m/usr/local/lib/python3.8/dist-packages/pandas/_libs/parsers.pyx\u001b[0m in \u001b[0;36mpandas._libs.parsers.raise_parser_error\u001b[0;34m()\u001b[0m\n",
            "\u001b[0;31mParserError\u001b[0m: Error tokenizing data. C error: Calling read(nbytes) on source failed. Try engine='python'."
          ]
        }
      ],
      "source": [
        "\n",
        "''' mapping = {\n",
        "    'BENIGN': 0,\n",
        "    'DDoS': 1,\n",
        "    'PortScan': 2,\n",
        "    'Bot': 3,\n",
        "    'Infiltration': 4,\n",
        "    'Brute Force': 5,\n",
        "    'XSS': 6,\n",
        "    'Sql Injection': 7,\n",
        "    'FTP-Patator': 8,\n",
        "    'SSH-Patator': 9,\n",
        "    'DoS slowloris': 10,\n",
        "    'DoS Slowhttptest': 11,\n",
        "    'DoS Hulk': 12,\n",
        "    'DoS GoldenEye': 13,\n",
        "    'Heartbleed': 14\n",
        "}\n",
        "\n",
        "def encode_test(y):\n",
        "  ### TRY THIS, COULD PROBABLY WORK\n",
        "  y.replace(mapping)\n",
        "  return y\n",
        "\n",
        "def encode(y):\n",
        "    for i in range(0, len(y)):\n",
        "        if y[i] == 'BENIGN':\n",
        "            y[i] = 0\n",
        "        elif y[i] == 'DDoS':\n",
        "            y[i] = 1\n",
        "        elif y[i] == 'PortScan':\n",
        "            y[i] = 2\n",
        "        elif y[i] == 'Bot':\n",
        "            y[i] = 3\n",
        "        elif y[i] == 'Infiltration':\n",
        "            y[i] = 4\n",
        "        elif y[i] == 'Brute Force':\n",
        "            y[i] = 5\n",
        "        elif y[i] == 'XSS':\n",
        "            y[i] = 6\n",
        "        elif y[i] == 'Sql Injection':\n",
        "            y[i] = 7\n",
        "        elif y[i] == 'FTP-Patator':\n",
        "            y[i] = 8\n",
        "        elif y[i] == 'SSH-Patator':\n",
        "            y[i] = 9\n",
        "        elif y[i] == 'DoS slowloris':\n",
        "            y[i] = 10\n",
        "        elif y[i] == 'DoS Slowhttptest':\n",
        "            y[i] = 11\n",
        "        elif y[i] == 'DoS Hulk':\n",
        "            y[i] = 12\n",
        "        elif y[i] == 'DoS GoldenEye':\n",
        "            y[i] = 13\n",
        "        elif y[i] == 'Heartbleed':\n",
        "            y[i] = 14\n",
        "        else:\n",
        "            exit('There was no class found')\n",
        "    return y'''\n",
        "\n",
        "net_data = pd.read_csv('/content/drive/MyDrive/Le_Data/CICIDS2017_RFE_binary_multiclass_balanced.csv')\n",
        "#print(net_data.head())\n",
        "y = net_data['Label']\n",
        "print(y.head())\n",
        "others = {}     # Stores the types of attacks\n",
        "for classes in y:\n",
        "    if classes in others.keys():\n",
        "        others[classes] = others[classes] +1\n",
        "    else:\n",
        "        others[classes] = 1\n",
        "print(others)\n",
        "num_classes = len(others.keys())"
      ]
    },
    {
      "cell_type": "code",
      "execution_count": null,
      "metadata": {
        "id": "JJzccU00sMmi"
      },
      "outputs": [],
      "source": [
        "classifier = g.SymbolicRegressor(population_size=7500,\n",
        "                           generations=12, stopping_criteria=0.01,\n",
        "                           p_crossover=0.65, p_subtree_mutation=0.2,\n",
        "                           p_hoist_mutation=0.05, p_point_mutation=0.09,\n",
        "                           max_samples=0.9, verbose=1,\n",
        "                           parsimony_coefficient=0.01, random_state=40)"
      ]
    },
    {
      "cell_type": "code",
      "execution_count": null,
      "metadata": {
        "id": "-m8Rr_lxHujD"
      },
      "outputs": [],
      "source": [
        "\n",
        "y = pd.read_csv('/content/drive/MyDrive/Le_Data/CICIDS2017_multi_encoded_y.csv')\n",
        "\n",
        "x = net_data.drop(axis= 0, columns= ['Label', 'BENIGN'])\n",
        "\n",
        "X_train, X_test, y_train, y_test = train_test_split(x, y, test_size=0.2, random_state=42)"
      ]
    },
    {
      "cell_type": "markdown",
      "metadata": {
        "id": "BgG7QVtxq3fl"
      },
      "source": []
    },
    {
      "cell_type": "code",
      "execution_count": null,
      "metadata": {
        "colab": {
          "base_uri": "https://localhost:8080/"
        },
        "id": "04BPApfdJT_K",
        "outputId": "d79cff62-fdba-4577-e825-45c31feec250"
      },
      "outputs": [
        {
          "name": "stdout",
          "output_type": "stream",
          "text": [
            "         Unnamed: 0  Label\n",
            "2028723     2028723      0\n",
            "1546790     1546790      0\n",
            "810759       810759      0\n",
            "1234644     1234644      0\n",
            "1214009     1214009      0\n",
            "         Unnamed: 0  Label\n",
            "1615934     1615934      0\n",
            "2830586     2830586     13\n",
            "1957064     1957064      0\n",
            "699720       699720      0\n",
            "1295299     1295299      0\n"
          ]
        }
      ],
      "source": [
        "print(y_train.head())\n",
        "print(y_test.head())\n",
        "y_train.drop(columns= 'Unnamed: 0', inplace=True)\n",
        "y_test.drop(columns= 'Unnamed: 0', inplace=True)\n"
      ]
    },
    {
      "cell_type": "code",
      "execution_count": null,
      "metadata": {
        "id": "MLpFAj5dLQZi"
      },
      "outputs": [],
      "source": [
        "y_train = np.transpose(np.array(y_train))\n",
        "y_test = np.transpose(np.array(y_test))"
      ]
    },
    {
      "cell_type": "code",
      "execution_count": null,
      "metadata": {
        "id": "Icwk_GetNpGR"
      },
      "outputs": [],
      "source": [
        "y_train = y_train[0,:]\n",
        "y_test = y_test[0,:]"
      ]
    },
    {
      "cell_type": "code",
      "execution_count": null,
      "metadata": {
        "colab": {
          "base_uri": "https://localhost:8080/"
        },
        "id": "EqsjcdfL302C",
        "outputId": "79847d7e-3c23-4d57-84d4-50827d0b522d"
      },
      "outputs": [
        {
          "name": "stdout",
          "output_type": "stream",
          "text": [
            "    |   Population Average    |             Best Individual              |\n",
            "---- ------------------------- ------------------------------------------ ----------\n",
            " Gen   Length          Fitness   Length          Fitness      OOB Fitness  Time Left\n",
            "   0    25.98      5.75112e+61       31          1.50744          1.50146    493.49m\n",
            "   1     9.12      2.79626e+42        5          1.32692          1.32722    265.83m\n",
            "   2     4.66      8.23201e+26        5          1.32492          1.34516    202.23m\n",
            "   3     3.46      9.54623e+28        5          1.32522          1.34247    165.57m\n",
            "   4     4.02      4.83587e+35        5          1.32434          1.35038    157.84m\n",
            "   5     5.08      6.34334e+28        9          1.12865          1.13987    140.81m\n",
            "   6     5.16       2.1366e+42        9          1.12845           1.1417    117.78m\n",
            "   7     5.44      1.94257e+24        9          1.07736          1.08034     96.29m\n",
            "   8     6.16      6.48749e+39        9          1.07647          1.08834     76.77m\n",
            "   9     8.55      4.52012e+29       11          1.06332          1.06061     61.41m\n",
            "  10     9.42       4.2118e+26       11          1.06155          1.07658     32.87m\n",
            "  11     9.59      5.04235e+26       11          1.05551          1.06167      0.00s\n"
          ]
        },
        {
          "data": {
            "text/plain": [
              "SymbolicRegressor(generations=12, max_samples=0.9, p_crossover=0.65,\n",
              "                  p_hoist_mutation=0.05, p_point_mutation=0.09,\n",
              "                  p_subtree_mutation=0.2, parsimony_coefficient=0.01,\n",
              "                  population_size=7500, random_state=40, stopping_criteria=0.01,\n",
              "                  verbose=1)"
            ]
          },
          "execution_count": 9,
          "metadata": {},
          "output_type": "execute_result"
        }
      ],
      "source": [
        "classifier.fit(np.array(X_train), y_train)"
      ]
    },
    {
      "cell_type": "code",
      "execution_count": null,
      "metadata": {
        "colab": {
          "base_uri": "https://localhost:8080/",
          "height": 168
        },
        "id": "5nbC3Kj7Nj9v",
        "outputId": "4fb67c8c-7888-44d9-da43-c8d20b229db4"
      },
      "outputs": [
        {
          "ename": "NameError",
          "evalue": "ignored",
          "output_type": "error",
          "traceback": [
            "\u001b[0;31m---------------------------------------------------------------------------\u001b[0m",
            "\u001b[0;31mNameError\u001b[0m                                 Traceback (most recent call last)",
            "\u001b[0;32m<ipython-input-1-361b5d4c7f7c>\u001b[0m in \u001b[0;36m<module>\u001b[0;34m\u001b[0m\n\u001b[0;32m----> 1\u001b[0;31m \u001b[0my_gp\u001b[0m \u001b[0;34m=\u001b[0m \u001b[0mclassifier\u001b[0m\u001b[0;34m.\u001b[0m\u001b[0mpredict\u001b[0m\u001b[0;34m(\u001b[0m\u001b[0mnp\u001b[0m\u001b[0;34m.\u001b[0m\u001b[0marray\u001b[0m\u001b[0;34m(\u001b[0m\u001b[0mX_test\u001b[0m\u001b[0;34m)\u001b[0m\u001b[0;34m)\u001b[0m\u001b[0;34m\u001b[0m\u001b[0;34m\u001b[0m\u001b[0m\n\u001b[0m",
            "\u001b[0;31mNameError\u001b[0m: name 'classifier' is not defined"
          ]
        }
      ],
      "source": [
        "y_gp = classifier.predict(np.array(X_test))"
      ]
    },
    {
      "cell_type": "code",
      "execution_count": null,
      "metadata": {
        "id": "T9Ilo_GhXjTa"
      },
      "outputs": [],
      "source": [
        "score_gp = classifier.score(X_test, y_test)"
      ]
    },
    {
      "cell_type": "code",
      "execution_count": null,
      "metadata": {
        "colab": {
          "base_uri": "https://localhost:8080/",
          "height": 186
        },
        "id": "WxgMCltwtXrb",
        "outputId": "fc6b1a5c-ef19-4c78-8bf2-2cb4e86ef104"
      },
      "outputs": [
        {
          "ename": "NameError",
          "evalue": "ignored",
          "output_type": "error",
          "traceback": [
            "\u001b[0;31m---------------------------------------------------------------------------\u001b[0m",
            "\u001b[0;31mNameError\u001b[0m                                 Traceback (most recent call last)",
            "\u001b[0;32m<ipython-input-18-2b73f24f4a02>\u001b[0m in \u001b[0;36m<module>\u001b[0;34m\u001b[0m\n\u001b[1;32m      1\u001b[0m \u001b[0mlemon2\u001b[0m \u001b[0;34m=\u001b[0m \u001b[0mpd\u001b[0m\u001b[0;34m.\u001b[0m\u001b[0mread_csv\u001b[0m\u001b[0;34m(\u001b[0m\u001b[0;34m'lemon2(2).csv'\u001b[0m\u001b[0;34m)\u001b[0m\u001b[0;34m\u001b[0m\u001b[0;34m\u001b[0m\u001b[0m\n\u001b[0;32m----> 2\u001b[0;31m \u001b[0mlemon\u001b[0m\u001b[0;34m\u001b[0m\u001b[0;34m\u001b[0m\u001b[0m\n\u001b[0m",
            "\u001b[0;31mNameError\u001b[0m: name 'lemon' is not defined"
          ]
        }
      ],
      "source": [
        "lemon2 = pd.read_csv('lemon2(2).csv')"
      ]
    },
    {
      "cell_type": "code",
      "execution_count": null,
      "metadata": {
        "colab": {
          "base_uri": "https://localhost:8080/"
        },
        "id": "SBrjzDWz-4Ab",
        "outputId": "d637a18a-be71-42e2-b87e-bbbaa75d0316"
      },
      "outputs": [
        {
          "name": "stdout",
          "output_type": "stream",
          "text": [
            "0.19765089888922127\n"
          ]
        }
      ],
      "source": [
        "print(score_gp)"
      ]
    },
    {
      "cell_type": "code",
      "execution_count": null,
      "metadata": {
        "id": "1vwBgxim4GJ-"
      },
      "outputs": [],
      "source": [
        "y_anal = pd.DataFrame(y_test)"
      ]
    },
    {
      "cell_type": "code",
      "execution_count": null,
      "metadata": {
        "colab": {
          "base_uri": "https://localhost:8080/",
          "height": 424
        },
        "id": "eGdrWNe44IVl",
        "outputId": "6007561b-f33e-4efd-99df-b54d1d158cc7"
      },
      "outputs": [
        {
          "data": {
            "text/html": [
              "\n",
              "  <div id=\"df-0b75a3cb-62a2-4606-b523-02185fc0b013\">\n",
              "    <div class=\"colab-df-container\">\n",
              "      <div>\n",
              "<style scoped>\n",
              "    .dataframe tbody tr th:only-of-type {\n",
              "        vertical-align: middle;\n",
              "    }\n",
              "\n",
              "    .dataframe tbody tr th {\n",
              "        vertical-align: top;\n",
              "    }\n",
              "\n",
              "    .dataframe thead th {\n",
              "        text-align: right;\n",
              "    }\n",
              "</style>\n",
              "<table border=\"1\" class=\"dataframe\">\n",
              "  <thead>\n",
              "    <tr style=\"text-align: right;\">\n",
              "      <th></th>\n",
              "      <th>0</th>\n",
              "    </tr>\n",
              "  </thead>\n",
              "  <tbody>\n",
              "    <tr>\n",
              "      <th>1</th>\n",
              "      <td>13</td>\n",
              "    </tr>\n",
              "    <tr>\n",
              "      <th>19</th>\n",
              "      <td>2</td>\n",
              "    </tr>\n",
              "    <tr>\n",
              "      <th>22</th>\n",
              "      <td>1</td>\n",
              "    </tr>\n",
              "    <tr>\n",
              "      <th>27</th>\n",
              "      <td>12</td>\n",
              "    </tr>\n",
              "    <tr>\n",
              "      <th>28</th>\n",
              "      <td>14</td>\n",
              "    </tr>\n",
              "    <tr>\n",
              "      <th>...</th>\n",
              "      <td>...</td>\n",
              "    </tr>\n",
              "    <tr>\n",
              "      <th>587551</th>\n",
              "      <td>2</td>\n",
              "    </tr>\n",
              "    <tr>\n",
              "      <th>587553</th>\n",
              "      <td>12</td>\n",
              "    </tr>\n",
              "    <tr>\n",
              "      <th>587556</th>\n",
              "      <td>2</td>\n",
              "    </tr>\n",
              "    <tr>\n",
              "      <th>587560</th>\n",
              "      <td>9</td>\n",
              "    </tr>\n",
              "    <tr>\n",
              "      <th>587567</th>\n",
              "      <td>12</td>\n",
              "    </tr>\n",
              "  </tbody>\n",
              "</table>\n",
              "<p>133356 rows × 1 columns</p>\n",
              "</div>\n",
              "      <button class=\"colab-df-convert\" onclick=\"convertToInteractive('df-0b75a3cb-62a2-4606-b523-02185fc0b013')\"\n",
              "              title=\"Convert this dataframe to an interactive table.\"\n",
              "              style=\"display:none;\">\n",
              "        \n",
              "  <svg xmlns=\"http://www.w3.org/2000/svg\" height=\"24px\"viewBox=\"0 0 24 24\"\n",
              "       width=\"24px\">\n",
              "    <path d=\"M0 0h24v24H0V0z\" fill=\"none\"/>\n",
              "    <path d=\"M18.56 5.44l.94 2.06.94-2.06 2.06-.94-2.06-.94-.94-2.06-.94 2.06-2.06.94zm-11 1L8.5 8.5l.94-2.06 2.06-.94-2.06-.94L8.5 2.5l-.94 2.06-2.06.94zm10 10l.94 2.06.94-2.06 2.06-.94-2.06-.94-.94-2.06-.94 2.06-2.06.94z\"/><path d=\"M17.41 7.96l-1.37-1.37c-.4-.4-.92-.59-1.43-.59-.52 0-1.04.2-1.43.59L10.3 9.45l-7.72 7.72c-.78.78-.78 2.05 0 2.83L4 21.41c.39.39.9.59 1.41.59.51 0 1.02-.2 1.41-.59l7.78-7.78 2.81-2.81c.8-.78.8-2.07 0-2.86zM5.41 20L4 18.59l7.72-7.72 1.47 1.35L5.41 20z\"/>\n",
              "  </svg>\n",
              "      </button>\n",
              "      \n",
              "  <style>\n",
              "    .colab-df-container {\n",
              "      display:flex;\n",
              "      flex-wrap:wrap;\n",
              "      gap: 12px;\n",
              "    }\n",
              "\n",
              "    .colab-df-convert {\n",
              "      background-color: #E8F0FE;\n",
              "      border: none;\n",
              "      border-radius: 50%;\n",
              "      cursor: pointer;\n",
              "      display: none;\n",
              "      fill: #1967D2;\n",
              "      height: 32px;\n",
              "      padding: 0 0 0 0;\n",
              "      width: 32px;\n",
              "    }\n",
              "\n",
              "    .colab-df-convert:hover {\n",
              "      background-color: #E2EBFA;\n",
              "      box-shadow: 0px 1px 2px rgba(60, 64, 67, 0.3), 0px 1px 3px 1px rgba(60, 64, 67, 0.15);\n",
              "      fill: #174EA6;\n",
              "    }\n",
              "\n",
              "    [theme=dark] .colab-df-convert {\n",
              "      background-color: #3B4455;\n",
              "      fill: #D2E3FC;\n",
              "    }\n",
              "\n",
              "    [theme=dark] .colab-df-convert:hover {\n",
              "      background-color: #434B5C;\n",
              "      box-shadow: 0px 1px 3px 1px rgba(0, 0, 0, 0.15);\n",
              "      filter: drop-shadow(0px 1px 2px rgba(0, 0, 0, 0.3));\n",
              "      fill: #FFFFFF;\n",
              "    }\n",
              "  </style>\n",
              "\n",
              "      <script>\n",
              "        const buttonEl =\n",
              "          document.querySelector('#df-0b75a3cb-62a2-4606-b523-02185fc0b013 button.colab-df-convert');\n",
              "        buttonEl.style.display =\n",
              "          google.colab.kernel.accessAllowed ? 'block' : 'none';\n",
              "\n",
              "        async function convertToInteractive(key) {\n",
              "          const element = document.querySelector('#df-0b75a3cb-62a2-4606-b523-02185fc0b013');\n",
              "          const dataTable =\n",
              "            await google.colab.kernel.invokeFunction('convertToInteractive',\n",
              "                                                     [key], {});\n",
              "          if (!dataTable) return;\n",
              "\n",
              "          const docLinkHtml = 'Like what you see? Visit the ' +\n",
              "            '<a target=\"_blank\" href=https://colab.research.google.com/notebooks/data_table.ipynb>data table notebook</a>'\n",
              "            + ' to learn more about interactive tables.';\n",
              "          element.innerHTML = '';\n",
              "          dataTable['output_type'] = 'display_data';\n",
              "          await google.colab.output.renderOutput(dataTable, element);\n",
              "          const docLink = document.createElement('div');\n",
              "          docLink.innerHTML = docLinkHtml;\n",
              "          element.appendChild(docLink);\n",
              "        }\n",
              "      </script>\n",
              "    </div>\n",
              "  </div>\n",
              "  "
            ],
            "text/plain": [
              "         0\n",
              "1       13\n",
              "19       2\n",
              "22       1\n",
              "27      12\n",
              "28      14\n",
              "...     ..\n",
              "587551   2\n",
              "587553  12\n",
              "587556   2\n",
              "587560   9\n",
              "587567  12\n",
              "\n",
              "[133356 rows x 1 columns]"
            ]
          },
          "execution_count": 48,
          "metadata": {},
          "output_type": "execute_result"
        }
      ],
      "source": [
        "y_malicious_test = y_anal[y_anal[0]!=0]\n",
        "y_malicious_test"
      ]
    },
    {
      "cell_type": "code",
      "execution_count": null,
      "metadata": {
        "id": "QYjq1-1jV-eO"
      },
      "outputs": [],
      "source": [
        "lemon2.drop(columns= 'Unnamed: 0', inplace= True)"
      ]
    },
    {
      "cell_type": "code",
      "execution_count": null,
      "metadata": {
        "id": "EJP9b-ZCYMHb"
      },
      "outputs": [],
      "source": [
        "malicious_lemon = pd.DataFrame()"
      ]
    },
    {
      "cell_type": "code",
      "execution_count": null,
      "metadata": {
        "colab": {
          "base_uri": "https://localhost:8080/"
        },
        "id": "md8yJHVlWf_T",
        "outputId": "b4491037-dd82-4b68-de7f-6f41e3fc0e8d"
      },
      "outputs": [
        {
          "name": "stderr",
          "output_type": "stream",
          "text": [
            "<ipython-input-13-ed018e08eef7>:2: PerformanceWarning: DataFrame is highly fragmented.  This is usually the result of calling `frame.insert` many times, which has poor performance.  Consider joining all columns at once using pd.concat(axis=1) instead.  To get a de-fragmented frame, use `newframe = frame.copy()`\n",
            "  malicious_lemon[i] = lemon2.iloc[i]\n"
          ]
        }
      ],
      "source": [
        "for i in y_malicious_test.index:\n",
        "  malicious_lemon[i] = lemon2.iloc[i]"
      ]
    },
    {
      "cell_type": "code",
      "execution_count": null,
      "metadata": {
        "id": "98sBc1UaXd6B"
      },
      "outputs": [],
      "source": [
        "malicious_lemon = malicious_lemon.transpose()"
      ]
    },
    {
      "cell_type": "code",
      "execution_count": null,
      "metadata": {
        "id": "ywOJMD5tcF8X"
      },
      "outputs": [],
      "source": [
        "class1 = pd.DataFrame()"
      ]
    },
    {
      "cell_type": "code",
      "execution_count": null,
      "metadata": {
        "colab": {
          "base_uri": "https://localhost:8080/",
          "height": 528
        },
        "id": "uGOh_ZjHanen",
        "outputId": "0d2569cd-3795-4cf6-f3f5-bbf27d1dfdbc"
      },
      "outputs": [
        {
          "name": "stderr",
          "output_type": "stream",
          "text": [
            "<ipython-input-51-6f12b94f4982>:2: SettingWithCopyWarning: \n",
            "A value is trying to be set on a copy of a slice from a DataFrame.\n",
            "Try using .loc[row_indexer,col_indexer] = value instead\n",
            "\n",
            "See the caveats in the documentation: https://pandas.pydata.org/pandas-docs/stable/user_guide/indexing.html#returning-a-view-versus-a-copy\n",
            "  class1[1] = lemon2\n"
          ]
        },
        {
          "data": {
            "text/html": [
              "\n",
              "  <div id=\"df-bf3629ee-1208-429c-8dc5-d231f304c78c\">\n",
              "    <div class=\"colab-df-container\">\n",
              "      <div>\n",
              "<style scoped>\n",
              "    .dataframe tbody tr th:only-of-type {\n",
              "        vertical-align: middle;\n",
              "    }\n",
              "\n",
              "    .dataframe tbody tr th {\n",
              "        vertical-align: top;\n",
              "    }\n",
              "\n",
              "    .dataframe thead th {\n",
              "        text-align: right;\n",
              "    }\n",
              "</style>\n",
              "<table border=\"1\" class=\"dataframe\">\n",
              "  <thead>\n",
              "    <tr style=\"text-align: right;\">\n",
              "      <th></th>\n",
              "      <th>0</th>\n",
              "      <th>1</th>\n",
              "    </tr>\n",
              "  </thead>\n",
              "  <tbody>\n",
              "    <tr>\n",
              "      <th>22</th>\n",
              "      <td>1</td>\n",
              "      <td>0.152114</td>\n",
              "    </tr>\n",
              "    <tr>\n",
              "      <th>58</th>\n",
              "      <td>1</td>\n",
              "      <td>0.000000</td>\n",
              "    </tr>\n",
              "    <tr>\n",
              "      <th>83</th>\n",
              "      <td>1</td>\n",
              "      <td>0.157689</td>\n",
              "    </tr>\n",
              "    <tr>\n",
              "      <th>88</th>\n",
              "      <td>1</td>\n",
              "      <td>0.370367</td>\n",
              "    </tr>\n",
              "    <tr>\n",
              "      <th>92</th>\n",
              "      <td>1</td>\n",
              "      <td>0.440806</td>\n",
              "    </tr>\n",
              "    <tr>\n",
              "      <th>...</th>\n",
              "      <td>...</td>\n",
              "      <td>...</td>\n",
              "    </tr>\n",
              "    <tr>\n",
              "      <th>587486</th>\n",
              "      <td>1</td>\n",
              "      <td>0.407330</td>\n",
              "    </tr>\n",
              "    <tr>\n",
              "      <th>587508</th>\n",
              "      <td>1</td>\n",
              "      <td>0.289313</td>\n",
              "    </tr>\n",
              "    <tr>\n",
              "      <th>587524</th>\n",
              "      <td>1</td>\n",
              "      <td>0.759344</td>\n",
              "    </tr>\n",
              "    <tr>\n",
              "      <th>587539</th>\n",
              "      <td>1</td>\n",
              "      <td>0.000000</td>\n",
              "    </tr>\n",
              "    <tr>\n",
              "      <th>587542</th>\n",
              "      <td>1</td>\n",
              "      <td>0.441950</td>\n",
              "    </tr>\n",
              "  </tbody>\n",
              "</table>\n",
              "<p>25610 rows × 2 columns</p>\n",
              "</div>\n",
              "      <button class=\"colab-df-convert\" onclick=\"convertToInteractive('df-bf3629ee-1208-429c-8dc5-d231f304c78c')\"\n",
              "              title=\"Convert this dataframe to an interactive table.\"\n",
              "              style=\"display:none;\">\n",
              "        \n",
              "  <svg xmlns=\"http://www.w3.org/2000/svg\" height=\"24px\"viewBox=\"0 0 24 24\"\n",
              "       width=\"24px\">\n",
              "    <path d=\"M0 0h24v24H0V0z\" fill=\"none\"/>\n",
              "    <path d=\"M18.56 5.44l.94 2.06.94-2.06 2.06-.94-2.06-.94-.94-2.06-.94 2.06-2.06.94zm-11 1L8.5 8.5l.94-2.06 2.06-.94-2.06-.94L8.5 2.5l-.94 2.06-2.06.94zm10 10l.94 2.06.94-2.06 2.06-.94-2.06-.94-.94-2.06-.94 2.06-2.06.94z\"/><path d=\"M17.41 7.96l-1.37-1.37c-.4-.4-.92-.59-1.43-.59-.52 0-1.04.2-1.43.59L10.3 9.45l-7.72 7.72c-.78.78-.78 2.05 0 2.83L4 21.41c.39.39.9.59 1.41.59.51 0 1.02-.2 1.41-.59l7.78-7.78 2.81-2.81c.8-.78.8-2.07 0-2.86zM5.41 20L4 18.59l7.72-7.72 1.47 1.35L5.41 20z\"/>\n",
              "  </svg>\n",
              "      </button>\n",
              "      \n",
              "  <style>\n",
              "    .colab-df-container {\n",
              "      display:flex;\n",
              "      flex-wrap:wrap;\n",
              "      gap: 12px;\n",
              "    }\n",
              "\n",
              "    .colab-df-convert {\n",
              "      background-color: #E8F0FE;\n",
              "      border: none;\n",
              "      border-radius: 50%;\n",
              "      cursor: pointer;\n",
              "      display: none;\n",
              "      fill: #1967D2;\n",
              "      height: 32px;\n",
              "      padding: 0 0 0 0;\n",
              "      width: 32px;\n",
              "    }\n",
              "\n",
              "    .colab-df-convert:hover {\n",
              "      background-color: #E2EBFA;\n",
              "      box-shadow: 0px 1px 2px rgba(60, 64, 67, 0.3), 0px 1px 3px 1px rgba(60, 64, 67, 0.15);\n",
              "      fill: #174EA6;\n",
              "    }\n",
              "\n",
              "    [theme=dark] .colab-df-convert {\n",
              "      background-color: #3B4455;\n",
              "      fill: #D2E3FC;\n",
              "    }\n",
              "\n",
              "    [theme=dark] .colab-df-convert:hover {\n",
              "      background-color: #434B5C;\n",
              "      box-shadow: 0px 1px 3px 1px rgba(0, 0, 0, 0.15);\n",
              "      filter: drop-shadow(0px 1px 2px rgba(0, 0, 0, 0.3));\n",
              "      fill: #FFFFFF;\n",
              "    }\n",
              "  </style>\n",
              "\n",
              "      <script>\n",
              "        const buttonEl =\n",
              "          document.querySelector('#df-bf3629ee-1208-429c-8dc5-d231f304c78c button.colab-df-convert');\n",
              "        buttonEl.style.display =\n",
              "          google.colab.kernel.accessAllowed ? 'block' : 'none';\n",
              "\n",
              "        async function convertToInteractive(key) {\n",
              "          const element = document.querySelector('#df-bf3629ee-1208-429c-8dc5-d231f304c78c');\n",
              "          const dataTable =\n",
              "            await google.colab.kernel.invokeFunction('convertToInteractive',\n",
              "                                                     [key], {});\n",
              "          if (!dataTable) return;\n",
              "\n",
              "          const docLinkHtml = 'Like what you see? Visit the ' +\n",
              "            '<a target=\"_blank\" href=https://colab.research.google.com/notebooks/data_table.ipynb>data table notebook</a>'\n",
              "            + ' to learn more about interactive tables.';\n",
              "          element.innerHTML = '';\n",
              "          dataTable['output_type'] = 'display_data';\n",
              "          await google.colab.output.renderOutput(dataTable, element);\n",
              "          const docLink = document.createElement('div');\n",
              "          docLink.innerHTML = docLinkHtml;\n",
              "          element.appendChild(docLink);\n",
              "        }\n",
              "      </script>\n",
              "    </div>\n",
              "  </div>\n",
              "  "
            ],
            "text/plain": [
              "        0         1\n",
              "22      1  0.152114\n",
              "58      1  0.000000\n",
              "83      1  0.157689\n",
              "88      1  0.370367\n",
              "92      1  0.440806\n",
              "...    ..       ...\n",
              "587486  1  0.407330\n",
              "587508  1  0.289313\n",
              "587524  1  0.759344\n",
              "587539  1  0.000000\n",
              "587542  1  0.441950\n",
              "\n",
              "[25610 rows x 2 columns]"
            ]
          },
          "execution_count": 51,
          "metadata": {},
          "output_type": "execute_result"
        }
      ],
      "source": [
        "class1 = y_malicious_test.loc[y_malicious_test[0] == 1]\n",
        "class1[1] = lemon2\n",
        "class1"
      ]
    },
    {
      "cell_type": "code",
      "execution_count": null,
      "metadata": {
        "colab": {
          "base_uri": "https://localhost:8080/",
          "height": 528
        },
        "id": "p3z8yn4dfcIN",
        "outputId": "02427a8a-7620-42bb-864d-6b6d186225f3"
      },
      "outputs": [
        {
          "name": "stderr",
          "output_type": "stream",
          "text": [
            "<ipython-input-56-8081fd233ce3>:2: SettingWithCopyWarning: \n",
            "A value is trying to be set on a copy of a slice from a DataFrame.\n",
            "Try using .loc[row_indexer,col_indexer] = value instead\n",
            "\n",
            "See the caveats in the documentation: https://pandas.pydata.org/pandas-docs/stable/user_guide/indexing.html#returning-a-view-versus-a-copy\n",
            "  class2[1] = lemon2\n"
          ]
        },
        {
          "data": {
            "text/html": [
              "\n",
              "  <div id=\"df-d55def5c-d243-4277-9922-5011b3b3a206\">\n",
              "    <div class=\"colab-df-container\">\n",
              "      <div>\n",
              "<style scoped>\n",
              "    .dataframe tbody tr th:only-of-type {\n",
              "        vertical-align: middle;\n",
              "    }\n",
              "\n",
              "    .dataframe tbody tr th {\n",
              "        vertical-align: top;\n",
              "    }\n",
              "\n",
              "    .dataframe thead th {\n",
              "        text-align: right;\n",
              "    }\n",
              "</style>\n",
              "<table border=\"1\" class=\"dataframe\">\n",
              "  <thead>\n",
              "    <tr style=\"text-align: right;\">\n",
              "      <th></th>\n",
              "      <th>0</th>\n",
              "      <th>1</th>\n",
              "    </tr>\n",
              "  </thead>\n",
              "  <tbody>\n",
              "    <tr>\n",
              "      <th>19</th>\n",
              "      <td>2</td>\n",
              "      <td>1.0</td>\n",
              "    </tr>\n",
              "    <tr>\n",
              "      <th>52</th>\n",
              "      <td>2</td>\n",
              "      <td>1.0</td>\n",
              "    </tr>\n",
              "    <tr>\n",
              "      <th>102</th>\n",
              "      <td>2</td>\n",
              "      <td>1.0</td>\n",
              "    </tr>\n",
              "    <tr>\n",
              "      <th>112</th>\n",
              "      <td>2</td>\n",
              "      <td>1.0</td>\n",
              "    </tr>\n",
              "    <tr>\n",
              "      <th>115</th>\n",
              "      <td>2</td>\n",
              "      <td>1.0</td>\n",
              "    </tr>\n",
              "    <tr>\n",
              "      <th>...</th>\n",
              "      <td>...</td>\n",
              "      <td>...</td>\n",
              "    </tr>\n",
              "    <tr>\n",
              "      <th>587491</th>\n",
              "      <td>2</td>\n",
              "      <td>1.0</td>\n",
              "    </tr>\n",
              "    <tr>\n",
              "      <th>587514</th>\n",
              "      <td>2</td>\n",
              "      <td>1.0</td>\n",
              "    </tr>\n",
              "    <tr>\n",
              "      <th>587536</th>\n",
              "      <td>2</td>\n",
              "      <td>1.0</td>\n",
              "    </tr>\n",
              "    <tr>\n",
              "      <th>587551</th>\n",
              "      <td>2</td>\n",
              "      <td>1.0</td>\n",
              "    </tr>\n",
              "    <tr>\n",
              "      <th>587556</th>\n",
              "      <td>2</td>\n",
              "      <td>1.0</td>\n",
              "    </tr>\n",
              "  </tbody>\n",
              "</table>\n",
              "<p>31628 rows × 2 columns</p>\n",
              "</div>\n",
              "      <button class=\"colab-df-convert\" onclick=\"convertToInteractive('df-d55def5c-d243-4277-9922-5011b3b3a206')\"\n",
              "              title=\"Convert this dataframe to an interactive table.\"\n",
              "              style=\"display:none;\">\n",
              "        \n",
              "  <svg xmlns=\"http://www.w3.org/2000/svg\" height=\"24px\"viewBox=\"0 0 24 24\"\n",
              "       width=\"24px\">\n",
              "    <path d=\"M0 0h24v24H0V0z\" fill=\"none\"/>\n",
              "    <path d=\"M18.56 5.44l.94 2.06.94-2.06 2.06-.94-2.06-.94-.94-2.06-.94 2.06-2.06.94zm-11 1L8.5 8.5l.94-2.06 2.06-.94-2.06-.94L8.5 2.5l-.94 2.06-2.06.94zm10 10l.94 2.06.94-2.06 2.06-.94-2.06-.94-.94-2.06-.94 2.06-2.06.94z\"/><path d=\"M17.41 7.96l-1.37-1.37c-.4-.4-.92-.59-1.43-.59-.52 0-1.04.2-1.43.59L10.3 9.45l-7.72 7.72c-.78.78-.78 2.05 0 2.83L4 21.41c.39.39.9.59 1.41.59.51 0 1.02-.2 1.41-.59l7.78-7.78 2.81-2.81c.8-.78.8-2.07 0-2.86zM5.41 20L4 18.59l7.72-7.72 1.47 1.35L5.41 20z\"/>\n",
              "  </svg>\n",
              "      </button>\n",
              "      \n",
              "  <style>\n",
              "    .colab-df-container {\n",
              "      display:flex;\n",
              "      flex-wrap:wrap;\n",
              "      gap: 12px;\n",
              "    }\n",
              "\n",
              "    .colab-df-convert {\n",
              "      background-color: #E8F0FE;\n",
              "      border: none;\n",
              "      border-radius: 50%;\n",
              "      cursor: pointer;\n",
              "      display: none;\n",
              "      fill: #1967D2;\n",
              "      height: 32px;\n",
              "      padding: 0 0 0 0;\n",
              "      width: 32px;\n",
              "    }\n",
              "\n",
              "    .colab-df-convert:hover {\n",
              "      background-color: #E2EBFA;\n",
              "      box-shadow: 0px 1px 2px rgba(60, 64, 67, 0.3), 0px 1px 3px 1px rgba(60, 64, 67, 0.15);\n",
              "      fill: #174EA6;\n",
              "    }\n",
              "\n",
              "    [theme=dark] .colab-df-convert {\n",
              "      background-color: #3B4455;\n",
              "      fill: #D2E3FC;\n",
              "    }\n",
              "\n",
              "    [theme=dark] .colab-df-convert:hover {\n",
              "      background-color: #434B5C;\n",
              "      box-shadow: 0px 1px 3px 1px rgba(0, 0, 0, 0.15);\n",
              "      filter: drop-shadow(0px 1px 2px rgba(0, 0, 0, 0.3));\n",
              "      fill: #FFFFFF;\n",
              "    }\n",
              "  </style>\n",
              "\n",
              "      <script>\n",
              "        const buttonEl =\n",
              "          document.querySelector('#df-d55def5c-d243-4277-9922-5011b3b3a206 button.colab-df-convert');\n",
              "        buttonEl.style.display =\n",
              "          google.colab.kernel.accessAllowed ? 'block' : 'none';\n",
              "\n",
              "        async function convertToInteractive(key) {\n",
              "          const element = document.querySelector('#df-d55def5c-d243-4277-9922-5011b3b3a206');\n",
              "          const dataTable =\n",
              "            await google.colab.kernel.invokeFunction('convertToInteractive',\n",
              "                                                     [key], {});\n",
              "          if (!dataTable) return;\n",
              "\n",
              "          const docLinkHtml = 'Like what you see? Visit the ' +\n",
              "            '<a target=\"_blank\" href=https://colab.research.google.com/notebooks/data_table.ipynb>data table notebook</a>'\n",
              "            + ' to learn more about interactive tables.';\n",
              "          element.innerHTML = '';\n",
              "          dataTable['output_type'] = 'display_data';\n",
              "          await google.colab.output.renderOutput(dataTable, element);\n",
              "          const docLink = document.createElement('div');\n",
              "          docLink.innerHTML = docLinkHtml;\n",
              "          element.appendChild(docLink);\n",
              "        }\n",
              "      </script>\n",
              "    </div>\n",
              "  </div>\n",
              "  "
            ],
            "text/plain": [
              "        0    1\n",
              "19      2  1.0\n",
              "52      2  1.0\n",
              "102     2  1.0\n",
              "112     2  1.0\n",
              "115     2  1.0\n",
              "...    ..  ...\n",
              "587491  2  1.0\n",
              "587514  2  1.0\n",
              "587536  2  1.0\n",
              "587551  2  1.0\n",
              "587556  2  1.0\n",
              "\n",
              "[31628 rows x 2 columns]"
            ]
          },
          "execution_count": 56,
          "metadata": {},
          "output_type": "execute_result"
        }
      ],
      "source": [
        "class2 = y_malicious_test.loc[y_malicious_test[0] == 2]\n",
        "class2[1] = lemon2\n",
        "class2"
      ]
    },
    {
      "cell_type": "code",
      "execution_count": null,
      "metadata": {
        "colab": {
          "base_uri": "https://localhost:8080/",
          "height": 528
        },
        "id": "6TLz_Vm4fifT",
        "outputId": "a111657a-0fdd-4a99-db0a-534e3d58c520"
      },
      "outputs": [
        {
          "name": "stderr",
          "output_type": "stream",
          "text": [
            "<ipython-input-57-17275c5b4faa>:2: SettingWithCopyWarning: \n",
            "A value is trying to be set on a copy of a slice from a DataFrame.\n",
            "Try using .loc[row_indexer,col_indexer] = value instead\n",
            "\n",
            "See the caveats in the documentation: https://pandas.pydata.org/pandas-docs/stable/user_guide/indexing.html#returning-a-view-versus-a-copy\n",
            "  class3[1] = lemon2\n"
          ]
        },
        {
          "data": {
            "text/html": [
              "\n",
              "  <div id=\"df-e1ce42f7-3d7c-4a7c-988f-3a0b614c73ae\">\n",
              "    <div class=\"colab-df-container\">\n",
              "      <div>\n",
              "<style scoped>\n",
              "    .dataframe tbody tr th:only-of-type {\n",
              "        vertical-align: middle;\n",
              "    }\n",
              "\n",
              "    .dataframe tbody tr th {\n",
              "        vertical-align: top;\n",
              "    }\n",
              "\n",
              "    .dataframe thead th {\n",
              "        text-align: right;\n",
              "    }\n",
              "</style>\n",
              "<table border=\"1\" class=\"dataframe\">\n",
              "  <thead>\n",
              "    <tr style=\"text-align: right;\">\n",
              "      <th></th>\n",
              "      <th>0</th>\n",
              "      <th>1</th>\n",
              "    </tr>\n",
              "  </thead>\n",
              "  <tbody>\n",
              "    <tr>\n",
              "      <th>42</th>\n",
              "      <td>3</td>\n",
              "      <td>4.794005e-02</td>\n",
              "    </tr>\n",
              "    <tr>\n",
              "      <th>310</th>\n",
              "      <td>3</td>\n",
              "      <td>2.720041e-01</td>\n",
              "    </tr>\n",
              "    <tr>\n",
              "      <th>659</th>\n",
              "      <td>3</td>\n",
              "      <td>4.064334e-09</td>\n",
              "    </tr>\n",
              "    <tr>\n",
              "      <th>1742</th>\n",
              "      <td>3</td>\n",
              "      <td>3.987737e-11</td>\n",
              "    </tr>\n",
              "    <tr>\n",
              "      <th>1945</th>\n",
              "      <td>3</td>\n",
              "      <td>1.000000e+00</td>\n",
              "    </tr>\n",
              "    <tr>\n",
              "      <th>...</th>\n",
              "      <td>...</td>\n",
              "      <td>...</td>\n",
              "    </tr>\n",
              "    <tr>\n",
              "      <th>585944</th>\n",
              "      <td>3</td>\n",
              "      <td>2.451947e-05</td>\n",
              "    </tr>\n",
              "    <tr>\n",
              "      <th>586020</th>\n",
              "      <td>3</td>\n",
              "      <td>0.000000e+00</td>\n",
              "    </tr>\n",
              "    <tr>\n",
              "      <th>586517</th>\n",
              "      <td>3</td>\n",
              "      <td>4.054139e-10</td>\n",
              "    </tr>\n",
              "    <tr>\n",
              "      <th>587014</th>\n",
              "      <td>3</td>\n",
              "      <td>0.000000e+00</td>\n",
              "    </tr>\n",
              "    <tr>\n",
              "      <th>587549</th>\n",
              "      <td>3</td>\n",
              "      <td>2.677886e-10</td>\n",
              "    </tr>\n",
              "  </tbody>\n",
              "</table>\n",
              "<p>2390 rows × 2 columns</p>\n",
              "</div>\n",
              "      <button class=\"colab-df-convert\" onclick=\"convertToInteractive('df-e1ce42f7-3d7c-4a7c-988f-3a0b614c73ae')\"\n",
              "              title=\"Convert this dataframe to an interactive table.\"\n",
              "              style=\"display:none;\">\n",
              "        \n",
              "  <svg xmlns=\"http://www.w3.org/2000/svg\" height=\"24px\"viewBox=\"0 0 24 24\"\n",
              "       width=\"24px\">\n",
              "    <path d=\"M0 0h24v24H0V0z\" fill=\"none\"/>\n",
              "    <path d=\"M18.56 5.44l.94 2.06.94-2.06 2.06-.94-2.06-.94-.94-2.06-.94 2.06-2.06.94zm-11 1L8.5 8.5l.94-2.06 2.06-.94-2.06-.94L8.5 2.5l-.94 2.06-2.06.94zm10 10l.94 2.06.94-2.06 2.06-.94-2.06-.94-.94-2.06-.94 2.06-2.06.94z\"/><path d=\"M17.41 7.96l-1.37-1.37c-.4-.4-.92-.59-1.43-.59-.52 0-1.04.2-1.43.59L10.3 9.45l-7.72 7.72c-.78.78-.78 2.05 0 2.83L4 21.41c.39.39.9.59 1.41.59.51 0 1.02-.2 1.41-.59l7.78-7.78 2.81-2.81c.8-.78.8-2.07 0-2.86zM5.41 20L4 18.59l7.72-7.72 1.47 1.35L5.41 20z\"/>\n",
              "  </svg>\n",
              "      </button>\n",
              "      \n",
              "  <style>\n",
              "    .colab-df-container {\n",
              "      display:flex;\n",
              "      flex-wrap:wrap;\n",
              "      gap: 12px;\n",
              "    }\n",
              "\n",
              "    .colab-df-convert {\n",
              "      background-color: #E8F0FE;\n",
              "      border: none;\n",
              "      border-radius: 50%;\n",
              "      cursor: pointer;\n",
              "      display: none;\n",
              "      fill: #1967D2;\n",
              "      height: 32px;\n",
              "      padding: 0 0 0 0;\n",
              "      width: 32px;\n",
              "    }\n",
              "\n",
              "    .colab-df-convert:hover {\n",
              "      background-color: #E2EBFA;\n",
              "      box-shadow: 0px 1px 2px rgba(60, 64, 67, 0.3), 0px 1px 3px 1px rgba(60, 64, 67, 0.15);\n",
              "      fill: #174EA6;\n",
              "    }\n",
              "\n",
              "    [theme=dark] .colab-df-convert {\n",
              "      background-color: #3B4455;\n",
              "      fill: #D2E3FC;\n",
              "    }\n",
              "\n",
              "    [theme=dark] .colab-df-convert:hover {\n",
              "      background-color: #434B5C;\n",
              "      box-shadow: 0px 1px 3px 1px rgba(0, 0, 0, 0.15);\n",
              "      filter: drop-shadow(0px 1px 2px rgba(0, 0, 0, 0.3));\n",
              "      fill: #FFFFFF;\n",
              "    }\n",
              "  </style>\n",
              "\n",
              "      <script>\n",
              "        const buttonEl =\n",
              "          document.querySelector('#df-e1ce42f7-3d7c-4a7c-988f-3a0b614c73ae button.colab-df-convert');\n",
              "        buttonEl.style.display =\n",
              "          google.colab.kernel.accessAllowed ? 'block' : 'none';\n",
              "\n",
              "        async function convertToInteractive(key) {\n",
              "          const element = document.querySelector('#df-e1ce42f7-3d7c-4a7c-988f-3a0b614c73ae');\n",
              "          const dataTable =\n",
              "            await google.colab.kernel.invokeFunction('convertToInteractive',\n",
              "                                                     [key], {});\n",
              "          if (!dataTable) return;\n",
              "\n",
              "          const docLinkHtml = 'Like what you see? Visit the ' +\n",
              "            '<a target=\"_blank\" href=https://colab.research.google.com/notebooks/data_table.ipynb>data table notebook</a>'\n",
              "            + ' to learn more about interactive tables.';\n",
              "          element.innerHTML = '';\n",
              "          dataTable['output_type'] = 'display_data';\n",
              "          await google.colab.output.renderOutput(dataTable, element);\n",
              "          const docLink = document.createElement('div');\n",
              "          docLink.innerHTML = docLinkHtml;\n",
              "          element.appendChild(docLink);\n",
              "        }\n",
              "      </script>\n",
              "    </div>\n",
              "  </div>\n",
              "  "
            ],
            "text/plain": [
              "        0             1\n",
              "42      3  4.794005e-02\n",
              "310     3  2.720041e-01\n",
              "659     3  4.064334e-09\n",
              "1742    3  3.987737e-11\n",
              "1945    3  1.000000e+00\n",
              "...    ..           ...\n",
              "585944  3  2.451947e-05\n",
              "586020  3  0.000000e+00\n",
              "586517  3  4.054139e-10\n",
              "587014  3  0.000000e+00\n",
              "587549  3  2.677886e-10\n",
              "\n",
              "[2390 rows x 2 columns]"
            ]
          },
          "execution_count": 57,
          "metadata": {},
          "output_type": "execute_result"
        }
      ],
      "source": [
        "class3 = y_malicious_test.loc[y_malicious_test[0] == 3]\n",
        "class3[1] = lemon2\n",
        "class3"
      ]
    },
    {
      "cell_type": "code",
      "execution_count": null,
      "metadata": {
        "colab": {
          "base_uri": "https://localhost:8080/",
          "height": 528
        },
        "id": "SiNxwc7PoPD5",
        "outputId": "a89e66cd-5ed1-4afd-f2ee-68032bf75e8e"
      },
      "outputs": [
        {
          "name": "stderr",
          "output_type": "stream",
          "text": [
            "<ipython-input-58-98f7fd5594c2>:2: SettingWithCopyWarning: \n",
            "A value is trying to be set on a copy of a slice from a DataFrame.\n",
            "Try using .loc[row_indexer,col_indexer] = value instead\n",
            "\n",
            "See the caveats in the documentation: https://pandas.pydata.org/pandas-docs/stable/user_guide/indexing.html#returning-a-view-versus-a-copy\n",
            "  class4[1] = lemon2\n"
          ]
        },
        {
          "data": {
            "text/html": [
              "\n",
              "  <div id=\"df-48688a5b-9700-4ace-80c5-5c62e7abfbe3\">\n",
              "    <div class=\"colab-df-container\">\n",
              "      <div>\n",
              "<style scoped>\n",
              "    .dataframe tbody tr th:only-of-type {\n",
              "        vertical-align: middle;\n",
              "    }\n",
              "\n",
              "    .dataframe tbody tr th {\n",
              "        vertical-align: top;\n",
              "    }\n",
              "\n",
              "    .dataframe thead th {\n",
              "        text-align: right;\n",
              "    }\n",
              "</style>\n",
              "<table border=\"1\" class=\"dataframe\">\n",
              "  <thead>\n",
              "    <tr style=\"text-align: right;\">\n",
              "      <th></th>\n",
              "      <th>0</th>\n",
              "      <th>1</th>\n",
              "    </tr>\n",
              "  </thead>\n",
              "  <tbody>\n",
              "    <tr>\n",
              "      <th>536</th>\n",
              "      <td>4</td>\n",
              "      <td>0.000677</td>\n",
              "    </tr>\n",
              "    <tr>\n",
              "      <th>844</th>\n",
              "      <td>4</td>\n",
              "      <td>0.000552</td>\n",
              "    </tr>\n",
              "    <tr>\n",
              "      <th>908</th>\n",
              "      <td>4</td>\n",
              "      <td>13.598015</td>\n",
              "    </tr>\n",
              "    <tr>\n",
              "      <th>922</th>\n",
              "      <td>4</td>\n",
              "      <td>0.001284</td>\n",
              "    </tr>\n",
              "    <tr>\n",
              "      <th>1005</th>\n",
              "      <td>4</td>\n",
              "      <td>0.006447</td>\n",
              "    </tr>\n",
              "    <tr>\n",
              "      <th>...</th>\n",
              "      <td>...</td>\n",
              "      <td>...</td>\n",
              "    </tr>\n",
              "    <tr>\n",
              "      <th>586826</th>\n",
              "      <td>4</td>\n",
              "      <td>0.000809</td>\n",
              "    </tr>\n",
              "    <tr>\n",
              "      <th>586885</th>\n",
              "      <td>4</td>\n",
              "      <td>9.283755</td>\n",
              "    </tr>\n",
              "    <tr>\n",
              "      <th>587032</th>\n",
              "      <td>4</td>\n",
              "      <td>0.002581</td>\n",
              "    </tr>\n",
              "    <tr>\n",
              "      <th>587267</th>\n",
              "      <td>4</td>\n",
              "      <td>20.281625</td>\n",
              "    </tr>\n",
              "    <tr>\n",
              "      <th>587476</th>\n",
              "      <td>4</td>\n",
              "      <td>0.008604</td>\n",
              "    </tr>\n",
              "  </tbody>\n",
              "</table>\n",
              "<p>2084 rows × 2 columns</p>\n",
              "</div>\n",
              "      <button class=\"colab-df-convert\" onclick=\"convertToInteractive('df-48688a5b-9700-4ace-80c5-5c62e7abfbe3')\"\n",
              "              title=\"Convert this dataframe to an interactive table.\"\n",
              "              style=\"display:none;\">\n",
              "        \n",
              "  <svg xmlns=\"http://www.w3.org/2000/svg\" height=\"24px\"viewBox=\"0 0 24 24\"\n",
              "       width=\"24px\">\n",
              "    <path d=\"M0 0h24v24H0V0z\" fill=\"none\"/>\n",
              "    <path d=\"M18.56 5.44l.94 2.06.94-2.06 2.06-.94-2.06-.94-.94-2.06-.94 2.06-2.06.94zm-11 1L8.5 8.5l.94-2.06 2.06-.94-2.06-.94L8.5 2.5l-.94 2.06-2.06.94zm10 10l.94 2.06.94-2.06 2.06-.94-2.06-.94-.94-2.06-.94 2.06-2.06.94z\"/><path d=\"M17.41 7.96l-1.37-1.37c-.4-.4-.92-.59-1.43-.59-.52 0-1.04.2-1.43.59L10.3 9.45l-7.72 7.72c-.78.78-.78 2.05 0 2.83L4 21.41c.39.39.9.59 1.41.59.51 0 1.02-.2 1.41-.59l7.78-7.78 2.81-2.81c.8-.78.8-2.07 0-2.86zM5.41 20L4 18.59l7.72-7.72 1.47 1.35L5.41 20z\"/>\n",
              "  </svg>\n",
              "      </button>\n",
              "      \n",
              "  <style>\n",
              "    .colab-df-container {\n",
              "      display:flex;\n",
              "      flex-wrap:wrap;\n",
              "      gap: 12px;\n",
              "    }\n",
              "\n",
              "    .colab-df-convert {\n",
              "      background-color: #E8F0FE;\n",
              "      border: none;\n",
              "      border-radius: 50%;\n",
              "      cursor: pointer;\n",
              "      display: none;\n",
              "      fill: #1967D2;\n",
              "      height: 32px;\n",
              "      padding: 0 0 0 0;\n",
              "      width: 32px;\n",
              "    }\n",
              "\n",
              "    .colab-df-convert:hover {\n",
              "      background-color: #E2EBFA;\n",
              "      box-shadow: 0px 1px 2px rgba(60, 64, 67, 0.3), 0px 1px 3px 1px rgba(60, 64, 67, 0.15);\n",
              "      fill: #174EA6;\n",
              "    }\n",
              "\n",
              "    [theme=dark] .colab-df-convert {\n",
              "      background-color: #3B4455;\n",
              "      fill: #D2E3FC;\n",
              "    }\n",
              "\n",
              "    [theme=dark] .colab-df-convert:hover {\n",
              "      background-color: #434B5C;\n",
              "      box-shadow: 0px 1px 3px 1px rgba(0, 0, 0, 0.15);\n",
              "      filter: drop-shadow(0px 1px 2px rgba(0, 0, 0, 0.3));\n",
              "      fill: #FFFFFF;\n",
              "    }\n",
              "  </style>\n",
              "\n",
              "      <script>\n",
              "        const buttonEl =\n",
              "          document.querySelector('#df-48688a5b-9700-4ace-80c5-5c62e7abfbe3 button.colab-df-convert');\n",
              "        buttonEl.style.display =\n",
              "          google.colab.kernel.accessAllowed ? 'block' : 'none';\n",
              "\n",
              "        async function convertToInteractive(key) {\n",
              "          const element = document.querySelector('#df-48688a5b-9700-4ace-80c5-5c62e7abfbe3');\n",
              "          const dataTable =\n",
              "            await google.colab.kernel.invokeFunction('convertToInteractive',\n",
              "                                                     [key], {});\n",
              "          if (!dataTable) return;\n",
              "\n",
              "          const docLinkHtml = 'Like what you see? Visit the ' +\n",
              "            '<a target=\"_blank\" href=https://colab.research.google.com/notebooks/data_table.ipynb>data table notebook</a>'\n",
              "            + ' to learn more about interactive tables.';\n",
              "          element.innerHTML = '';\n",
              "          dataTable['output_type'] = 'display_data';\n",
              "          await google.colab.output.renderOutput(dataTable, element);\n",
              "          const docLink = document.createElement('div');\n",
              "          docLink.innerHTML = docLinkHtml;\n",
              "          element.appendChild(docLink);\n",
              "        }\n",
              "      </script>\n",
              "    </div>\n",
              "  </div>\n",
              "  "
            ],
            "text/plain": [
              "        0          1\n",
              "536     4   0.000677\n",
              "844     4   0.000552\n",
              "908     4  13.598015\n",
              "922     4   0.001284\n",
              "1005    4   0.006447\n",
              "...    ..        ...\n",
              "586826  4   0.000809\n",
              "586885  4   9.283755\n",
              "587032  4   0.002581\n",
              "587267  4  20.281625\n",
              "587476  4   0.008604\n",
              "\n",
              "[2084 rows x 2 columns]"
            ]
          },
          "execution_count": 58,
          "metadata": {},
          "output_type": "execute_result"
        }
      ],
      "source": [
        "class4 = y_malicious_test.loc[y_malicious_test[0] == 4]\n",
        "class4[1] = lemon2\n",
        "class4"
      ]
    },
    {
      "cell_type": "code",
      "execution_count": null,
      "metadata": {
        "colab": {
          "base_uri": "https://localhost:8080/",
          "height": 528
        },
        "id": "B8KHbuLAofZb",
        "outputId": "4b7c558f-024f-4ffd-8efd-179323cd3a85"
      },
      "outputs": [
        {
          "name": "stderr",
          "output_type": "stream",
          "text": [
            "<ipython-input-59-58252b42e59c>:2: SettingWithCopyWarning: \n",
            "A value is trying to be set on a copy of a slice from a DataFrame.\n",
            "Try using .loc[row_indexer,col_indexer] = value instead\n",
            "\n",
            "See the caveats in the documentation: https://pandas.pydata.org/pandas-docs/stable/user_guide/indexing.html#returning-a-view-versus-a-copy\n",
            "  class5[1] = lemon2\n"
          ]
        },
        {
          "data": {
            "text/html": [
              "\n",
              "  <div id=\"df-0184270a-9232-4b3b-9774-e4253fbeeaa4\">\n",
              "    <div class=\"colab-df-container\">\n",
              "      <div>\n",
              "<style scoped>\n",
              "    .dataframe tbody tr th:only-of-type {\n",
              "        vertical-align: middle;\n",
              "    }\n",
              "\n",
              "    .dataframe tbody tr th {\n",
              "        vertical-align: top;\n",
              "    }\n",
              "\n",
              "    .dataframe thead th {\n",
              "        text-align: right;\n",
              "    }\n",
              "</style>\n",
              "<table border=\"1\" class=\"dataframe\">\n",
              "  <thead>\n",
              "    <tr style=\"text-align: right;\">\n",
              "      <th></th>\n",
              "      <th>0</th>\n",
              "      <th>1</th>\n",
              "    </tr>\n",
              "  </thead>\n",
              "  <tbody>\n",
              "    <tr>\n",
              "      <th>175</th>\n",
              "      <td>5</td>\n",
              "      <td>0.000000</td>\n",
              "    </tr>\n",
              "    <tr>\n",
              "      <th>220</th>\n",
              "      <td>5</td>\n",
              "      <td>0.000000</td>\n",
              "    </tr>\n",
              "    <tr>\n",
              "      <th>270</th>\n",
              "      <td>5</td>\n",
              "      <td>0.000000</td>\n",
              "    </tr>\n",
              "    <tr>\n",
              "      <th>287</th>\n",
              "      <td>5</td>\n",
              "      <td>0.000000</td>\n",
              "    </tr>\n",
              "    <tr>\n",
              "      <th>951</th>\n",
              "      <td>5</td>\n",
              "      <td>0.006248</td>\n",
              "    </tr>\n",
              "    <tr>\n",
              "      <th>...</th>\n",
              "      <td>...</td>\n",
              "      <td>...</td>\n",
              "    </tr>\n",
              "    <tr>\n",
              "      <th>586779</th>\n",
              "      <td>5</td>\n",
              "      <td>0.000000</td>\n",
              "    </tr>\n",
              "    <tr>\n",
              "      <th>587066</th>\n",
              "      <td>5</td>\n",
              "      <td>0.000601</td>\n",
              "    </tr>\n",
              "    <tr>\n",
              "      <th>587146</th>\n",
              "      <td>5</td>\n",
              "      <td>0.000000</td>\n",
              "    </tr>\n",
              "    <tr>\n",
              "      <th>587189</th>\n",
              "      <td>5</td>\n",
              "      <td>0.000024</td>\n",
              "    </tr>\n",
              "    <tr>\n",
              "      <th>587242</th>\n",
              "      <td>5</td>\n",
              "      <td>0.000000</td>\n",
              "    </tr>\n",
              "  </tbody>\n",
              "</table>\n",
              "<p>2281 rows × 2 columns</p>\n",
              "</div>\n",
              "      <button class=\"colab-df-convert\" onclick=\"convertToInteractive('df-0184270a-9232-4b3b-9774-e4253fbeeaa4')\"\n",
              "              title=\"Convert this dataframe to an interactive table.\"\n",
              "              style=\"display:none;\">\n",
              "        \n",
              "  <svg xmlns=\"http://www.w3.org/2000/svg\" height=\"24px\"viewBox=\"0 0 24 24\"\n",
              "       width=\"24px\">\n",
              "    <path d=\"M0 0h24v24H0V0z\" fill=\"none\"/>\n",
              "    <path d=\"M18.56 5.44l.94 2.06.94-2.06 2.06-.94-2.06-.94-.94-2.06-.94 2.06-2.06.94zm-11 1L8.5 8.5l.94-2.06 2.06-.94-2.06-.94L8.5 2.5l-.94 2.06-2.06.94zm10 10l.94 2.06.94-2.06 2.06-.94-2.06-.94-.94-2.06-.94 2.06-2.06.94z\"/><path d=\"M17.41 7.96l-1.37-1.37c-.4-.4-.92-.59-1.43-.59-.52 0-1.04.2-1.43.59L10.3 9.45l-7.72 7.72c-.78.78-.78 2.05 0 2.83L4 21.41c.39.39.9.59 1.41.59.51 0 1.02-.2 1.41-.59l7.78-7.78 2.81-2.81c.8-.78.8-2.07 0-2.86zM5.41 20L4 18.59l7.72-7.72 1.47 1.35L5.41 20z\"/>\n",
              "  </svg>\n",
              "      </button>\n",
              "      \n",
              "  <style>\n",
              "    .colab-df-container {\n",
              "      display:flex;\n",
              "      flex-wrap:wrap;\n",
              "      gap: 12px;\n",
              "    }\n",
              "\n",
              "    .colab-df-convert {\n",
              "      background-color: #E8F0FE;\n",
              "      border: none;\n",
              "      border-radius: 50%;\n",
              "      cursor: pointer;\n",
              "      display: none;\n",
              "      fill: #1967D2;\n",
              "      height: 32px;\n",
              "      padding: 0 0 0 0;\n",
              "      width: 32px;\n",
              "    }\n",
              "\n",
              "    .colab-df-convert:hover {\n",
              "      background-color: #E2EBFA;\n",
              "      box-shadow: 0px 1px 2px rgba(60, 64, 67, 0.3), 0px 1px 3px 1px rgba(60, 64, 67, 0.15);\n",
              "      fill: #174EA6;\n",
              "    }\n",
              "\n",
              "    [theme=dark] .colab-df-convert {\n",
              "      background-color: #3B4455;\n",
              "      fill: #D2E3FC;\n",
              "    }\n",
              "\n",
              "    [theme=dark] .colab-df-convert:hover {\n",
              "      background-color: #434B5C;\n",
              "      box-shadow: 0px 1px 3px 1px rgba(0, 0, 0, 0.15);\n",
              "      filter: drop-shadow(0px 1px 2px rgba(0, 0, 0, 0.3));\n",
              "      fill: #FFFFFF;\n",
              "    }\n",
              "  </style>\n",
              "\n",
              "      <script>\n",
              "        const buttonEl =\n",
              "          document.querySelector('#df-0184270a-9232-4b3b-9774-e4253fbeeaa4 button.colab-df-convert');\n",
              "        buttonEl.style.display =\n",
              "          google.colab.kernel.accessAllowed ? 'block' : 'none';\n",
              "\n",
              "        async function convertToInteractive(key) {\n",
              "          const element = document.querySelector('#df-0184270a-9232-4b3b-9774-e4253fbeeaa4');\n",
              "          const dataTable =\n",
              "            await google.colab.kernel.invokeFunction('convertToInteractive',\n",
              "                                                     [key], {});\n",
              "          if (!dataTable) return;\n",
              "\n",
              "          const docLinkHtml = 'Like what you see? Visit the ' +\n",
              "            '<a target=\"_blank\" href=https://colab.research.google.com/notebooks/data_table.ipynb>data table notebook</a>'\n",
              "            + ' to learn more about interactive tables.';\n",
              "          element.innerHTML = '';\n",
              "          dataTable['output_type'] = 'display_data';\n",
              "          await google.colab.output.renderOutput(dataTable, element);\n",
              "          const docLink = document.createElement('div');\n",
              "          docLink.innerHTML = docLinkHtml;\n",
              "          element.appendChild(docLink);\n",
              "        }\n",
              "      </script>\n",
              "    </div>\n",
              "  </div>\n",
              "  "
            ],
            "text/plain": [
              "        0         1\n",
              "175     5  0.000000\n",
              "220     5  0.000000\n",
              "270     5  0.000000\n",
              "287     5  0.000000\n",
              "951     5  0.006248\n",
              "...    ..       ...\n",
              "586779  5  0.000000\n",
              "587066  5  0.000601\n",
              "587146  5  0.000000\n",
              "587189  5  0.000024\n",
              "587242  5  0.000000\n",
              "\n",
              "[2281 rows x 2 columns]"
            ]
          },
          "execution_count": 59,
          "metadata": {},
          "output_type": "execute_result"
        }
      ],
      "source": [
        "class5 = y_malicious_test.loc[y_malicious_test[0] == 5]\n",
        "class5[1] = lemon2\n",
        "class5"
      ]
    },
    {
      "cell_type": "code",
      "execution_count": null,
      "metadata": {
        "colab": {
          "base_uri": "https://localhost:8080/",
          "height": 528
        },
        "id": "sbPsb3rcoqP8",
        "outputId": "82456ca2-6018-41db-8c66-9121da14772c"
      },
      "outputs": [
        {
          "name": "stderr",
          "output_type": "stream",
          "text": [
            "<ipython-input-60-0d30c1c583f2>:2: SettingWithCopyWarning: \n",
            "A value is trying to be set on a copy of a slice from a DataFrame.\n",
            "Try using .loc[row_indexer,col_indexer] = value instead\n",
            "\n",
            "See the caveats in the documentation: https://pandas.pydata.org/pandas-docs/stable/user_guide/indexing.html#returning-a-view-versus-a-copy\n",
            "  class6[1] = lemon2\n"
          ]
        },
        {
          "data": {
            "text/html": [
              "\n",
              "  <div id=\"df-eb0d615d-fc92-4809-8f58-33bbdc4c3dcf\">\n",
              "    <div class=\"colab-df-container\">\n",
              "      <div>\n",
              "<style scoped>\n",
              "    .dataframe tbody tr th:only-of-type {\n",
              "        vertical-align: middle;\n",
              "    }\n",
              "\n",
              "    .dataframe tbody tr th {\n",
              "        vertical-align: top;\n",
              "    }\n",
              "\n",
              "    .dataframe thead th {\n",
              "        text-align: right;\n",
              "    }\n",
              "</style>\n",
              "<table border=\"1\" class=\"dataframe\">\n",
              "  <thead>\n",
              "    <tr style=\"text-align: right;\">\n",
              "      <th></th>\n",
              "      <th>0</th>\n",
              "      <th>1</th>\n",
              "    </tr>\n",
              "  </thead>\n",
              "  <tbody>\n",
              "    <tr>\n",
              "      <th>84</th>\n",
              "      <td>6</td>\n",
              "      <td>6.389467e-08</td>\n",
              "    </tr>\n",
              "    <tr>\n",
              "      <th>334</th>\n",
              "      <td>6</td>\n",
              "      <td>0.000000e+00</td>\n",
              "    </tr>\n",
              "    <tr>\n",
              "      <th>359</th>\n",
              "      <td>6</td>\n",
              "      <td>2.025529e-06</td>\n",
              "    </tr>\n",
              "    <tr>\n",
              "      <th>742</th>\n",
              "      <td>6</td>\n",
              "      <td>2.282923e-05</td>\n",
              "    </tr>\n",
              "    <tr>\n",
              "      <th>890</th>\n",
              "      <td>6</td>\n",
              "      <td>0.000000e+00</td>\n",
              "    </tr>\n",
              "    <tr>\n",
              "      <th>...</th>\n",
              "      <td>...</td>\n",
              "      <td>...</td>\n",
              "    </tr>\n",
              "    <tr>\n",
              "      <th>585910</th>\n",
              "      <td>6</td>\n",
              "      <td>0.000000e+00</td>\n",
              "    </tr>\n",
              "    <tr>\n",
              "      <th>585984</th>\n",
              "      <td>6</td>\n",
              "      <td>0.000000e+00</td>\n",
              "    </tr>\n",
              "    <tr>\n",
              "      <th>586340</th>\n",
              "      <td>6</td>\n",
              "      <td>3.834675e-06</td>\n",
              "    </tr>\n",
              "    <tr>\n",
              "      <th>586559</th>\n",
              "      <td>6</td>\n",
              "      <td>0.000000e+00</td>\n",
              "    </tr>\n",
              "    <tr>\n",
              "      <th>587548</th>\n",
              "      <td>6</td>\n",
              "      <td>0.000000e+00</td>\n",
              "    </tr>\n",
              "  </tbody>\n",
              "</table>\n",
              "<p>2176 rows × 2 columns</p>\n",
              "</div>\n",
              "      <button class=\"colab-df-convert\" onclick=\"convertToInteractive('df-eb0d615d-fc92-4809-8f58-33bbdc4c3dcf')\"\n",
              "              title=\"Convert this dataframe to an interactive table.\"\n",
              "              style=\"display:none;\">\n",
              "        \n",
              "  <svg xmlns=\"http://www.w3.org/2000/svg\" height=\"24px\"viewBox=\"0 0 24 24\"\n",
              "       width=\"24px\">\n",
              "    <path d=\"M0 0h24v24H0V0z\" fill=\"none\"/>\n",
              "    <path d=\"M18.56 5.44l.94 2.06.94-2.06 2.06-.94-2.06-.94-.94-2.06-.94 2.06-2.06.94zm-11 1L8.5 8.5l.94-2.06 2.06-.94-2.06-.94L8.5 2.5l-.94 2.06-2.06.94zm10 10l.94 2.06.94-2.06 2.06-.94-2.06-.94-.94-2.06-.94 2.06-2.06.94z\"/><path d=\"M17.41 7.96l-1.37-1.37c-.4-.4-.92-.59-1.43-.59-.52 0-1.04.2-1.43.59L10.3 9.45l-7.72 7.72c-.78.78-.78 2.05 0 2.83L4 21.41c.39.39.9.59 1.41.59.51 0 1.02-.2 1.41-.59l7.78-7.78 2.81-2.81c.8-.78.8-2.07 0-2.86zM5.41 20L4 18.59l7.72-7.72 1.47 1.35L5.41 20z\"/>\n",
              "  </svg>\n",
              "      </button>\n",
              "      \n",
              "  <style>\n",
              "    .colab-df-container {\n",
              "      display:flex;\n",
              "      flex-wrap:wrap;\n",
              "      gap: 12px;\n",
              "    }\n",
              "\n",
              "    .colab-df-convert {\n",
              "      background-color: #E8F0FE;\n",
              "      border: none;\n",
              "      border-radius: 50%;\n",
              "      cursor: pointer;\n",
              "      display: none;\n",
              "      fill: #1967D2;\n",
              "      height: 32px;\n",
              "      padding: 0 0 0 0;\n",
              "      width: 32px;\n",
              "    }\n",
              "\n",
              "    .colab-df-convert:hover {\n",
              "      background-color: #E2EBFA;\n",
              "      box-shadow: 0px 1px 2px rgba(60, 64, 67, 0.3), 0px 1px 3px 1px rgba(60, 64, 67, 0.15);\n",
              "      fill: #174EA6;\n",
              "    }\n",
              "\n",
              "    [theme=dark] .colab-df-convert {\n",
              "      background-color: #3B4455;\n",
              "      fill: #D2E3FC;\n",
              "    }\n",
              "\n",
              "    [theme=dark] .colab-df-convert:hover {\n",
              "      background-color: #434B5C;\n",
              "      box-shadow: 0px 1px 3px 1px rgba(0, 0, 0, 0.15);\n",
              "      filter: drop-shadow(0px 1px 2px rgba(0, 0, 0, 0.3));\n",
              "      fill: #FFFFFF;\n",
              "    }\n",
              "  </style>\n",
              "\n",
              "      <script>\n",
              "        const buttonEl =\n",
              "          document.querySelector('#df-eb0d615d-fc92-4809-8f58-33bbdc4c3dcf button.colab-df-convert');\n",
              "        buttonEl.style.display =\n",
              "          google.colab.kernel.accessAllowed ? 'block' : 'none';\n",
              "\n",
              "        async function convertToInteractive(key) {\n",
              "          const element = document.querySelector('#df-eb0d615d-fc92-4809-8f58-33bbdc4c3dcf');\n",
              "          const dataTable =\n",
              "            await google.colab.kernel.invokeFunction('convertToInteractive',\n",
              "                                                     [key], {});\n",
              "          if (!dataTable) return;\n",
              "\n",
              "          const docLinkHtml = 'Like what you see? Visit the ' +\n",
              "            '<a target=\"_blank\" href=https://colab.research.google.com/notebooks/data_table.ipynb>data table notebook</a>'\n",
              "            + ' to learn more about interactive tables.';\n",
              "          element.innerHTML = '';\n",
              "          dataTable['output_type'] = 'display_data';\n",
              "          await google.colab.output.renderOutput(dataTable, element);\n",
              "          const docLink = document.createElement('div');\n",
              "          docLink.innerHTML = docLinkHtml;\n",
              "          element.appendChild(docLink);\n",
              "        }\n",
              "      </script>\n",
              "    </div>\n",
              "  </div>\n",
              "  "
            ],
            "text/plain": [
              "        0             1\n",
              "84      6  6.389467e-08\n",
              "334     6  0.000000e+00\n",
              "359     6  2.025529e-06\n",
              "742     6  2.282923e-05\n",
              "890     6  0.000000e+00\n",
              "...    ..           ...\n",
              "585910  6  0.000000e+00\n",
              "585984  6  0.000000e+00\n",
              "586340  6  3.834675e-06\n",
              "586559  6  0.000000e+00\n",
              "587548  6  0.000000e+00\n",
              "\n",
              "[2176 rows x 2 columns]"
            ]
          },
          "execution_count": 60,
          "metadata": {},
          "output_type": "execute_result"
        }
      ],
      "source": [
        "class6 = y_malicious_test.loc[y_malicious_test[0] == 6]\n",
        "class6[1] = lemon2\n",
        "class6"
      ]
    },
    {
      "cell_type": "code",
      "execution_count": null,
      "metadata": {
        "id": "2DiZNWxGoyNe"
      },
      "outputs": [],
      "source": [
        "class7 = y_malicious_test.loc[y_malicious_test[0] == 6]\n",
        "class7[1] = lemon2\n",
        "class7"
      ]
    },
    {
      "cell_type": "code",
      "execution_count": null,
      "metadata": {
        "id": "0Zes47M6pD4c"
      },
      "outputs": [],
      "source": [
        "from sklearn.cluster import KMeans\n",
        "kmeans = KMeans(\n",
        "init=\"random\",\n",
        "n_clusters=15,\n",
        "n_init=50,\n",
        "max_iter=100,\n",
        "random_state=0\n",
        ")"
      ]
    },
    {
      "cell_type": "code",
      "execution_count": null,
      "metadata": {
        "colab": {
          "base_uri": "https://localhost:8080/"
        },
        "id": "eorOQVn8qKoL",
        "outputId": "f936341a-033c-40b7-fb92-9e28fd2cb20f"
      },
      "outputs": [
        {
          "data": {
            "text/plain": [
              "KMeans(init='random', max_iter=100, n_clusters=15, n_init=50, random_state=0)"
            ]
          },
          "execution_count": 104,
          "metadata": {},
          "output_type": "execute_result"
        }
      ],
      "source": [
        "kmeans.fit(malicious_lemon)"
      ]
    },
    {
      "cell_type": "code",
      "execution_count": null,
      "metadata": {
        "id": "kvkBwpMAqWFX"
      },
      "outputs": [],
      "source": [
        "wtf = pd.DataFrame(kmeans.labels_[:])"
      ]
    },
    {
      "cell_type": "code",
      "execution_count": null,
      "metadata": {
        "colab": {
          "base_uri": "https://localhost:8080/",
          "height": 528
        },
        "id": "OVyfFTLlq0Ry",
        "outputId": "baf2c315-2f71-48f5-c12c-df29bb197cc8"
      },
      "outputs": [
        {
          "name": "stderr",
          "output_type": "stream",
          "text": [
            "<ipython-input-107-eb410eaf32ec>:2: SettingWithCopyWarning: \n",
            "A value is trying to be set on a copy of a slice from a DataFrame.\n",
            "Try using .loc[row_indexer,col_indexer] = value instead\n",
            "\n",
            "See the caveats in the documentation: https://pandas.pydata.org/pandas-docs/stable/user_guide/indexing.html#returning-a-view-versus-a-copy\n",
            "  final[1] = wtf\n"
          ]
        },
        {
          "data": {
            "text/html": [
              "\n",
              "  <div id=\"df-da16698e-046d-4d98-b6b3-a96664d24cba\">\n",
              "    <div class=\"colab-df-container\">\n",
              "      <div>\n",
              "<style scoped>\n",
              "    .dataframe tbody tr th:only-of-type {\n",
              "        vertical-align: middle;\n",
              "    }\n",
              "\n",
              "    .dataframe tbody tr th {\n",
              "        vertical-align: top;\n",
              "    }\n",
              "\n",
              "    .dataframe thead th {\n",
              "        text-align: right;\n",
              "    }\n",
              "</style>\n",
              "<table border=\"1\" class=\"dataframe\">\n",
              "  <thead>\n",
              "    <tr style=\"text-align: right;\">\n",
              "      <th></th>\n",
              "      <th>0</th>\n",
              "      <th>1</th>\n",
              "    </tr>\n",
              "  </thead>\n",
              "  <tbody>\n",
              "    <tr>\n",
              "      <th>1</th>\n",
              "      <td>13</td>\n",
              "      <td>8.0</td>\n",
              "    </tr>\n",
              "    <tr>\n",
              "      <th>19</th>\n",
              "      <td>2</td>\n",
              "      <td>7.0</td>\n",
              "    </tr>\n",
              "    <tr>\n",
              "      <th>22</th>\n",
              "      <td>1</td>\n",
              "      <td>5.0</td>\n",
              "    </tr>\n",
              "    <tr>\n",
              "      <th>27</th>\n",
              "      <td>12</td>\n",
              "      <td>8.0</td>\n",
              "    </tr>\n",
              "    <tr>\n",
              "      <th>28</th>\n",
              "      <td>14</td>\n",
              "      <td>8.0</td>\n",
              "    </tr>\n",
              "    <tr>\n",
              "      <th>...</th>\n",
              "      <td>...</td>\n",
              "      <td>...</td>\n",
              "    </tr>\n",
              "    <tr>\n",
              "      <th>587551</th>\n",
              "      <td>2</td>\n",
              "      <td>NaN</td>\n",
              "    </tr>\n",
              "    <tr>\n",
              "      <th>587553</th>\n",
              "      <td>12</td>\n",
              "      <td>NaN</td>\n",
              "    </tr>\n",
              "    <tr>\n",
              "      <th>587556</th>\n",
              "      <td>2</td>\n",
              "      <td>NaN</td>\n",
              "    </tr>\n",
              "    <tr>\n",
              "      <th>587560</th>\n",
              "      <td>9</td>\n",
              "      <td>NaN</td>\n",
              "    </tr>\n",
              "    <tr>\n",
              "      <th>587567</th>\n",
              "      <td>12</td>\n",
              "      <td>NaN</td>\n",
              "    </tr>\n",
              "  </tbody>\n",
              "</table>\n",
              "<p>133356 rows × 2 columns</p>\n",
              "</div>\n",
              "      <button class=\"colab-df-convert\" onclick=\"convertToInteractive('df-da16698e-046d-4d98-b6b3-a96664d24cba')\"\n",
              "              title=\"Convert this dataframe to an interactive table.\"\n",
              "              style=\"display:none;\">\n",
              "        \n",
              "  <svg xmlns=\"http://www.w3.org/2000/svg\" height=\"24px\"viewBox=\"0 0 24 24\"\n",
              "       width=\"24px\">\n",
              "    <path d=\"M0 0h24v24H0V0z\" fill=\"none\"/>\n",
              "    <path d=\"M18.56 5.44l.94 2.06.94-2.06 2.06-.94-2.06-.94-.94-2.06-.94 2.06-2.06.94zm-11 1L8.5 8.5l.94-2.06 2.06-.94-2.06-.94L8.5 2.5l-.94 2.06-2.06.94zm10 10l.94 2.06.94-2.06 2.06-.94-2.06-.94-.94-2.06-.94 2.06-2.06.94z\"/><path d=\"M17.41 7.96l-1.37-1.37c-.4-.4-.92-.59-1.43-.59-.52 0-1.04.2-1.43.59L10.3 9.45l-7.72 7.72c-.78.78-.78 2.05 0 2.83L4 21.41c.39.39.9.59 1.41.59.51 0 1.02-.2 1.41-.59l7.78-7.78 2.81-2.81c.8-.78.8-2.07 0-2.86zM5.41 20L4 18.59l7.72-7.72 1.47 1.35L5.41 20z\"/>\n",
              "  </svg>\n",
              "      </button>\n",
              "      \n",
              "  <style>\n",
              "    .colab-df-container {\n",
              "      display:flex;\n",
              "      flex-wrap:wrap;\n",
              "      gap: 12px;\n",
              "    }\n",
              "\n",
              "    .colab-df-convert {\n",
              "      background-color: #E8F0FE;\n",
              "      border: none;\n",
              "      border-radius: 50%;\n",
              "      cursor: pointer;\n",
              "      display: none;\n",
              "      fill: #1967D2;\n",
              "      height: 32px;\n",
              "      padding: 0 0 0 0;\n",
              "      width: 32px;\n",
              "    }\n",
              "\n",
              "    .colab-df-convert:hover {\n",
              "      background-color: #E2EBFA;\n",
              "      box-shadow: 0px 1px 2px rgba(60, 64, 67, 0.3), 0px 1px 3px 1px rgba(60, 64, 67, 0.15);\n",
              "      fill: #174EA6;\n",
              "    }\n",
              "\n",
              "    [theme=dark] .colab-df-convert {\n",
              "      background-color: #3B4455;\n",
              "      fill: #D2E3FC;\n",
              "    }\n",
              "\n",
              "    [theme=dark] .colab-df-convert:hover {\n",
              "      background-color: #434B5C;\n",
              "      box-shadow: 0px 1px 3px 1px rgba(0, 0, 0, 0.15);\n",
              "      filter: drop-shadow(0px 1px 2px rgba(0, 0, 0, 0.3));\n",
              "      fill: #FFFFFF;\n",
              "    }\n",
              "  </style>\n",
              "\n",
              "      <script>\n",
              "        const buttonEl =\n",
              "          document.querySelector('#df-da16698e-046d-4d98-b6b3-a96664d24cba button.colab-df-convert');\n",
              "        buttonEl.style.display =\n",
              "          google.colab.kernel.accessAllowed ? 'block' : 'none';\n",
              "\n",
              "        async function convertToInteractive(key) {\n",
              "          const element = document.querySelector('#df-da16698e-046d-4d98-b6b3-a96664d24cba');\n",
              "          const dataTable =\n",
              "            await google.colab.kernel.invokeFunction('convertToInteractive',\n",
              "                                                     [key], {});\n",
              "          if (!dataTable) return;\n",
              "\n",
              "          const docLinkHtml = 'Like what you see? Visit the ' +\n",
              "            '<a target=\"_blank\" href=https://colab.research.google.com/notebooks/data_table.ipynb>data table notebook</a>'\n",
              "            + ' to learn more about interactive tables.';\n",
              "          element.innerHTML = '';\n",
              "          dataTable['output_type'] = 'display_data';\n",
              "          await google.colab.output.renderOutput(dataTable, element);\n",
              "          const docLink = document.createElement('div');\n",
              "          docLink.innerHTML = docLinkHtml;\n",
              "          element.appendChild(docLink);\n",
              "        }\n",
              "      </script>\n",
              "    </div>\n",
              "  </div>\n",
              "  "
            ],
            "text/plain": [
              "         0    1\n",
              "1       13  8.0\n",
              "19       2  7.0\n",
              "22       1  5.0\n",
              "27      12  8.0\n",
              "28      14  8.0\n",
              "...     ..  ...\n",
              "587551   2  NaN\n",
              "587553  12  NaN\n",
              "587556   2  NaN\n",
              "587560   9  NaN\n",
              "587567  12  NaN\n",
              "\n",
              "[133356 rows x 2 columns]"
            ]
          },
          "execution_count": 107,
          "metadata": {},
          "output_type": "execute_result"
        }
      ],
      "source": [
        "final = y_malicious_test\n",
        "final[1] = wtf\n",
        "final"
      ]
    },
    {
      "cell_type": "code",
      "execution_count": null,
      "metadata": {
        "id": "UdfoN-kTralt"
      },
      "outputs": [],
      "source": [
        "final.to_csv('wtf.csv')"
      ]
    },
    {
      "cell_type": "code",
      "execution_count": null,
      "metadata": {
        "id": "x8UaO0c6jQ-_"
      },
      "outputs": [],
      "source": []
    },
    {
      "cell_type": "code",
      "execution_count": null,
      "metadata": {
        "id": "7-JZPmdcjTTi"
      },
      "outputs": [],
      "source": []
    },
    {
      "cell_type": "markdown",
      "metadata": {
        "id": "l3sTCxfz72-l"
      },
      "source": [
        "# Real GP"
      ]
    },
    {
      "cell_type": "code",
      "execution_count": null,
      "metadata": {
        "colab": {
          "base_uri": "https://localhost:8080/"
        },
        "id": "79msBdfJjVdX",
        "outputId": "8414c8eb-f863-4586-85db-6bc1b0da39d9"
      },
      "outputs": [
        {
          "name": "stdout",
          "output_type": "stream",
          "text": [
            "Looking in indexes: https://pypi.org/simple, https://us-python.pkg.dev/colab-wheels/public/simple/\n",
            "Collecting gplearn\n",
            "  Downloading gplearn-0.4.2-py3-none-any.whl (25 kB)\n",
            "Requirement already satisfied: scikit-learn>=1.0.2 in /usr/local/lib/python3.8/dist-packages (from gplearn) (1.0.2)\n",
            "Requirement already satisfied: joblib>=1.0.0 in /usr/local/lib/python3.8/dist-packages (from gplearn) (1.2.0)\n",
            "Requirement already satisfied: threadpoolctl>=2.0.0 in /usr/local/lib/python3.8/dist-packages (from scikit-learn>=1.0.2->gplearn) (3.1.0)\n",
            "Requirement already satisfied: scipy>=1.1.0 in /usr/local/lib/python3.8/dist-packages (from scikit-learn>=1.0.2->gplearn) (1.7.3)\n",
            "Requirement already satisfied: numpy>=1.14.6 in /usr/local/lib/python3.8/dist-packages (from scikit-learn>=1.0.2->gplearn) (1.21.6)\n",
            "Installing collected packages: gplearn\n",
            "Successfully installed gplearn-0.4.2\n",
            "Mounted at /content/drive\n"
          ]
        }
      ],
      "source": [
        "!pip install gplearn\n",
        "import os\n",
        "import pandas as pd\n",
        "import numpy as np\n",
        "import sklearn.ensemble as sk_ensemble\n",
        "import sklearn.model_selection as sk_model_select\n",
        "from sklearn.metrics import accuracy_score\n",
        "import os\n",
        "import pandas as pd\n",
        "import numpy as np\n",
        "import sklearn.ensemble as sk_ensemble\n",
        "import sklearn.model_selection as sk_model_select\n",
        "from sklearn.metrics import accuracy_score\n",
        "from google.colab import drive\n",
        "import gplearn as g\n",
        "from gplearn import genetic as g\n",
        "import gplearn\n",
        "import pandas as pd\n",
        "import numpy as np\n",
        "from sklearn.model_selection import train_test_split\n",
        "from google.colab import drive\n",
        "drive.mount('/content/drive')"
      ]
    },
    {
      "cell_type": "code",
      "execution_count": null,
      "metadata": {
        "id": "nOUUx3sU4i_j"
      },
      "outputs": [],
      "source": [
        "net_data = pd.read_csv('/content/drive/MyDrive/Le_Data/CICIDS2017_BENIGN_redo.csv')"
      ]
    },
    {
      "cell_type": "code",
      "execution_count": null,
      "metadata": {
        "colab": {
          "base_uri": "https://localhost:8080/"
        },
        "id": "PO5M1eDRxsnN",
        "outputId": "a3671f98-5d60-4f6f-c5a6-1d5d6845934b"
      },
      "outputs": [
        {
          "name": "stdout",
          "output_type": "stream",
          "text": [
            "Size of Benign: 2271320, Size of Attacks: 666556\n"
          ]
        }
      ],
      "source": [
        "attacks = net_data.loc[net_data['Label'] != 'BENIGN']\n",
        "attacks\n",
        "benign = net_data.loc[net_data['Label'] == 'BENIGN']\n",
        "benign\n",
        "print(\"Size of Benign: {}, Size of Attacks: {}\".format(len(benign), len(attacks)))"
      ]
    },
    {
      "cell_type": "code",
      "execution_count": null,
      "metadata": {
        "colab": {
          "base_uri": "https://localhost:8080/",
          "height": 486
        },
        "id": "kEI_4nAM0LIx",
        "outputId": "3274d4db-6372-4daf-bdbd-3fe021225cca"
      },
      "outputs": [
        {
          "data": {
            "text/html": [
              "\n",
              "  <div id=\"df-f5faefac-8467-40da-aebf-819ffc8ce221\">\n",
              "    <div class=\"colab-df-container\">\n",
              "      <div>\n",
              "<style scoped>\n",
              "    .dataframe tbody tr th:only-of-type {\n",
              "        vertical-align: middle;\n",
              "    }\n",
              "\n",
              "    .dataframe tbody tr th {\n",
              "        vertical-align: top;\n",
              "    }\n",
              "\n",
              "    .dataframe thead th {\n",
              "        text-align: right;\n",
              "    }\n",
              "</style>\n",
              "<table border=\"1\" class=\"dataframe\">\n",
              "  <thead>\n",
              "    <tr style=\"text-align: right;\">\n",
              "      <th></th>\n",
              "      <th>Unnamed: 0</th>\n",
              "      <th>Destination Port</th>\n",
              "      <th>Flow Duration</th>\n",
              "      <th>Total Fwd Packets</th>\n",
              "      <th>Total Backward Packets</th>\n",
              "      <th>Total Length of Fwd Packets</th>\n",
              "      <th>Total Length of Bwd Packets</th>\n",
              "      <th>Fwd Packet Length Max</th>\n",
              "      <th>Fwd Packet Length Mean</th>\n",
              "      <th>Fwd Packet Length Std</th>\n",
              "      <th>...</th>\n",
              "      <th>Subflow Bwd Packets</th>\n",
              "      <th>Subflow Bwd Bytes</th>\n",
              "      <th>Init_Win_bytes_forward</th>\n",
              "      <th>Init_Win_bytes_backward</th>\n",
              "      <th>act_data_pkt_fwd</th>\n",
              "      <th>min_seg_size_forward</th>\n",
              "      <th>Idle Max</th>\n",
              "      <th>Idle Min</th>\n",
              "      <th>Label</th>\n",
              "      <th>BENIGN</th>\n",
              "    </tr>\n",
              "  </thead>\n",
              "  <tbody>\n",
              "    <tr>\n",
              "      <th>18871</th>\n",
              "      <td>18871</td>\n",
              "      <td>80</td>\n",
              "      <td>1293792</td>\n",
              "      <td>3</td>\n",
              "      <td>7</td>\n",
              "      <td>26</td>\n",
              "      <td>11607</td>\n",
              "      <td>20</td>\n",
              "      <td>8.666667</td>\n",
              "      <td>10.263203</td>\n",
              "      <td>...</td>\n",
              "      <td>7</td>\n",
              "      <td>11607</td>\n",
              "      <td>8192</td>\n",
              "      <td>229</td>\n",
              "      <td>2</td>\n",
              "      <td>20</td>\n",
              "      <td>0</td>\n",
              "      <td>0</td>\n",
              "      <td>DDoS</td>\n",
              "      <td>1</td>\n",
              "    </tr>\n",
              "    <tr>\n",
              "      <th>18872</th>\n",
              "      <td>18872</td>\n",
              "      <td>80</td>\n",
              "      <td>4421382</td>\n",
              "      <td>4</td>\n",
              "      <td>0</td>\n",
              "      <td>24</td>\n",
              "      <td>0</td>\n",
              "      <td>6</td>\n",
              "      <td>6.000000</td>\n",
              "      <td>0.000000</td>\n",
              "      <td>...</td>\n",
              "      <td>0</td>\n",
              "      <td>0</td>\n",
              "      <td>256</td>\n",
              "      <td>-1</td>\n",
              "      <td>3</td>\n",
              "      <td>20</td>\n",
              "      <td>0</td>\n",
              "      <td>0</td>\n",
              "      <td>DDoS</td>\n",
              "      <td>1</td>\n",
              "    </tr>\n",
              "    <tr>\n",
              "      <th>18873</th>\n",
              "      <td>18873</td>\n",
              "      <td>80</td>\n",
              "      <td>1083538</td>\n",
              "      <td>3</td>\n",
              "      <td>6</td>\n",
              "      <td>26</td>\n",
              "      <td>11601</td>\n",
              "      <td>20</td>\n",
              "      <td>8.666667</td>\n",
              "      <td>10.263203</td>\n",
              "      <td>...</td>\n",
              "      <td>6</td>\n",
              "      <td>11601</td>\n",
              "      <td>8192</td>\n",
              "      <td>229</td>\n",
              "      <td>2</td>\n",
              "      <td>20</td>\n",
              "      <td>0</td>\n",
              "      <td>0</td>\n",
              "      <td>DDoS</td>\n",
              "      <td>1</td>\n",
              "    </tr>\n",
              "    <tr>\n",
              "      <th>18874</th>\n",
              "      <td>18874</td>\n",
              "      <td>80</td>\n",
              "      <td>80034360</td>\n",
              "      <td>8</td>\n",
              "      <td>4</td>\n",
              "      <td>56</td>\n",
              "      <td>11601</td>\n",
              "      <td>20</td>\n",
              "      <td>7.000000</td>\n",
              "      <td>5.656854</td>\n",
              "      <td>...</td>\n",
              "      <td>4</td>\n",
              "      <td>11601</td>\n",
              "      <td>256</td>\n",
              "      <td>229</td>\n",
              "      <td>6</td>\n",
              "      <td>20</td>\n",
              "      <td>70600000</td>\n",
              "      <td>8072664</td>\n",
              "      <td>DDoS</td>\n",
              "      <td>1</td>\n",
              "    </tr>\n",
              "    <tr>\n",
              "      <th>18875</th>\n",
              "      <td>18875</td>\n",
              "      <td>80</td>\n",
              "      <td>642654</td>\n",
              "      <td>3</td>\n",
              "      <td>6</td>\n",
              "      <td>26</td>\n",
              "      <td>11607</td>\n",
              "      <td>20</td>\n",
              "      <td>8.666667</td>\n",
              "      <td>10.263203</td>\n",
              "      <td>...</td>\n",
              "      <td>6</td>\n",
              "      <td>11607</td>\n",
              "      <td>8192</td>\n",
              "      <td>229</td>\n",
              "      <td>2</td>\n",
              "      <td>20</td>\n",
              "      <td>0</td>\n",
              "      <td>0</td>\n",
              "      <td>DDoS</td>\n",
              "      <td>1</td>\n",
              "    </tr>\n",
              "    <tr>\n",
              "      <th>...</th>\n",
              "      <td>...</td>\n",
              "      <td>...</td>\n",
              "      <td>...</td>\n",
              "      <td>...</td>\n",
              "      <td>...</td>\n",
              "      <td>...</td>\n",
              "      <td>...</td>\n",
              "      <td>...</td>\n",
              "      <td>...</td>\n",
              "      <td>...</td>\n",
              "      <td>...</td>\n",
              "      <td>...</td>\n",
              "      <td>...</td>\n",
              "      <td>...</td>\n",
              "      <td>...</td>\n",
              "      <td>...</td>\n",
              "      <td>...</td>\n",
              "      <td>...</td>\n",
              "      <td>...</td>\n",
              "      <td>...</td>\n",
              "      <td>...</td>\n",
              "    </tr>\n",
              "    <tr>\n",
              "      <th>248227</th>\n",
              "      <td>248227</td>\n",
              "      <td>80</td>\n",
              "      <td>23712</td>\n",
              "      <td>1</td>\n",
              "      <td>1</td>\n",
              "      <td>6</td>\n",
              "      <td>6</td>\n",
              "      <td>6</td>\n",
              "      <td>6.000000</td>\n",
              "      <td>0.000000</td>\n",
              "      <td>...</td>\n",
              "      <td>1</td>\n",
              "      <td>6</td>\n",
              "      <td>266</td>\n",
              "      <td>65535</td>\n",
              "      <td>0</td>\n",
              "      <td>20</td>\n",
              "      <td>0</td>\n",
              "      <td>0</td>\n",
              "      <td>BENIGN</td>\n",
              "      <td>0</td>\n",
              "    </tr>\n",
              "    <tr>\n",
              "      <th>248228</th>\n",
              "      <td>248228</td>\n",
              "      <td>53692</td>\n",
              "      <td>4</td>\n",
              "      <td>3</td>\n",
              "      <td>0</td>\n",
              "      <td>43</td>\n",
              "      <td>0</td>\n",
              "      <td>31</td>\n",
              "      <td>14.333333</td>\n",
              "      <td>14.433757</td>\n",
              "      <td>...</td>\n",
              "      <td>0</td>\n",
              "      <td>0</td>\n",
              "      <td>62</td>\n",
              "      <td>-1</td>\n",
              "      <td>2</td>\n",
              "      <td>20</td>\n",
              "      <td>0</td>\n",
              "      <td>0</td>\n",
              "      <td>BENIGN</td>\n",
              "      <td>0</td>\n",
              "    </tr>\n",
              "    <tr>\n",
              "      <th>248229</th>\n",
              "      <td>248229</td>\n",
              "      <td>443</td>\n",
              "      <td>184907</td>\n",
              "      <td>7</td>\n",
              "      <td>8</td>\n",
              "      <td>1122</td>\n",
              "      <td>5611</td>\n",
              "      <td>517</td>\n",
              "      <td>160.285714</td>\n",
              "      <td>229.475281</td>\n",
              "      <td>...</td>\n",
              "      <td>8</td>\n",
              "      <td>5611</td>\n",
              "      <td>8192</td>\n",
              "      <td>114</td>\n",
              "      <td>6</td>\n",
              "      <td>20</td>\n",
              "      <td>0</td>\n",
              "      <td>0</td>\n",
              "      <td>BENIGN</td>\n",
              "      <td>0</td>\n",
              "    </tr>\n",
              "    <tr>\n",
              "      <th>248230</th>\n",
              "      <td>248230</td>\n",
              "      <td>53694</td>\n",
              "      <td>4</td>\n",
              "      <td>3</td>\n",
              "      <td>0</td>\n",
              "      <td>43</td>\n",
              "      <td>0</td>\n",
              "      <td>31</td>\n",
              "      <td>14.333333</td>\n",
              "      <td>14.433757</td>\n",
              "      <td>...</td>\n",
              "      <td>0</td>\n",
              "      <td>0</td>\n",
              "      <td>62</td>\n",
              "      <td>-1</td>\n",
              "      <td>2</td>\n",
              "      <td>20</td>\n",
              "      <td>0</td>\n",
              "      <td>0</td>\n",
              "      <td>BENIGN</td>\n",
              "      <td>0</td>\n",
              "    </tr>\n",
              "    <tr>\n",
              "      <th>248231</th>\n",
              "      <td>248231</td>\n",
              "      <td>443</td>\n",
              "      <td>254080</td>\n",
              "      <td>7</td>\n",
              "      <td>8</td>\n",
              "      <td>1553</td>\n",
              "      <td>5580</td>\n",
              "      <td>892</td>\n",
              "      <td>221.857143</td>\n",
              "      <td>349.855412</td>\n",
              "      <td>...</td>\n",
              "      <td>8</td>\n",
              "      <td>5580</td>\n",
              "      <td>8192</td>\n",
              "      <td>31220</td>\n",
              "      <td>6</td>\n",
              "      <td>20</td>\n",
              "      <td>0</td>\n",
              "      <td>0</td>\n",
              "      <td>BENIGN</td>\n",
              "      <td>0</td>\n",
              "    </tr>\n",
              "  </tbody>\n",
              "</table>\n",
              "<p>786756 rows × 52 columns</p>\n",
              "</div>\n",
              "      <button class=\"colab-df-convert\" onclick=\"convertToInteractive('df-f5faefac-8467-40da-aebf-819ffc8ce221')\"\n",
              "              title=\"Convert this dataframe to an interactive table.\"\n",
              "              style=\"display:none;\">\n",
              "        \n",
              "  <svg xmlns=\"http://www.w3.org/2000/svg\" height=\"24px\"viewBox=\"0 0 24 24\"\n",
              "       width=\"24px\">\n",
              "    <path d=\"M0 0h24v24H0V0z\" fill=\"none\"/>\n",
              "    <path d=\"M18.56 5.44l.94 2.06.94-2.06 2.06-.94-2.06-.94-.94-2.06-.94 2.06-2.06.94zm-11 1L8.5 8.5l.94-2.06 2.06-.94-2.06-.94L8.5 2.5l-.94 2.06-2.06.94zm10 10l.94 2.06.94-2.06 2.06-.94-2.06-.94-.94-2.06-.94 2.06-2.06.94z\"/><path d=\"M17.41 7.96l-1.37-1.37c-.4-.4-.92-.59-1.43-.59-.52 0-1.04.2-1.43.59L10.3 9.45l-7.72 7.72c-.78.78-.78 2.05 0 2.83L4 21.41c.39.39.9.59 1.41.59.51 0 1.02-.2 1.41-.59l7.78-7.78 2.81-2.81c.8-.78.8-2.07 0-2.86zM5.41 20L4 18.59l7.72-7.72 1.47 1.35L5.41 20z\"/>\n",
              "  </svg>\n",
              "      </button>\n",
              "      \n",
              "  <style>\n",
              "    .colab-df-container {\n",
              "      display:flex;\n",
              "      flex-wrap:wrap;\n",
              "      gap: 12px;\n",
              "    }\n",
              "\n",
              "    .colab-df-convert {\n",
              "      background-color: #E8F0FE;\n",
              "      border: none;\n",
              "      border-radius: 50%;\n",
              "      cursor: pointer;\n",
              "      display: none;\n",
              "      fill: #1967D2;\n",
              "      height: 32px;\n",
              "      padding: 0 0 0 0;\n",
              "      width: 32px;\n",
              "    }\n",
              "\n",
              "    .colab-df-convert:hover {\n",
              "      background-color: #E2EBFA;\n",
              "      box-shadow: 0px 1px 2px rgba(60, 64, 67, 0.3), 0px 1px 3px 1px rgba(60, 64, 67, 0.15);\n",
              "      fill: #174EA6;\n",
              "    }\n",
              "\n",
              "    [theme=dark] .colab-df-convert {\n",
              "      background-color: #3B4455;\n",
              "      fill: #D2E3FC;\n",
              "    }\n",
              "\n",
              "    [theme=dark] .colab-df-convert:hover {\n",
              "      background-color: #434B5C;\n",
              "      box-shadow: 0px 1px 3px 1px rgba(0, 0, 0, 0.15);\n",
              "      filter: drop-shadow(0px 1px 2px rgba(0, 0, 0, 0.3));\n",
              "      fill: #FFFFFF;\n",
              "    }\n",
              "  </style>\n",
              "\n",
              "      <script>\n",
              "        const buttonEl =\n",
              "          document.querySelector('#df-f5faefac-8467-40da-aebf-819ffc8ce221 button.colab-df-convert');\n",
              "        buttonEl.style.display =\n",
              "          google.colab.kernel.accessAllowed ? 'block' : 'none';\n",
              "\n",
              "        async function convertToInteractive(key) {\n",
              "          const element = document.querySelector('#df-f5faefac-8467-40da-aebf-819ffc8ce221');\n",
              "          const dataTable =\n",
              "            await google.colab.kernel.invokeFunction('convertToInteractive',\n",
              "                                                     [key], {});\n",
              "          if (!dataTable) return;\n",
              "\n",
              "          const docLinkHtml = 'Like what you see? Visit the ' +\n",
              "            '<a target=\"_blank\" href=https://colab.research.google.com/notebooks/data_table.ipynb>data table notebook</a>'\n",
              "            + ' to learn more about interactive tables.';\n",
              "          element.innerHTML = '';\n",
              "          dataTable['output_type'] = 'display_data';\n",
              "          await google.colab.output.renderOutput(dataTable, element);\n",
              "          const docLink = document.createElement('div');\n",
              "          docLink.innerHTML = docLinkHtml;\n",
              "          element.appendChild(docLink);\n",
              "        }\n",
              "      </script>\n",
              "    </div>\n",
              "  </div>\n",
              "  "
            ],
            "text/plain": [
              "        Unnamed: 0  Destination Port  Flow Duration  Total Fwd Packets  \\\n",
              "18871        18871                80        1293792                  3   \n",
              "18872        18872                80        4421382                  4   \n",
              "18873        18873                80        1083538                  3   \n",
              "18874        18874                80       80034360                  8   \n",
              "18875        18875                80         642654                  3   \n",
              "...            ...               ...            ...                ...   \n",
              "248227      248227                80          23712                  1   \n",
              "248228      248228             53692              4                  3   \n",
              "248229      248229               443         184907                  7   \n",
              "248230      248230             53694              4                  3   \n",
              "248231      248231               443         254080                  7   \n",
              "\n",
              "        Total Backward Packets  Total Length of Fwd Packets  \\\n",
              "18871                        7                           26   \n",
              "18872                        0                           24   \n",
              "18873                        6                           26   \n",
              "18874                        4                           56   \n",
              "18875                        6                           26   \n",
              "...                        ...                          ...   \n",
              "248227                       1                            6   \n",
              "248228                       0                           43   \n",
              "248229                       8                         1122   \n",
              "248230                       0                           43   \n",
              "248231                       8                         1553   \n",
              "\n",
              "        Total Length of Bwd Packets  Fwd Packet Length Max  \\\n",
              "18871                         11607                     20   \n",
              "18872                             0                      6   \n",
              "18873                         11601                     20   \n",
              "18874                         11601                     20   \n",
              "18875                         11607                     20   \n",
              "...                             ...                    ...   \n",
              "248227                            6                      6   \n",
              "248228                            0                     31   \n",
              "248229                         5611                    517   \n",
              "248230                            0                     31   \n",
              "248231                         5580                    892   \n",
              "\n",
              "        Fwd Packet Length Mean  Fwd Packet Length Std  ...  \\\n",
              "18871                 8.666667              10.263203  ...   \n",
              "18872                 6.000000               0.000000  ...   \n",
              "18873                 8.666667              10.263203  ...   \n",
              "18874                 7.000000               5.656854  ...   \n",
              "18875                 8.666667              10.263203  ...   \n",
              "...                        ...                    ...  ...   \n",
              "248227                6.000000               0.000000  ...   \n",
              "248228               14.333333              14.433757  ...   \n",
              "248229              160.285714             229.475281  ...   \n",
              "248230               14.333333              14.433757  ...   \n",
              "248231              221.857143             349.855412  ...   \n",
              "\n",
              "        Subflow Bwd Packets  Subflow Bwd Bytes  Init_Win_bytes_forward  \\\n",
              "18871                     7              11607                    8192   \n",
              "18872                     0                  0                     256   \n",
              "18873                     6              11601                    8192   \n",
              "18874                     4              11601                     256   \n",
              "18875                     6              11607                    8192   \n",
              "...                     ...                ...                     ...   \n",
              "248227                    1                  6                     266   \n",
              "248228                    0                  0                      62   \n",
              "248229                    8               5611                    8192   \n",
              "248230                    0                  0                      62   \n",
              "248231                    8               5580                    8192   \n",
              "\n",
              "        Init_Win_bytes_backward  act_data_pkt_fwd  min_seg_size_forward  \\\n",
              "18871                       229                 2                    20   \n",
              "18872                        -1                 3                    20   \n",
              "18873                       229                 2                    20   \n",
              "18874                       229                 6                    20   \n",
              "18875                       229                 2                    20   \n",
              "...                         ...               ...                   ...   \n",
              "248227                    65535                 0                    20   \n",
              "248228                       -1                 2                    20   \n",
              "248229                      114                 6                    20   \n",
              "248230                       -1                 2                    20   \n",
              "248231                    31220                 6                    20   \n",
              "\n",
              "        Idle Max  Idle Min   Label  BENIGN  \n",
              "18871          0         0    DDoS       1  \n",
              "18872          0         0    DDoS       1  \n",
              "18873          0         0    DDoS       1  \n",
              "18874   70600000   8072664    DDoS       1  \n",
              "18875          0         0    DDoS       1  \n",
              "...          ...       ...     ...     ...  \n",
              "248227         0         0  BENIGN       0  \n",
              "248228         0         0  BENIGN       0  \n",
              "248229         0         0  BENIGN       0  \n",
              "248230         0         0  BENIGN       0  \n",
              "248231         0         0  BENIGN       0  \n",
              "\n",
              "[786756 rows x 52 columns]"
            ]
          },
          "execution_count": 4,
          "metadata": {},
          "output_type": "execute_result"
        }
      ],
      "source": [
        "b_balanced = benign[0:120200]\n",
        "b_balanced\n",
        "attack_and_benign_balanced = pd.concat([attacks, b_balanced])\n",
        "attack_and_benign_balanced"
      ]
    },
    {
      "cell_type": "code",
      "execution_count": null,
      "metadata": {
        "colab": {
          "base_uri": "https://localhost:8080/",
          "height": 503
        },
        "id": "aTC6V_Eq1Y_r",
        "outputId": "e85e1eec-3fab-447a-ffa2-a3359e853d64"
      },
      "outputs": [
        {
          "data": {
            "text/html": [
              "\n",
              "  <div id=\"df-9a259f94-de0b-468b-846c-8d4475a6434d\">\n",
              "    <div class=\"colab-df-container\">\n",
              "      <div>\n",
              "<style scoped>\n",
              "    .dataframe tbody tr th:only-of-type {\n",
              "        vertical-align: middle;\n",
              "    }\n",
              "\n",
              "    .dataframe tbody tr th {\n",
              "        vertical-align: top;\n",
              "    }\n",
              "\n",
              "    .dataframe thead th {\n",
              "        text-align: right;\n",
              "    }\n",
              "</style>\n",
              "<table border=\"1\" class=\"dataframe\">\n",
              "  <thead>\n",
              "    <tr style=\"text-align: right;\">\n",
              "      <th></th>\n",
              "      <th>Unnamed: 0</th>\n",
              "      <th>Destination Port</th>\n",
              "      <th>Flow Duration</th>\n",
              "      <th>Total Fwd Packets</th>\n",
              "      <th>Total Backward Packets</th>\n",
              "      <th>Total Length of Fwd Packets</th>\n",
              "      <th>Total Length of Bwd Packets</th>\n",
              "      <th>Fwd Packet Length Max</th>\n",
              "      <th>Fwd Packet Length Mean</th>\n",
              "      <th>Fwd Packet Length Std</th>\n",
              "      <th>...</th>\n",
              "      <th>Subflow Bwd Packets</th>\n",
              "      <th>Subflow Bwd Bytes</th>\n",
              "      <th>Init_Win_bytes_forward</th>\n",
              "      <th>Init_Win_bytes_backward</th>\n",
              "      <th>act_data_pkt_fwd</th>\n",
              "      <th>min_seg_size_forward</th>\n",
              "      <th>Idle Max</th>\n",
              "      <th>Idle Min</th>\n",
              "      <th>Label</th>\n",
              "      <th>BENIGN</th>\n",
              "    </tr>\n",
              "  </thead>\n",
              "  <tbody>\n",
              "    <tr>\n",
              "      <th>2414023</th>\n",
              "      <td>2414023</td>\n",
              "      <td>80</td>\n",
              "      <td>86272743</td>\n",
              "      <td>6</td>\n",
              "      <td>8</td>\n",
              "      <td>355</td>\n",
              "      <td>11595</td>\n",
              "      <td>343</td>\n",
              "      <td>59.166667</td>\n",
              "      <td>139.080432</td>\n",
              "      <td>...</td>\n",
              "      <td>8</td>\n",
              "      <td>11595</td>\n",
              "      <td>0</td>\n",
              "      <td>235</td>\n",
              "      <td>2</td>\n",
              "      <td>20</td>\n",
              "      <td>85300000</td>\n",
              "      <td>85300000</td>\n",
              "      <td>DoS Hulk</td>\n",
              "      <td>1</td>\n",
              "    </tr>\n",
              "    <tr>\n",
              "      <th>110773</th>\n",
              "      <td>110773</td>\n",
              "      <td>53</td>\n",
              "      <td>23983</td>\n",
              "      <td>4</td>\n",
              "      <td>2</td>\n",
              "      <td>184</td>\n",
              "      <td>254</td>\n",
              "      <td>46</td>\n",
              "      <td>46.000000</td>\n",
              "      <td>0.000000</td>\n",
              "      <td>...</td>\n",
              "      <td>2</td>\n",
              "      <td>254</td>\n",
              "      <td>-1</td>\n",
              "      <td>-1</td>\n",
              "      <td>3</td>\n",
              "      <td>20</td>\n",
              "      <td>0</td>\n",
              "      <td>0</td>\n",
              "      <td>BENIGN</td>\n",
              "      <td>0</td>\n",
              "    </tr>\n",
              "    <tr>\n",
              "      <th>2263016</th>\n",
              "      <td>2263016</td>\n",
              "      <td>80</td>\n",
              "      <td>68379606</td>\n",
              "      <td>7</td>\n",
              "      <td>6</td>\n",
              "      <td>327</td>\n",
              "      <td>11595</td>\n",
              "      <td>327</td>\n",
              "      <td>46.714286</td>\n",
              "      <td>123.594383</td>\n",
              "      <td>...</td>\n",
              "      <td>6</td>\n",
              "      <td>11595</td>\n",
              "      <td>274</td>\n",
              "      <td>235</td>\n",
              "      <td>1</td>\n",
              "      <td>32</td>\n",
              "      <td>68200000</td>\n",
              "      <td>68200000</td>\n",
              "      <td>DoS Hulk</td>\n",
              "      <td>1</td>\n",
              "    </tr>\n",
              "    <tr>\n",
              "      <th>198981</th>\n",
              "      <td>198981</td>\n",
              "      <td>56246</td>\n",
              "      <td>3</td>\n",
              "      <td>2</td>\n",
              "      <td>0</td>\n",
              "      <td>12</td>\n",
              "      <td>0</td>\n",
              "      <td>6</td>\n",
              "      <td>6.000000</td>\n",
              "      <td>0.000000</td>\n",
              "      <td>...</td>\n",
              "      <td>0</td>\n",
              "      <td>0</td>\n",
              "      <td>361</td>\n",
              "      <td>-1</td>\n",
              "      <td>1</td>\n",
              "      <td>20</td>\n",
              "      <td>0</td>\n",
              "      <td>0</td>\n",
              "      <td>BENIGN</td>\n",
              "      <td>0</td>\n",
              "    </tr>\n",
              "    <tr>\n",
              "      <th>340144</th>\n",
              "      <td>340144</td>\n",
              "      <td>1301</td>\n",
              "      <td>24</td>\n",
              "      <td>1</td>\n",
              "      <td>1</td>\n",
              "      <td>2</td>\n",
              "      <td>6</td>\n",
              "      <td>2</td>\n",
              "      <td>2.000000</td>\n",
              "      <td>0.000000</td>\n",
              "      <td>...</td>\n",
              "      <td>1</td>\n",
              "      <td>6</td>\n",
              "      <td>1024</td>\n",
              "      <td>0</td>\n",
              "      <td>0</td>\n",
              "      <td>24</td>\n",
              "      <td>0</td>\n",
              "      <td>0</td>\n",
              "      <td>PortScan</td>\n",
              "      <td>1</td>\n",
              "    </tr>\n",
              "    <tr>\n",
              "      <th>...</th>\n",
              "      <td>...</td>\n",
              "      <td>...</td>\n",
              "      <td>...</td>\n",
              "      <td>...</td>\n",
              "      <td>...</td>\n",
              "      <td>...</td>\n",
              "      <td>...</td>\n",
              "      <td>...</td>\n",
              "      <td>...</td>\n",
              "      <td>...</td>\n",
              "      <td>...</td>\n",
              "      <td>...</td>\n",
              "      <td>...</td>\n",
              "      <td>...</td>\n",
              "      <td>...</td>\n",
              "      <td>...</td>\n",
              "      <td>...</td>\n",
              "      <td>...</td>\n",
              "      <td>...</td>\n",
              "      <td>...</td>\n",
              "      <td>...</td>\n",
              "    </tr>\n",
              "    <tr>\n",
              "      <th>2937623</th>\n",
              "      <td>2937623</td>\n",
              "      <td>444</td>\n",
              "      <td>115370657</td>\n",
              "      <td>2715</td>\n",
              "      <td>1990</td>\n",
              "      <td>15434</td>\n",
              "      <td>7701729</td>\n",
              "      <td>5477</td>\n",
              "      <td>6.662930</td>\n",
              "      <td>134.745644</td>\n",
              "      <td>...</td>\n",
              "      <td>1837</td>\n",
              "      <td>7711781</td>\n",
              "      <td>698</td>\n",
              "      <td>245</td>\n",
              "      <td>118</td>\n",
              "      <td>32</td>\n",
              "      <td>0</td>\n",
              "      <td>0</td>\n",
              "      <td>Heartbleed</td>\n",
              "      <td>1</td>\n",
              "    </tr>\n",
              "    <tr>\n",
              "      <th>246710</th>\n",
              "      <td>246710</td>\n",
              "      <td>80</td>\n",
              "      <td>5231972</td>\n",
              "      <td>4</td>\n",
              "      <td>4</td>\n",
              "      <td>421</td>\n",
              "      <td>545</td>\n",
              "      <td>409</td>\n",
              "      <td>105.250000</td>\n",
              "      <td>202.519752</td>\n",
              "      <td>...</td>\n",
              "      <td>4</td>\n",
              "      <td>545</td>\n",
              "      <td>8192</td>\n",
              "      <td>60</td>\n",
              "      <td>3</td>\n",
              "      <td>20</td>\n",
              "      <td>0</td>\n",
              "      <td>0</td>\n",
              "      <td>BENIGN</td>\n",
              "      <td>0</td>\n",
              "    </tr>\n",
              "    <tr>\n",
              "      <th>338994</th>\n",
              "      <td>338994</td>\n",
              "      <td>515</td>\n",
              "      <td>13</td>\n",
              "      <td>1</td>\n",
              "      <td>1</td>\n",
              "      <td>2</td>\n",
              "      <td>6</td>\n",
              "      <td>2</td>\n",
              "      <td>2.000000</td>\n",
              "      <td>0.000000</td>\n",
              "      <td>...</td>\n",
              "      <td>1</td>\n",
              "      <td>6</td>\n",
              "      <td>1024</td>\n",
              "      <td>0</td>\n",
              "      <td>0</td>\n",
              "      <td>24</td>\n",
              "      <td>0</td>\n",
              "      <td>0</td>\n",
              "      <td>PortScan</td>\n",
              "      <td>1</td>\n",
              "    </tr>\n",
              "    <tr>\n",
              "      <th>2906836</th>\n",
              "      <td>2906836</td>\n",
              "      <td>80</td>\n",
              "      <td>5398919</td>\n",
              "      <td>3</td>\n",
              "      <td>1</td>\n",
              "      <td>0</td>\n",
              "      <td>0</td>\n",
              "      <td>0</td>\n",
              "      <td>0.118148</td>\n",
              "      <td>0.055491</td>\n",
              "      <td>...</td>\n",
              "      <td>1</td>\n",
              "      <td>140</td>\n",
              "      <td>29200</td>\n",
              "      <td>28954</td>\n",
              "      <td>0</td>\n",
              "      <td>32</td>\n",
              "      <td>0</td>\n",
              "      <td>0</td>\n",
              "      <td>XSS</td>\n",
              "      <td>1</td>\n",
              "    </tr>\n",
              "    <tr>\n",
              "      <th>437384</th>\n",
              "      <td>437384</td>\n",
              "      <td>4445</td>\n",
              "      <td>39</td>\n",
              "      <td>1</td>\n",
              "      <td>1</td>\n",
              "      <td>0</td>\n",
              "      <td>6</td>\n",
              "      <td>0</td>\n",
              "      <td>0.000000</td>\n",
              "      <td>0.000000</td>\n",
              "      <td>...</td>\n",
              "      <td>1</td>\n",
              "      <td>6</td>\n",
              "      <td>29200</td>\n",
              "      <td>0</td>\n",
              "      <td>0</td>\n",
              "      <td>40</td>\n",
              "      <td>0</td>\n",
              "      <td>0</td>\n",
              "      <td>PortScan</td>\n",
              "      <td>1</td>\n",
              "    </tr>\n",
              "  </tbody>\n",
              "</table>\n",
              "<p>786756 rows × 52 columns</p>\n",
              "</div>\n",
              "      <button class=\"colab-df-convert\" onclick=\"convertToInteractive('df-9a259f94-de0b-468b-846c-8d4475a6434d')\"\n",
              "              title=\"Convert this dataframe to an interactive table.\"\n",
              "              style=\"display:none;\">\n",
              "        \n",
              "  <svg xmlns=\"http://www.w3.org/2000/svg\" height=\"24px\"viewBox=\"0 0 24 24\"\n",
              "       width=\"24px\">\n",
              "    <path d=\"M0 0h24v24H0V0z\" fill=\"none\"/>\n",
              "    <path d=\"M18.56 5.44l.94 2.06.94-2.06 2.06-.94-2.06-.94-.94-2.06-.94 2.06-2.06.94zm-11 1L8.5 8.5l.94-2.06 2.06-.94-2.06-.94L8.5 2.5l-.94 2.06-2.06.94zm10 10l.94 2.06.94-2.06 2.06-.94-2.06-.94-.94-2.06-.94 2.06-2.06.94z\"/><path d=\"M17.41 7.96l-1.37-1.37c-.4-.4-.92-.59-1.43-.59-.52 0-1.04.2-1.43.59L10.3 9.45l-7.72 7.72c-.78.78-.78 2.05 0 2.83L4 21.41c.39.39.9.59 1.41.59.51 0 1.02-.2 1.41-.59l7.78-7.78 2.81-2.81c.8-.78.8-2.07 0-2.86zM5.41 20L4 18.59l7.72-7.72 1.47 1.35L5.41 20z\"/>\n",
              "  </svg>\n",
              "      </button>\n",
              "      \n",
              "  <style>\n",
              "    .colab-df-container {\n",
              "      display:flex;\n",
              "      flex-wrap:wrap;\n",
              "      gap: 12px;\n",
              "    }\n",
              "\n",
              "    .colab-df-convert {\n",
              "      background-color: #E8F0FE;\n",
              "      border: none;\n",
              "      border-radius: 50%;\n",
              "      cursor: pointer;\n",
              "      display: none;\n",
              "      fill: #1967D2;\n",
              "      height: 32px;\n",
              "      padding: 0 0 0 0;\n",
              "      width: 32px;\n",
              "    }\n",
              "\n",
              "    .colab-df-convert:hover {\n",
              "      background-color: #E2EBFA;\n",
              "      box-shadow: 0px 1px 2px rgba(60, 64, 67, 0.3), 0px 1px 3px 1px rgba(60, 64, 67, 0.15);\n",
              "      fill: #174EA6;\n",
              "    }\n",
              "\n",
              "    [theme=dark] .colab-df-convert {\n",
              "      background-color: #3B4455;\n",
              "      fill: #D2E3FC;\n",
              "    }\n",
              "\n",
              "    [theme=dark] .colab-df-convert:hover {\n",
              "      background-color: #434B5C;\n",
              "      box-shadow: 0px 1px 3px 1px rgba(0, 0, 0, 0.15);\n",
              "      filter: drop-shadow(0px 1px 2px rgba(0, 0, 0, 0.3));\n",
              "      fill: #FFFFFF;\n",
              "    }\n",
              "  </style>\n",
              "\n",
              "      <script>\n",
              "        const buttonEl =\n",
              "          document.querySelector('#df-9a259f94-de0b-468b-846c-8d4475a6434d button.colab-df-convert');\n",
              "        buttonEl.style.display =\n",
              "          google.colab.kernel.accessAllowed ? 'block' : 'none';\n",
              "\n",
              "        async function convertToInteractive(key) {\n",
              "          const element = document.querySelector('#df-9a259f94-de0b-468b-846c-8d4475a6434d');\n",
              "          const dataTable =\n",
              "            await google.colab.kernel.invokeFunction('convertToInteractive',\n",
              "                                                     [key], {});\n",
              "          if (!dataTable) return;\n",
              "\n",
              "          const docLinkHtml = 'Like what you see? Visit the ' +\n",
              "            '<a target=\"_blank\" href=https://colab.research.google.com/notebooks/data_table.ipynb>data table notebook</a>'\n",
              "            + ' to learn more about interactive tables.';\n",
              "          element.innerHTML = '';\n",
              "          dataTable['output_type'] = 'display_data';\n",
              "          await google.colab.output.renderOutput(dataTable, element);\n",
              "          const docLink = document.createElement('div');\n",
              "          docLink.innerHTML = docLinkHtml;\n",
              "          element.appendChild(docLink);\n",
              "        }\n",
              "      </script>\n",
              "    </div>\n",
              "  </div>\n",
              "  "
            ],
            "text/plain": [
              "         Unnamed: 0  Destination Port  Flow Duration  Total Fwd Packets  \\\n",
              "2414023     2414023                80       86272743                  6   \n",
              "110773       110773                53          23983                  4   \n",
              "2263016     2263016                80       68379606                  7   \n",
              "198981       198981             56246              3                  2   \n",
              "340144       340144              1301             24                  1   \n",
              "...             ...               ...            ...                ...   \n",
              "2937623     2937623               444      115370657               2715   \n",
              "246710       246710                80        5231972                  4   \n",
              "338994       338994               515             13                  1   \n",
              "2906836     2906836                80        5398919                  3   \n",
              "437384       437384              4445             39                  1   \n",
              "\n",
              "         Total Backward Packets  Total Length of Fwd Packets  \\\n",
              "2414023                       8                          355   \n",
              "110773                        2                          184   \n",
              "2263016                       6                          327   \n",
              "198981                        0                           12   \n",
              "340144                        1                            2   \n",
              "...                         ...                          ...   \n",
              "2937623                    1990                        15434   \n",
              "246710                        4                          421   \n",
              "338994                        1                            2   \n",
              "2906836                       1                            0   \n",
              "437384                        1                            0   \n",
              "\n",
              "         Total Length of Bwd Packets  Fwd Packet Length Max  \\\n",
              "2414023                        11595                    343   \n",
              "110773                           254                     46   \n",
              "2263016                        11595                    327   \n",
              "198981                             0                      6   \n",
              "340144                             6                      2   \n",
              "...                              ...                    ...   \n",
              "2937623                      7701729                   5477   \n",
              "246710                           545                    409   \n",
              "338994                             6                      2   \n",
              "2906836                            0                      0   \n",
              "437384                             6                      0   \n",
              "\n",
              "         Fwd Packet Length Mean  Fwd Packet Length Std  ...  \\\n",
              "2414023               59.166667             139.080432  ...   \n",
              "110773                46.000000               0.000000  ...   \n",
              "2263016               46.714286             123.594383  ...   \n",
              "198981                 6.000000               0.000000  ...   \n",
              "340144                 2.000000               0.000000  ...   \n",
              "...                         ...                    ...  ...   \n",
              "2937623                6.662930             134.745644  ...   \n",
              "246710               105.250000             202.519752  ...   \n",
              "338994                 2.000000               0.000000  ...   \n",
              "2906836                0.118148               0.055491  ...   \n",
              "437384                 0.000000               0.000000  ...   \n",
              "\n",
              "         Subflow Bwd Packets  Subflow Bwd Bytes  Init_Win_bytes_forward  \\\n",
              "2414023                    8              11595                       0   \n",
              "110773                     2                254                      -1   \n",
              "2263016                    6              11595                     274   \n",
              "198981                     0                  0                     361   \n",
              "340144                     1                  6                    1024   \n",
              "...                      ...                ...                     ...   \n",
              "2937623                 1837            7711781                     698   \n",
              "246710                     4                545                    8192   \n",
              "338994                     1                  6                    1024   \n",
              "2906836                    1                140                   29200   \n",
              "437384                     1                  6                   29200   \n",
              "\n",
              "         Init_Win_bytes_backward  act_data_pkt_fwd  min_seg_size_forward  \\\n",
              "2414023                      235                 2                    20   \n",
              "110773                        -1                 3                    20   \n",
              "2263016                      235                 1                    32   \n",
              "198981                        -1                 1                    20   \n",
              "340144                         0                 0                    24   \n",
              "...                          ...               ...                   ...   \n",
              "2937623                      245               118                    32   \n",
              "246710                        60                 3                    20   \n",
              "338994                         0                 0                    24   \n",
              "2906836                    28954                 0                    32   \n",
              "437384                         0                 0                    40   \n",
              "\n",
              "         Idle Max  Idle Min       Label  BENIGN  \n",
              "2414023  85300000  85300000    DoS Hulk       1  \n",
              "110773          0         0      BENIGN       0  \n",
              "2263016  68200000  68200000    DoS Hulk       1  \n",
              "198981          0         0      BENIGN       0  \n",
              "340144          0         0    PortScan       1  \n",
              "...           ...       ...         ...     ...  \n",
              "2937623         0         0  Heartbleed       1  \n",
              "246710          0         0      BENIGN       0  \n",
              "338994          0         0    PortScan       1  \n",
              "2906836         0         0         XSS       1  \n",
              "437384          0         0    PortScan       1  \n",
              "\n",
              "[786756 rows x 52 columns]"
            ]
          },
          "execution_count": 5,
          "metadata": {},
          "output_type": "execute_result"
        }
      ],
      "source": [
        "a_b_shuffle = attack_and_benign_balanced.sample(frac=1)\n",
        "a_b_shuffle"
      ]
    },
    {
      "cell_type": "code",
      "execution_count": null,
      "metadata": {
        "colab": {
          "base_uri": "https://localhost:8080/",
          "height": 503
        },
        "id": "6C5q9dwr4wO6",
        "outputId": "cc6da198-58e7-4974-aa21-626bc0108ee8"
      },
      "outputs": [
        {
          "data": {
            "text/html": [
              "\n",
              "  <div id=\"df-3e17ce4c-232f-4800-9434-18a66e7f20f9\">\n",
              "    <div class=\"colab-df-container\">\n",
              "      <div>\n",
              "<style scoped>\n",
              "    .dataframe tbody tr th:only-of-type {\n",
              "        vertical-align: middle;\n",
              "    }\n",
              "\n",
              "    .dataframe tbody tr th {\n",
              "        vertical-align: top;\n",
              "    }\n",
              "\n",
              "    .dataframe thead th {\n",
              "        text-align: right;\n",
              "    }\n",
              "</style>\n",
              "<table border=\"1\" class=\"dataframe\">\n",
              "  <thead>\n",
              "    <tr style=\"text-align: right;\">\n",
              "      <th></th>\n",
              "      <th>Destination Port</th>\n",
              "      <th>Flow Duration</th>\n",
              "      <th>Total Fwd Packets</th>\n",
              "      <th>Total Backward Packets</th>\n",
              "      <th>Total Length of Fwd Packets</th>\n",
              "      <th>Total Length of Bwd Packets</th>\n",
              "      <th>Fwd Packet Length Max</th>\n",
              "      <th>Fwd Packet Length Mean</th>\n",
              "      <th>Fwd Packet Length Std</th>\n",
              "      <th>Bwd Packet Length Max</th>\n",
              "      <th>...</th>\n",
              "      <th>Subflow Fwd Bytes</th>\n",
              "      <th>Subflow Bwd Packets</th>\n",
              "      <th>Subflow Bwd Bytes</th>\n",
              "      <th>Init_Win_bytes_forward</th>\n",
              "      <th>Init_Win_bytes_backward</th>\n",
              "      <th>act_data_pkt_fwd</th>\n",
              "      <th>min_seg_size_forward</th>\n",
              "      <th>Idle Max</th>\n",
              "      <th>Idle Min</th>\n",
              "      <th>Label</th>\n",
              "    </tr>\n",
              "  </thead>\n",
              "  <tbody>\n",
              "    <tr>\n",
              "      <th>2414023</th>\n",
              "      <td>80</td>\n",
              "      <td>86272743</td>\n",
              "      <td>6</td>\n",
              "      <td>8</td>\n",
              "      <td>355</td>\n",
              "      <td>11595</td>\n",
              "      <td>343</td>\n",
              "      <td>59.166667</td>\n",
              "      <td>139.080432</td>\n",
              "      <td>5792</td>\n",
              "      <td>...</td>\n",
              "      <td>355</td>\n",
              "      <td>8</td>\n",
              "      <td>11595</td>\n",
              "      <td>0</td>\n",
              "      <td>235</td>\n",
              "      <td>2</td>\n",
              "      <td>20</td>\n",
              "      <td>85300000</td>\n",
              "      <td>85300000</td>\n",
              "      <td>DoS Hulk</td>\n",
              "    </tr>\n",
              "    <tr>\n",
              "      <th>110773</th>\n",
              "      <td>53</td>\n",
              "      <td>23983</td>\n",
              "      <td>4</td>\n",
              "      <td>2</td>\n",
              "      <td>184</td>\n",
              "      <td>254</td>\n",
              "      <td>46</td>\n",
              "      <td>46.000000</td>\n",
              "      <td>0.000000</td>\n",
              "      <td>127</td>\n",
              "      <td>...</td>\n",
              "      <td>184</td>\n",
              "      <td>2</td>\n",
              "      <td>254</td>\n",
              "      <td>-1</td>\n",
              "      <td>-1</td>\n",
              "      <td>3</td>\n",
              "      <td>20</td>\n",
              "      <td>0</td>\n",
              "      <td>0</td>\n",
              "      <td>BENIGN</td>\n",
              "    </tr>\n",
              "    <tr>\n",
              "      <th>2263016</th>\n",
              "      <td>80</td>\n",
              "      <td>68379606</td>\n",
              "      <td>7</td>\n",
              "      <td>6</td>\n",
              "      <td>327</td>\n",
              "      <td>11595</td>\n",
              "      <td>327</td>\n",
              "      <td>46.714286</td>\n",
              "      <td>123.594383</td>\n",
              "      <td>7240</td>\n",
              "      <td>...</td>\n",
              "      <td>327</td>\n",
              "      <td>6</td>\n",
              "      <td>11595</td>\n",
              "      <td>274</td>\n",
              "      <td>235</td>\n",
              "      <td>1</td>\n",
              "      <td>32</td>\n",
              "      <td>68200000</td>\n",
              "      <td>68200000</td>\n",
              "      <td>DoS Hulk</td>\n",
              "    </tr>\n",
              "    <tr>\n",
              "      <th>198981</th>\n",
              "      <td>56246</td>\n",
              "      <td>3</td>\n",
              "      <td>2</td>\n",
              "      <td>0</td>\n",
              "      <td>12</td>\n",
              "      <td>0</td>\n",
              "      <td>6</td>\n",
              "      <td>6.000000</td>\n",
              "      <td>0.000000</td>\n",
              "      <td>0</td>\n",
              "      <td>...</td>\n",
              "      <td>12</td>\n",
              "      <td>0</td>\n",
              "      <td>0</td>\n",
              "      <td>361</td>\n",
              "      <td>-1</td>\n",
              "      <td>1</td>\n",
              "      <td>20</td>\n",
              "      <td>0</td>\n",
              "      <td>0</td>\n",
              "      <td>BENIGN</td>\n",
              "    </tr>\n",
              "    <tr>\n",
              "      <th>340144</th>\n",
              "      <td>1301</td>\n",
              "      <td>24</td>\n",
              "      <td>1</td>\n",
              "      <td>1</td>\n",
              "      <td>2</td>\n",
              "      <td>6</td>\n",
              "      <td>2</td>\n",
              "      <td>2.000000</td>\n",
              "      <td>0.000000</td>\n",
              "      <td>6</td>\n",
              "      <td>...</td>\n",
              "      <td>2</td>\n",
              "      <td>1</td>\n",
              "      <td>6</td>\n",
              "      <td>1024</td>\n",
              "      <td>0</td>\n",
              "      <td>0</td>\n",
              "      <td>24</td>\n",
              "      <td>0</td>\n",
              "      <td>0</td>\n",
              "      <td>PortScan</td>\n",
              "    </tr>\n",
              "    <tr>\n",
              "      <th>...</th>\n",
              "      <td>...</td>\n",
              "      <td>...</td>\n",
              "      <td>...</td>\n",
              "      <td>...</td>\n",
              "      <td>...</td>\n",
              "      <td>...</td>\n",
              "      <td>...</td>\n",
              "      <td>...</td>\n",
              "      <td>...</td>\n",
              "      <td>...</td>\n",
              "      <td>...</td>\n",
              "      <td>...</td>\n",
              "      <td>...</td>\n",
              "      <td>...</td>\n",
              "      <td>...</td>\n",
              "      <td>...</td>\n",
              "      <td>...</td>\n",
              "      <td>...</td>\n",
              "      <td>...</td>\n",
              "      <td>...</td>\n",
              "      <td>...</td>\n",
              "    </tr>\n",
              "    <tr>\n",
              "      <th>2937623</th>\n",
              "      <td>444</td>\n",
              "      <td>115370657</td>\n",
              "      <td>2715</td>\n",
              "      <td>1990</td>\n",
              "      <td>15434</td>\n",
              "      <td>7701729</td>\n",
              "      <td>5477</td>\n",
              "      <td>6.662930</td>\n",
              "      <td>134.745644</td>\n",
              "      <td>14649</td>\n",
              "      <td>...</td>\n",
              "      <td>13473</td>\n",
              "      <td>1837</td>\n",
              "      <td>7711781</td>\n",
              "      <td>698</td>\n",
              "      <td>245</td>\n",
              "      <td>118</td>\n",
              "      <td>32</td>\n",
              "      <td>0</td>\n",
              "      <td>0</td>\n",
              "      <td>Heartbleed</td>\n",
              "    </tr>\n",
              "    <tr>\n",
              "      <th>246710</th>\n",
              "      <td>80</td>\n",
              "      <td>5231972</td>\n",
              "      <td>4</td>\n",
              "      <td>4</td>\n",
              "      <td>421</td>\n",
              "      <td>545</td>\n",
              "      <td>409</td>\n",
              "      <td>105.250000</td>\n",
              "      <td>202.519752</td>\n",
              "      <td>533</td>\n",
              "      <td>...</td>\n",
              "      <td>421</td>\n",
              "      <td>4</td>\n",
              "      <td>545</td>\n",
              "      <td>8192</td>\n",
              "      <td>60</td>\n",
              "      <td>3</td>\n",
              "      <td>20</td>\n",
              "      <td>0</td>\n",
              "      <td>0</td>\n",
              "      <td>BENIGN</td>\n",
              "    </tr>\n",
              "    <tr>\n",
              "      <th>338994</th>\n",
              "      <td>515</td>\n",
              "      <td>13</td>\n",
              "      <td>1</td>\n",
              "      <td>1</td>\n",
              "      <td>2</td>\n",
              "      <td>6</td>\n",
              "      <td>2</td>\n",
              "      <td>2.000000</td>\n",
              "      <td>0.000000</td>\n",
              "      <td>6</td>\n",
              "      <td>...</td>\n",
              "      <td>2</td>\n",
              "      <td>1</td>\n",
              "      <td>6</td>\n",
              "      <td>1024</td>\n",
              "      <td>0</td>\n",
              "      <td>0</td>\n",
              "      <td>24</td>\n",
              "      <td>0</td>\n",
              "      <td>0</td>\n",
              "      <td>PortScan</td>\n",
              "    </tr>\n",
              "    <tr>\n",
              "      <th>2906836</th>\n",
              "      <td>80</td>\n",
              "      <td>5398919</td>\n",
              "      <td>3</td>\n",
              "      <td>1</td>\n",
              "      <td>0</td>\n",
              "      <td>0</td>\n",
              "      <td>0</td>\n",
              "      <td>0.118148</td>\n",
              "      <td>0.055491</td>\n",
              "      <td>0</td>\n",
              "      <td>...</td>\n",
              "      <td>258</td>\n",
              "      <td>1</td>\n",
              "      <td>140</td>\n",
              "      <td>29200</td>\n",
              "      <td>28954</td>\n",
              "      <td>0</td>\n",
              "      <td>32</td>\n",
              "      <td>0</td>\n",
              "      <td>0</td>\n",
              "      <td>XSS</td>\n",
              "    </tr>\n",
              "    <tr>\n",
              "      <th>437384</th>\n",
              "      <td>4445</td>\n",
              "      <td>39</td>\n",
              "      <td>1</td>\n",
              "      <td>1</td>\n",
              "      <td>0</td>\n",
              "      <td>6</td>\n",
              "      <td>0</td>\n",
              "      <td>0.000000</td>\n",
              "      <td>0.000000</td>\n",
              "      <td>6</td>\n",
              "      <td>...</td>\n",
              "      <td>0</td>\n",
              "      <td>1</td>\n",
              "      <td>6</td>\n",
              "      <td>29200</td>\n",
              "      <td>0</td>\n",
              "      <td>0</td>\n",
              "      <td>40</td>\n",
              "      <td>0</td>\n",
              "      <td>0</td>\n",
              "      <td>PortScan</td>\n",
              "    </tr>\n",
              "  </tbody>\n",
              "</table>\n",
              "<p>786756 rows × 50 columns</p>\n",
              "</div>\n",
              "      <button class=\"colab-df-convert\" onclick=\"convertToInteractive('df-3e17ce4c-232f-4800-9434-18a66e7f20f9')\"\n",
              "              title=\"Convert this dataframe to an interactive table.\"\n",
              "              style=\"display:none;\">\n",
              "        \n",
              "  <svg xmlns=\"http://www.w3.org/2000/svg\" height=\"24px\"viewBox=\"0 0 24 24\"\n",
              "       width=\"24px\">\n",
              "    <path d=\"M0 0h24v24H0V0z\" fill=\"none\"/>\n",
              "    <path d=\"M18.56 5.44l.94 2.06.94-2.06 2.06-.94-2.06-.94-.94-2.06-.94 2.06-2.06.94zm-11 1L8.5 8.5l.94-2.06 2.06-.94-2.06-.94L8.5 2.5l-.94 2.06-2.06.94zm10 10l.94 2.06.94-2.06 2.06-.94-2.06-.94-.94-2.06-.94 2.06-2.06.94z\"/><path d=\"M17.41 7.96l-1.37-1.37c-.4-.4-.92-.59-1.43-.59-.52 0-1.04.2-1.43.59L10.3 9.45l-7.72 7.72c-.78.78-.78 2.05 0 2.83L4 21.41c.39.39.9.59 1.41.59.51 0 1.02-.2 1.41-.59l7.78-7.78 2.81-2.81c.8-.78.8-2.07 0-2.86zM5.41 20L4 18.59l7.72-7.72 1.47 1.35L5.41 20z\"/>\n",
              "  </svg>\n",
              "      </button>\n",
              "      \n",
              "  <style>\n",
              "    .colab-df-container {\n",
              "      display:flex;\n",
              "      flex-wrap:wrap;\n",
              "      gap: 12px;\n",
              "    }\n",
              "\n",
              "    .colab-df-convert {\n",
              "      background-color: #E8F0FE;\n",
              "      border: none;\n",
              "      border-radius: 50%;\n",
              "      cursor: pointer;\n",
              "      display: none;\n",
              "      fill: #1967D2;\n",
              "      height: 32px;\n",
              "      padding: 0 0 0 0;\n",
              "      width: 32px;\n",
              "    }\n",
              "\n",
              "    .colab-df-convert:hover {\n",
              "      background-color: #E2EBFA;\n",
              "      box-shadow: 0px 1px 2px rgba(60, 64, 67, 0.3), 0px 1px 3px 1px rgba(60, 64, 67, 0.15);\n",
              "      fill: #174EA6;\n",
              "    }\n",
              "\n",
              "    [theme=dark] .colab-df-convert {\n",
              "      background-color: #3B4455;\n",
              "      fill: #D2E3FC;\n",
              "    }\n",
              "\n",
              "    [theme=dark] .colab-df-convert:hover {\n",
              "      background-color: #434B5C;\n",
              "      box-shadow: 0px 1px 3px 1px rgba(0, 0, 0, 0.15);\n",
              "      filter: drop-shadow(0px 1px 2px rgba(0, 0, 0, 0.3));\n",
              "      fill: #FFFFFF;\n",
              "    }\n",
              "  </style>\n",
              "\n",
              "      <script>\n",
              "        const buttonEl =\n",
              "          document.querySelector('#df-3e17ce4c-232f-4800-9434-18a66e7f20f9 button.colab-df-convert');\n",
              "        buttonEl.style.display =\n",
              "          google.colab.kernel.accessAllowed ? 'block' : 'none';\n",
              "\n",
              "        async function convertToInteractive(key) {\n",
              "          const element = document.querySelector('#df-3e17ce4c-232f-4800-9434-18a66e7f20f9');\n",
              "          const dataTable =\n",
              "            await google.colab.kernel.invokeFunction('convertToInteractive',\n",
              "                                                     [key], {});\n",
              "          if (!dataTable) return;\n",
              "\n",
              "          const docLinkHtml = 'Like what you see? Visit the ' +\n",
              "            '<a target=\"_blank\" href=https://colab.research.google.com/notebooks/data_table.ipynb>data table notebook</a>'\n",
              "            + ' to learn more about interactive tables.';\n",
              "          element.innerHTML = '';\n",
              "          dataTable['output_type'] = 'display_data';\n",
              "          await google.colab.output.renderOutput(dataTable, element);\n",
              "          const docLink = document.createElement('div');\n",
              "          docLink.innerHTML = docLinkHtml;\n",
              "          element.appendChild(docLink);\n",
              "        }\n",
              "      </script>\n",
              "    </div>\n",
              "  </div>\n",
              "  "
            ],
            "text/plain": [
              "         Destination Port  Flow Duration  Total Fwd Packets  \\\n",
              "2414023                80       86272743                  6   \n",
              "110773                 53          23983                  4   \n",
              "2263016                80       68379606                  7   \n",
              "198981              56246              3                  2   \n",
              "340144               1301             24                  1   \n",
              "...                   ...            ...                ...   \n",
              "2937623               444      115370657               2715   \n",
              "246710                 80        5231972                  4   \n",
              "338994                515             13                  1   \n",
              "2906836                80        5398919                  3   \n",
              "437384               4445             39                  1   \n",
              "\n",
              "         Total Backward Packets  Total Length of Fwd Packets  \\\n",
              "2414023                       8                          355   \n",
              "110773                        2                          184   \n",
              "2263016                       6                          327   \n",
              "198981                        0                           12   \n",
              "340144                        1                            2   \n",
              "...                         ...                          ...   \n",
              "2937623                    1990                        15434   \n",
              "246710                        4                          421   \n",
              "338994                        1                            2   \n",
              "2906836                       1                            0   \n",
              "437384                        1                            0   \n",
              "\n",
              "         Total Length of Bwd Packets  Fwd Packet Length Max  \\\n",
              "2414023                        11595                    343   \n",
              "110773                           254                     46   \n",
              "2263016                        11595                    327   \n",
              "198981                             0                      6   \n",
              "340144                             6                      2   \n",
              "...                              ...                    ...   \n",
              "2937623                      7701729                   5477   \n",
              "246710                           545                    409   \n",
              "338994                             6                      2   \n",
              "2906836                            0                      0   \n",
              "437384                             6                      0   \n",
              "\n",
              "         Fwd Packet Length Mean  Fwd Packet Length Std  Bwd Packet Length Max  \\\n",
              "2414023               59.166667             139.080432                   5792   \n",
              "110773                46.000000               0.000000                    127   \n",
              "2263016               46.714286             123.594383                   7240   \n",
              "198981                 6.000000               0.000000                      0   \n",
              "340144                 2.000000               0.000000                      6   \n",
              "...                         ...                    ...                    ...   \n",
              "2937623                6.662930             134.745644                  14649   \n",
              "246710               105.250000             202.519752                    533   \n",
              "338994                 2.000000               0.000000                      6   \n",
              "2906836                0.118148               0.055491                      0   \n",
              "437384                 0.000000               0.000000                      6   \n",
              "\n",
              "         ...  Subflow Fwd Bytes  Subflow Bwd Packets  Subflow Bwd Bytes  \\\n",
              "2414023  ...                355                    8              11595   \n",
              "110773   ...                184                    2                254   \n",
              "2263016  ...                327                    6              11595   \n",
              "198981   ...                 12                    0                  0   \n",
              "340144   ...                  2                    1                  6   \n",
              "...      ...                ...                  ...                ...   \n",
              "2937623  ...              13473                 1837            7711781   \n",
              "246710   ...                421                    4                545   \n",
              "338994   ...                  2                    1                  6   \n",
              "2906836  ...                258                    1                140   \n",
              "437384   ...                  0                    1                  6   \n",
              "\n",
              "         Init_Win_bytes_forward  Init_Win_bytes_backward  act_data_pkt_fwd  \\\n",
              "2414023                       0                      235                 2   \n",
              "110773                       -1                       -1                 3   \n",
              "2263016                     274                      235                 1   \n",
              "198981                      361                       -1                 1   \n",
              "340144                     1024                        0                 0   \n",
              "...                         ...                      ...               ...   \n",
              "2937623                     698                      245               118   \n",
              "246710                     8192                       60                 3   \n",
              "338994                     1024                        0                 0   \n",
              "2906836                   29200                    28954                 0   \n",
              "437384                    29200                        0                 0   \n",
              "\n",
              "         min_seg_size_forward  Idle Max  Idle Min       Label  \n",
              "2414023                    20  85300000  85300000    DoS Hulk  \n",
              "110773                     20         0         0      BENIGN  \n",
              "2263016                    32  68200000  68200000    DoS Hulk  \n",
              "198981                     20         0         0      BENIGN  \n",
              "340144                     24         0         0    PortScan  \n",
              "...                       ...       ...       ...         ...  \n",
              "2937623                    32         0         0  Heartbleed  \n",
              "246710                     20         0         0      BENIGN  \n",
              "338994                     24         0         0    PortScan  \n",
              "2906836                    32         0         0         XSS  \n",
              "437384                     40         0         0    PortScan  \n",
              "\n",
              "[786756 rows x 50 columns]"
            ]
          },
          "execution_count": 6,
          "metadata": {},
          "output_type": "execute_result"
        }
      ],
      "source": [
        "x = a_b_shuffle.drop(axis= 0, columns= ['BENIGN', 'Unnamed: 0'])\n",
        "x"
      ]
    },
    {
      "cell_type": "code",
      "execution_count": null,
      "metadata": {
        "colab": {
          "base_uri": "https://localhost:8080/"
        },
        "id": "yK4EFM958CtT",
        "outputId": "dbf62a82-3a26-4f3d-b91c-532b4fe06749"
      },
      "outputs": [
        {
          "data": {
            "text/plain": [
              "2414023    1\n",
              "110773     0\n",
              "2263016    1\n",
              "198981     0\n",
              "340144     1\n",
              "          ..\n",
              "2937623    1\n",
              "246710     0\n",
              "338994     1\n",
              "2906836    1\n",
              "437384     1\n",
              "Name: BENIGN, Length: 786756, dtype: int64"
            ]
          },
          "execution_count": 7,
          "metadata": {},
          "output_type": "execute_result"
        }
      ],
      "source": [
        "y = a_b_shuffle['BENIGN']\n",
        "y"
      ]
    },
    {
      "cell_type": "code",
      "execution_count": null,
      "metadata": {
        "id": "B4zgMRs4GQdn"
      },
      "outputs": [],
      "source": [
        "x_train, y_train = x[0:int(len(x)*.6)], y[0:int(len(y)*.6)]\n",
        "x_test, y_test = x[int(len(x)*.6):], y[int(len(y)*.6):]"
      ]
    },
    {
      "cell_type": "code",
      "execution_count": null,
      "metadata": {
        "colab": {
          "base_uri": "https://localhost:8080/"
        },
        "id": "7Cs5L17ZPPvP",
        "outputId": "89d02bb1-943f-4ece-b05a-41ab1ffc1b2c"
      },
      "outputs": [
        {
          "data": {
            "text/plain": [
              "{'DoS Hulk': 137589,\n",
              " 'BENIGN': 72322,\n",
              " 'PortScan': 95390,\n",
              " 'XSS': 6429,\n",
              " 'DoS GoldenEye': 12110,\n",
              " 'DDoS': 77064,\n",
              " 'FTP-Patator': 10823,\n",
              " 'DoS Slowhttptest': 9322,\n",
              " 'DoS slowloris': 9428,\n",
              " 'Infiltration': 6073,\n",
              " 'Bot': 7215,\n",
              " 'SSH-Patator': 9414,\n",
              " 'Heartbleed': 5997,\n",
              " 'Brute Force': 6881,\n",
              " 'Sql Injection': 5996}"
            ]
          },
          "execution_count": 9,
          "metadata": {},
          "output_type": "execute_result"
        }
      ],
      "source": [
        "others_train = {}\n",
        "for classes in x_train['Label']:\n",
        "    if classes in others_train.keys():\n",
        "        others_train[classes] = others_train[classes] +1\n",
        "    else:\n",
        "        others_train[classes] = 1\n",
        "others_train"
      ]
    },
    {
      "cell_type": "code",
      "execution_count": null,
      "metadata": {
        "colab": {
          "base_uri": "https://localhost:8080/"
        },
        "id": "wBPVl-CwH_k4",
        "outputId": "76aed73f-9d7c-4268-a05d-ce65ffe8facb"
      },
      "outputs": [
        {
          "data": {
            "text/plain": [
              "{'DoS Slowhttptest': 6177,\n",
              " 'DoS Hulk': 92535,\n",
              " 'BENIGN': 47878,\n",
              " 'PortScan': 63414,\n",
              " 'DDoS': 50961,\n",
              " 'DoS GoldenEye': 8183,\n",
              " 'Infiltration': 3963,\n",
              " 'Bot': 4741,\n",
              " 'SSH-Patator': 6483,\n",
              " 'FTP-Patator': 7112,\n",
              " 'Sql Injection': 4025,\n",
              " 'DoS slowloris': 6368,\n",
              " 'XSS': 4223,\n",
              " 'Heartbleed': 4014,\n",
              " 'Brute Force': 4626}"
            ]
          },
          "execution_count": 10,
          "metadata": {},
          "output_type": "execute_result"
        }
      ],
      "source": [
        "others_test = {}\n",
        "for classes in x_test['Label']:\n",
        "    if classes in others_test.keys():\n",
        "        others_test[classes] = others_test[classes] +1\n",
        "    else:\n",
        "        others_test[classes] = 1\n",
        "others_test"
      ]
    },
    {
      "cell_type": "code",
      "execution_count": null,
      "metadata": {
        "colab": {
          "base_uri": "https://localhost:8080/"
        },
        "id": "SH2N5YTUIlMr",
        "outputId": "aee66564-578c-424d-ddc3-c4b9ee21ea52"
      },
      "outputs": [
        {
          "name": "stderr",
          "output_type": "stream",
          "text": [
            "/usr/local/lib/python3.8/dist-packages/pandas/core/frame.py:4906: SettingWithCopyWarning: \n",
            "A value is trying to be set on a copy of a slice from a DataFrame\n",
            "\n",
            "See the caveats in the documentation: https://pandas.pydata.org/pandas-docs/stable/user_guide/indexing.html#returning-a-view-versus-a-copy\n",
            "  return super().drop(\n"
          ]
        },
        {
          "data": {
            "text/plain": [
              "Index(['Destination Port', 'Flow Duration', 'Total Fwd Packets',\n",
              "       'Total Backward Packets', 'Total Length of Fwd Packets',\n",
              "       'Total Length of Bwd Packets', 'Fwd Packet Length Max',\n",
              "       'Fwd Packet Length Mean', 'Fwd Packet Length Std',\n",
              "       'Bwd Packet Length Max', 'Bwd Packet Length Min',\n",
              "       'Bwd Packet Length Mean', 'Bwd Packet Length Std', 'Flow Bytes/s',\n",
              "       'Flow Packets/s', 'Flow IAT Mean', 'Flow IAT Std', 'Flow IAT Max',\n",
              "       'Flow IAT Min', 'Fwd IAT Total', 'Fwd IAT Mean', 'Fwd IAT Std',\n",
              "       'Fwd IAT Max', 'Fwd IAT Min', 'Bwd IAT Mean', 'Bwd Header Length',\n",
              "       'Fwd Packets/s', 'Bwd Packets/s', 'Min Packet Length',\n",
              "       'Max Packet Length', 'Packet Length Mean', 'Packet Length Std',\n",
              "       'Packet Length Variance', 'PSH Flag Count', 'ACK Flag Count',\n",
              "       'Average Packet Size', 'Avg Fwd Segment Size', 'Avg Bwd Segment Size',\n",
              "       'Fwd Header Length.1', 'Subflow Fwd Packets', 'Subflow Fwd Bytes',\n",
              "       'Subflow Bwd Packets', 'Subflow Bwd Bytes', 'Init_Win_bytes_forward',\n",
              "       'Init_Win_bytes_backward', 'act_data_pkt_fwd', 'min_seg_size_forward',\n",
              "       'Idle Max', 'Idle Min'],\n",
              "      dtype='object')"
            ]
          },
          "execution_count": 11,
          "metadata": {},
          "output_type": "execute_result"
        }
      ],
      "source": [
        "x_train.drop(columns= 'Label', inplace= True)\n",
        "x_train.columns"
      ]
    },
    {
      "cell_type": "code",
      "execution_count": null,
      "metadata": {
        "colab": {
          "base_uri": "https://localhost:8080/"
        },
        "id": "FNYcN6TCI4Pt",
        "outputId": "5b3d4723-1540-4e88-acf3-54bde2b6a590"
      },
      "outputs": [
        {
          "data": {
            "text/plain": [
              "Index(['Destination Port', 'Flow Duration', 'Total Fwd Packets',\n",
              "       'Total Backward Packets', 'Total Length of Fwd Packets',\n",
              "       'Total Length of Bwd Packets', 'Fwd Packet Length Max',\n",
              "       'Fwd Packet Length Mean', 'Fwd Packet Length Std',\n",
              "       'Bwd Packet Length Max', 'Bwd Packet Length Min',\n",
              "       'Bwd Packet Length Mean', 'Bwd Packet Length Std', 'Flow Bytes/s',\n",
              "       'Flow Packets/s', 'Flow IAT Mean', 'Flow IAT Std', 'Flow IAT Max',\n",
              "       'Flow IAT Min', 'Fwd IAT Total', 'Fwd IAT Mean', 'Fwd IAT Std',\n",
              "       'Fwd IAT Max', 'Fwd IAT Min', 'Bwd IAT Mean', 'Bwd Header Length',\n",
              "       'Fwd Packets/s', 'Bwd Packets/s', 'Min Packet Length',\n",
              "       'Max Packet Length', 'Packet Length Mean', 'Packet Length Std',\n",
              "       'Packet Length Variance', 'PSH Flag Count', 'ACK Flag Count',\n",
              "       'Average Packet Size', 'Avg Fwd Segment Size', 'Avg Bwd Segment Size',\n",
              "       'Fwd Header Length.1', 'Subflow Fwd Packets', 'Subflow Fwd Bytes',\n",
              "       'Subflow Bwd Packets', 'Subflow Bwd Bytes', 'Init_Win_bytes_forward',\n",
              "       'Init_Win_bytes_backward', 'act_data_pkt_fwd', 'min_seg_size_forward',\n",
              "       'Idle Max', 'Idle Min'],\n",
              "      dtype='object')"
            ]
          },
          "execution_count": 12,
          "metadata": {},
          "output_type": "execute_result"
        }
      ],
      "source": [
        "x_test.drop(columns= 'Label', inplace= True)\n",
        "x_test.columns"
      ]
    },
    {
      "cell_type": "code",
      "execution_count": null,
      "metadata": {
        "colab": {
          "base_uri": "https://localhost:8080/"
        },
        "id": "OChdwgdbJB2b",
        "outputId": "cc0c8614-3dca-457d-afe8-81cbc5130b71"
      },
      "outputs": [
        {
          "name": "stdout",
          "output_type": "stream",
          "text": [
            "There are 49 features in the test set\n",
            "There are 49 features in the train set\n"
          ]
        }
      ],
      "source": [
        "print('There are {} features in the test set'.format(x_test.iloc[1].count()))\n",
        "print('There are {} features in the train set'.format(x_train.iloc[1].count()))"
      ]
    },
    {
      "cell_type": "code",
      "execution_count": null,
      "metadata": {
        "id": "_DOsDji7u1WL"
      },
      "outputs": [],
      "source": [
        "bin = g.SymbolicClassifier(population_size=5000, generations=20, tournament_size=20,\n",
        "                           stopping_criteria=0.0, const_range=(-1, 1), init_depth=(3, 8), parsimony_coefficient=0.003,\n",
        "                           init_method='half and half', function_set=('add', 'sub', 'mul', 'div', 'sqrt', 'log', 'abs', 'neg', 'inv', 'max', 'min', 'sin', 'cos', 'tan'),\n",
        "                           transformer='sigmoid', metric='log loss', p_crossover=0.9,\n",
        "                           p_subtree_mutation=0.02, p_hoist_mutation=0.01,\n",
        "                           p_point_mutation=0.01, p_point_replace=0.05, max_samples=1.0, \n",
        "                           feature_names=x_train.columns, warm_start=False, \n",
        "                           low_memory=False, n_jobs=1, verbose=1, random_state=0)\n"
      ]
    },
    {
      "cell_type": "markdown",
      "metadata": {
        "id": "qpZfK3_hKCzm"
      },
      "source": []
    },
    {
      "cell_type": "code",
      "execution_count": null,
      "metadata": {
        "id": "h9QJINR70Ray"
      },
      "outputs": [],
      "source": [
        "import keras\n",
        "import tensorflow"
      ]
    },
    {
      "cell_type": "code",
      "execution_count": null,
      "metadata": {
        "colab": {
          "base_uri": "https://localhost:8080/"
        },
        "id": "NybVbaaEH4WQ",
        "outputId": "36f8000e-d693-463e-fc1a-d040b926c964"
      },
      "outputs": [
        {
          "data": {
            "text/plain": [
              "Index(['Destination Port', 'Flow Duration', 'Total Fwd Packets',\n",
              "       'Total Backward Packets', 'Total Length of Fwd Packets',\n",
              "       'Total Length of Bwd Packets', 'Fwd Packet Length Max',\n",
              "       'Fwd Packet Length Mean', 'Fwd Packet Length Std',\n",
              "       'Bwd Packet Length Max', 'Bwd Packet Length Min',\n",
              "       'Bwd Packet Length Mean', 'Bwd Packet Length Std', 'Flow Bytes/s',\n",
              "       'Flow Packets/s', 'Flow IAT Mean', 'Flow IAT Std', 'Flow IAT Max',\n",
              "       'Flow IAT Min', 'Fwd IAT Total', 'Fwd IAT Mean', 'Fwd IAT Std',\n",
              "       'Fwd IAT Max', 'Fwd IAT Min', 'Bwd IAT Mean', 'Bwd Header Length',\n",
              "       'Fwd Packets/s', 'Bwd Packets/s', 'Min Packet Length',\n",
              "       'Max Packet Length', 'Packet Length Mean', 'Packet Length Std',\n",
              "       'Packet Length Variance', 'PSH Flag Count', 'ACK Flag Count',\n",
              "       'Average Packet Size', 'Avg Fwd Segment Size', 'Avg Bwd Segment Size',\n",
              "       'Fwd Header Length.1', 'Subflow Fwd Packets', 'Subflow Fwd Bytes',\n",
              "       'Subflow Bwd Packets', 'Subflow Bwd Bytes', 'Init_Win_bytes_forward',\n",
              "       'Init_Win_bytes_backward', 'act_data_pkt_fwd', 'min_seg_size_forward',\n",
              "       'Idle Max', 'Idle Min'],\n",
              "      dtype='object')"
            ]
          },
          "execution_count": 16,
          "metadata": {},
          "output_type": "execute_result"
        }
      ],
      "source": [
        "feats = x_train.columns\n",
        "feats"
      ]
    },
    {
      "cell_type": "code",
      "execution_count": null,
      "metadata": {
        "colab": {
          "base_uri": "https://localhost:8080/"
        },
        "id": "uDjxtWo-IFht",
        "outputId": "89935ce0-63a4-45ac-ac19-7ceb973030e0"
      },
      "outputs": [
        {
          "data": {
            "text/plain": [
              "array([1, 0, 1, ..., 1, 0, 1])"
            ]
          },
          "execution_count": 17,
          "metadata": {},
          "output_type": "execute_result"
        }
      ],
      "source": [
        "y_train = np.array(y_train)\n",
        "y_train"
      ]
    },
    {
      "cell_type": "code",
      "execution_count": null,
      "metadata": {
        "colab": {
          "background_save": true,
          "base_uri": "https://localhost:8080/"
        },
        "id": "ZsgTCfcJu7S7",
        "outputId": "4f781d91-64fc-407c-cdb7-a33f5fa78f73"
      },
      "outputs": [
        {
          "name": "stdout",
          "output_type": "stream",
          "text": [
            "    |   Population Average    |             Best Individual              |\n",
            "---- ------------------------- ------------------------------------------ ----------\n",
            " Gen   Length          Fitness   Length          Fitness      OOB Fitness  Time Left\n",
            "   0    14.71          2.98354        5         0.397536              N/A    152.83m\n",
            "   1     8.42          1.00438        7         0.366359              N/A    119.25m\n",
            "   2     5.13         0.825871        8         0.323202              N/A     93.22m\n",
            "   3     4.42         0.726628        9         0.314741              N/A     83.30m\n",
            "   4     5.20         0.781682       11         0.300041              N/A     86.68m\n",
            "   5     6.54         0.605914       18         0.264054              N/A     95.49m\n",
            "   6     6.84         0.559788       16         0.262612              N/A     94.25m\n",
            "   7     8.36         0.530845       16         0.259558              N/A     98.66m\n",
            "   8     8.80         0.530321       24         0.251828              N/A     80.70m\n",
            "   9     9.86         0.546765       17         0.251595              N/A     67.93m\n",
            "  10    11.57         0.585861       17         0.251595              N/A     60.98m\n",
            "  11    11.78         0.627229       16         0.251595              N/A     53.75m\n",
            "  12    12.93         0.627316       15          0.25257              N/A     48.74m\n",
            "  13    13.54         0.648024       19         0.252506              N/A     42.10m\n",
            "  14    13.21         0.642591       17         0.251722              N/A     34.28m\n",
            "  15    13.20         0.595879       17         0.251722              N/A     27.21m\n",
            "  16    12.96         0.609047       26         0.250734              N/A     20.00m\n",
            "  17    12.99         0.619437       17         0.251722              N/A     13.10m\n",
            "  18    13.02         0.593952       17         0.251722              N/A      6.59m\n",
            "  19    13.04         0.604945       17         0.251722              N/A      0.00s\n"
          ]
        },
        {
          "data": {
            "text/plain": [
              "SymbolicClassifier(const_range=(-1, 1),\n",
              "                   feature_names=Index(['Destination Port', 'Flow Duration', 'Total Fwd Packets',\n",
              "       'Total Backward Packets', 'Total Length of Fwd Packets',\n",
              "       'Total Length of Bwd Packets', 'Fwd Packet Length Max',\n",
              "       'Fwd Packet Length Mean', 'Fwd Packet Length Std',\n",
              "       'Bwd Packet Length Max', 'Bwd Packet Length Min',\n",
              "       'Bwd Packet Length Mean', 'Bwd Packet Length Std', 'Flow Bytes/s',\n",
              "       'F...\n",
              "       'Subflow Bwd Packets', 'Subflow Bwd Bytes', 'Init_Win_bytes_forward',\n",
              "       'Init_Win_bytes_backward', 'act_data_pkt_fwd', 'min_seg_size_forward',\n",
              "       'Idle Max', 'Idle Min'],\n",
              "      dtype='object'),\n",
              "                   function_set=('add', 'sub', 'mul', 'div', 'sqrt', 'log',\n",
              "                                 'abs', 'neg', 'inv', 'max', 'min', 'sin',\n",
              "                                 'cos', 'tan'),\n",
              "                   init_depth=(3, 8), p_subtree_mutation=0.02,\n",
              "                   parsimony_coefficient=0.003, population_size=5000,\n",
              "                   random_state=0, verbose=1)"
            ]
          },
          "execution_count": 18,
          "metadata": {},
          "output_type": "execute_result"
        }
      ],
      "source": [
        "bin.fit(x_train, y_train)"
      ]
    },
    {
      "cell_type": "code",
      "execution_count": null,
      "metadata": {
        "colab": {
          "background_save": true
        },
        "id": "XaUiLf94vid4",
        "outputId": "3ead0c16-4224-41cf-a9cc-038b711e8ab6"
      },
      "outputs": [
        {
          "name": "stdout",
          "output_type": "stream",
          "text": [
            "The ROC is: 0.9427184780617273\n",
            "The Confusion matrix is: [20003 27875]\n",
            "\t\t\t\t\t[   405 266420]\n"
          ]
        },
        {
          "name": "stderr",
          "output_type": "stream",
          "text": [
            "/usr/local/lib/python3.8/dist-packages/sklearn/utils/deprecation.py:87: FutureWarning: Function plot_confusion_matrix is deprecated; Function `plot_confusion_matrix` is deprecated in 1.0 and will be removed in 1.2. Use one of the class methods: ConfusionMatrixDisplay.from_predictions or ConfusionMatrixDisplay.from_estimator.\n",
            "  warnings.warn(msg, category=FutureWarning)\n"
          ]
        },
        {
          "data": {
            "text/plain": [
              "<sklearn.metrics._plot.confusion_matrix.ConfusionMatrixDisplay at 0x7fcfe0573160>"
            ]
          },
          "execution_count": 19,
          "metadata": {},
          "output_type": "execute_result"
        },
        {
          "data": {
            "image/png": "[encoded data removed]",
            "text/plain": [
              "<Figure size 432x288 with 2 Axes>"
            ]
          },
          "metadata": {},
          "output_type": "display_data"
        }
      ],
      "source": [
        "from sklearn.metrics import roc_auc_score, confusion_matrix, plot_confusion_matrix\n",
        "pred = bin.predict(x_test)\n",
        "roc_gp = roc_auc_score(pred, y_test)\n",
        "print(\"The ROC is: {}\".format(roc_gp))\n",
        "resulter = confusion_matrix(y_test, pred)\n",
        "print(\"The Confusion matrix is: {}\\n\\t\\t\\t\\t\\t{}\".format(resulter[0], resulter[1]))\n",
        "plot_confusion_matrix(bin, x_test, y_test)"
      ]
    },
    {
      "cell_type": "code",
      "execution_count": null,
      "metadata": {
        "colab": {
          "background_save": true
        },
        "id": "q9rrmtZ4A5UM"
      },
      "outputs": [],
      "source": [
        "import pickle\n",
        "Pkl_Filename = \"bin_gp.pkl\"  \n",
        "\n",
        "with open(Pkl_Filename, 'wb') as file:  \n",
        "    pickle.dump(bin, file)"
      ]
    },
    {
      "cell_type": "code",
      "execution_count": null,
      "metadata": {
        "colab": {
          "background_save": true
        },
        "id": "MeE4u_9NHNKo"
      },
      "outputs": [],
      "source": [
        "predictiony = pd.DataFrame(pred)"
      ]
    },
    {
      "cell_type": "code",
      "execution_count": null,
      "metadata": {
        "colab": {
          "background_save": true
        },
        "id": "g10lNkqEHelt"
      },
      "outputs": [],
      "source": [
        "predictiony.to_csv('predictions_binary.csv')"
      ]
    },
    {
      "cell_type": "code",
      "execution_count": null,
      "metadata": {
        "colab": {
          "background_save": true
        },
        "id": "cg4fAOqgKvtV",
        "outputId": "786a3394-6c3a-462a-dd0c-986a6620c072"
      },
      "outputs": [
        {
          "data": {
            "text/plain": [
              "0.9101374947172414"
            ]
          },
          "execution_count": 23,
          "metadata": {},
          "output_type": "execute_result"
        }
      ],
      "source": [
        "bin.score(x_test, y_test)"
      ]
    },
    {
      "cell_type": "code",
      "execution_count": null,
      "metadata": {
        "colab": {
          "background_save": true
        },
        "id": "uFKxXtCdMCsl"
      },
      "outputs": [],
      "source": [
        "TN, FP = resulter[0,0], resulter[0,1]\n",
        "FN, TP = resulter[1,0], resulter[1,1]"
      ]
    },
    {
      "cell_type": "code",
      "execution_count": null,
      "metadata": {
        "colab": {
          "background_save": true
        },
        "id": "PofgWvGawkkB",
        "outputId": "0a4c080f-e06f-49f1-e0ff-33dfed8dcdc8"
      },
      "outputs": [
        {
          "data": {
            "text/plain": [
              "0.9101374947172414"
            ]
          },
          "execution_count": 25,
          "metadata": {},
          "output_type": "execute_result"
        }
      ],
      "source": [
        "accuracy = (TP + TN)/(TP + TN + FP + FN)\n",
        "accuracy"
      ]
    },
    {
      "cell_type": "code",
      "execution_count": null,
      "metadata": {
        "colab": {
          "background_save": true
        },
        "id": "otIHHtBHwvrf",
        "outputId": "6aedd9ce-4e19-4554-baa3-0d2630ab7f0b"
      },
      "outputs": [
        {
          "data": {
            "text/plain": [
              "0.9052821148847245"
            ]
          },
          "execution_count": 26,
          "metadata": {},
          "output_type": "execute_result"
        }
      ],
      "source": [
        "precision = TP/(TP+FP)\n",
        "precision"
      ]
    },
    {
      "cell_type": "code",
      "execution_count": null,
      "metadata": {
        "colab": {
          "background_save": true
        },
        "id": "TkPlH0Ixw5-Y",
        "outputId": "bdc0176e-6528-46cc-e71f-edae3ed58c1d"
      },
      "outputs": [
        {
          "data": {
            "text/plain": [
              "0.9984821512227116"
            ]
          },
          "execution_count": 27,
          "metadata": {},
          "output_type": "execute_result"
        }
      ],
      "source": [
        "recall =  TP/(TP+FN)\n",
        "recall"
      ]
    },
    {
      "cell_type": "code",
      "execution_count": null,
      "metadata": {
        "colab": {
          "background_save": true
        },
        "id": "miL-wSd0w_cN",
        "outputId": "d53ec1a6-e1dc-4798-aeca-8ff61245357c"
      },
      "outputs": [
        {
          "data": {
            "text/plain": [
              "0.9496007984031937"
            ]
          },
          "execution_count": 28,
          "metadata": {},
          "output_type": "execute_result"
        }
      ],
      "source": [
        "f1 =  (2*precision*recall)/(precision + recall)\n",
        "f1"
      ]
    },
    {
      "cell_type": "code",
      "execution_count": null,
      "metadata": {
        "colab": {
          "background_save": true
        },
        "id": "Zy0O_J7i7P0E"
      },
      "outputs": [],
      "source": [
        "a_b_shuffle.to_csv('pre_split.csv')"
      ]
    },
    {
      "cell_type": "code",
      "execution_count": null,
      "metadata": {
        "colab": {
          "background_save": true
        },
        "id": "5cEN7LtS8e6B"
      },
      "outputs": [],
      "source": [
        "x_test.to_csv('x_test.csv')\n",
        "y_test.to_csv('y_test.csv')"
      ]
    },
    {
      "cell_type": "code",
      "execution_count": null,
      "metadata": {
        "colab": {
          "background_save": true
        },
        "id": "3EfJ7NUnKJ6F"
      },
      "outputs": [],
      "source": [
        "x.to_csv('x.csv')\n",
        "y.to_csv('y.csv')"
      ]
    },
    {
      "cell_type": "code",
      "execution_count": null,
      "metadata": {
        "colab": {
          "background_save": true
        },
        "id": "lKjeqOHO-TBW",
        "outputId": "d259d9dd-a11c-4386-995c-381cdf7adf25"
      },
      "outputs": [
        {
          "data": {
            "text/plain": [
              "0"
            ]
          },
          "execution_count": 32,
          "metadata": {},
          "output_type": "execute_result"
        }
      ],
      "source": [
        "resulter.sum() - len(y_test)"
      ]
    },
    {
      "cell_type": "code",
      "execution_count": null,
      "metadata": {
        "colab": {
          "background_save": true
        },
        "id": "EyxefjAvAJCQ",
        "outputId": "8f93f2b1-a876-4ebe-947f-ae7f0485f098"
      },
      "outputs": [
        {
          "data": {
            "text/plain": [
              "0"
            ]
          },
          "execution_count": 33,
          "metadata": {},
          "output_type": "execute_result"
        }
      ],
      "source": [
        "len(x_test)- len(predictiony)"
      ]
    },
    {
      "cell_type": "code",
      "execution_count": null,
      "metadata": {
        "colab": {
          "background_save": true
        },
        "id": "jmhIdCzsBqiL",
        "outputId": "f4efed10-bb62-42f2-b804-04357c92053b"
      },
      "outputs": [
        {
          "data": {
            "text/plain": [
              "786756"
            ]
          },
          "execution_count": 34,
          "metadata": {},
          "output_type": "execute_result"
        }
      ],
      "source": [
        "len(a_b_shuffle)"
      ]
    },
    {
      "cell_type": "code",
      "execution_count": null,
      "metadata": {
        "id": "MlOi9eBlm_4Y"
      },
      "outputs": [],
      "source": [
        "!cat /proc/cpuinfo  #To see CPU specs, "
      ]
    },
    {
      "cell_type": "markdown",
      "metadata": {
        "id": "d-rLjOd1nY8l"
      },
      "source": [
        "# Real Forest"
      ]
    },
    {
      "cell_type": "code",
      "execution_count": null,
      "metadata": {
        "colab": {
          "base_uri": "https://localhost:8080/"
        },
        "id": "FfufqnAOTQGm",
        "outputId": "cf9ee459-86bb-4b3f-82b5-e1e400a3fcf0"
      },
      "outputs": [
        {
          "name": "stdout",
          "output_type": "stream",
          "text": [
            "Looking in indexes: https://pypi.org/simple, https://us-python.pkg.dev/colab-wheels/public/simple/\n",
            "Requirement already satisfied: gplearn in /usr/local/lib/python3.8/dist-packages (0.4.2)\n",
            "Requirement already satisfied: scikit-learn>=1.0.2 in /usr/local/lib/python3.8/dist-packages (from gplearn) (1.0.2)\n",
            "Requirement already satisfied: joblib>=1.0.0 in /usr/local/lib/python3.8/dist-packages (from gplearn) (1.2.0)\n",
            "Requirement already satisfied: threadpoolctl>=2.0.0 in /usr/local/lib/python3.8/dist-packages (from scikit-learn>=1.0.2->gplearn) (3.1.0)\n",
            "Requirement already satisfied: scipy>=1.1.0 in /usr/local/lib/python3.8/dist-packages (from scikit-learn>=1.0.2->gplearn) (1.7.3)\n",
            "Requirement already satisfied: numpy>=1.14.6 in /usr/local/lib/python3.8/dist-packages (from scikit-learn>=1.0.2->gplearn) (1.21.6)\n",
            "Drive already mounted at /content/drive; to attempt to forcibly remount, call drive.mount(\"/content/drive\", force_remount=True).\n"
          ]
        }
      ],
      "source": [
        "!pip install gplearn\n",
        "import pickle\n",
        "from google.colab import drive\n",
        "import pandas as pd\n",
        "import matplotlib.pyplot as plt\n",
        "from sklearn.metrics import ConfusionMatrixDisplay, confusion_matrix, roc_auc_score, accuracy_score\n",
        "import sklearn.ensemble as sk_ensemble\n",
        "\n",
        "drive.mount('/content/drive')"
      ]
    },
    {
      "cell_type": "code",
      "execution_count": null,
      "metadata": {
        "id": "I3MqZf9rQM2W"
      },
      "outputs": [],
      "source": [
        "### CODE DONE LOCALLY FOR CREATING RF MODEL\n",
        "import pickle\n",
        "import pandas as pd\n",
        "import matplotlib.pyplot as plt\n",
        "import sklearn.ensemble as sk_ensemble\n",
        "import sklearn.model_selection as sk_model_select\n",
        "from sklearn.metrics import ConfusionMatrixDisplay, confusion_matrix, roc_auc_score, accuracy_score, precision_score, recall_score, f1_score\n",
        "\n",
        "\n",
        "\n",
        "dataset = pd.read_csv('CICIDS2017_RFE_binary_multiclass_balanced.csv')\n",
        "multiclass = dataset['Label']\n",
        "binary = dataset['BENIGN']\n",
        "dataset = dataset.drop(axis=0, columns=['Label', 'BENIGN'])\n",
        "\n",
        "x_train, x_test, y_train, y_test = sk_model_select.train_test_split(dataset, multiclass, test_size=0.6, random_state=42)\n",
        "\n",
        "def random_forest():\n",
        "    n_estimators = 100\n",
        "    max_depth = 80\n",
        "    random_forest = sk_ensemble.RandomForestClassifier(n_estimators=n_estimators, max_depth=max_depth, verbose=1)\n",
        "\n",
        "    random_forest.fit(x_train, y_train)\n",
        "    with open('rf_multi.pkl', 'wb') as f:\n",
        "        pickle.dump(random_forest, f)\n",
        "    return random_forest\n",
        "\n",
        "def full_rf():\n",
        "    rf_model = random_forest()\n",
        "\n",
        "    predictions = rf_model.predict(x_test)\n",
        "    matrix = confusion_matrix(y_test, predictions)\n",
        "    with open('multi_matrix.txt', 'w') as m:\n",
        "        m.write(str(matrix))\n",
        "\n",
        "    print(\"Accuracy:\", accuracy_score(y_test, predictions))\n",
        "    disp = ConfusionMatrixDisplay(matrix)\n",
        "    disp.plot()\n",
        "    plt.show()\n",
        "\n",
        "full_rf()\n",
        "\n",
        "# RF best performer\n",
        "with open('rf_multi.pkl', 'rb') as f:\n",
        "  rf : sk_ensemble.RandomForestClassifier = pickle.load(f)\n",
        "\n",
        "rf_predictions = rf.predict(x_test)\n",
        "\n",
        "multi_labels = [\n",
        "    'BENIGN',\n",
        "    'DoS GoldenEye',\n",
        "    'Bot',\n",
        "    'Heartbleed',\n",
        "    'DoS Hulk',\n",
        "    'FTP-Patator',\n",
        "    'PortScan',\n",
        "    'DDoS',\n",
        "    'Brute Force',\n",
        "    'XSS',\n",
        "    'DoS Slowhttptest',\n",
        "    'Infiltration',\n",
        "    'SSH-Patator',\n",
        "    'DoS slowloris',\n",
        "    'Sql Injection'\n",
        "]\n",
        "\n",
        "precision_scores = precision_score(y_test, rf_predictions, labels=multi_labels, average=None)\n",
        "recall_scores = recall_score(y_test, rf_predictions, labels=multi_labels, average=None)\n",
        "f1_scores = f1_score(y_test, rf_predictions, labels=multi_labels, average=None)\n",
        "accuracy = accuracy_score(y_test, rf_predictions)\n",
        "\n",
        "print(precision_scores)\n",
        "print(recall_scores)\n",
        "print(f1_scores)\n",
        "print(accuracy)\n",
        "\n",
        "metrics = {label: {} for label in multi_labels}\n",
        "\n",
        "for i in range(len(multi_labels)):\n",
        "    metrics[multi_labels[i]]['precision'] = precision_scores[i]\n",
        "    metrics[multi_labels[i]]['recall'] = recall_scores[i]\n",
        "    metrics[multi_labels[i]]['f1-score'] = f1_scores[i]\n",
        "    tabs = '\\t'\n",
        "    if multi_labels[i] == 'Bot' or multi_labels[i] == 'DDoS' or multi_labels[i] == 'XSS':\n",
        "        tabs += '\\t'\n",
        "    if multi_labels[i] != 'DoS Slowhttptest' and multi_labels[i] != 'DoS GoldenEye' and multi_labels[i] != 'DoS slowloris' and multi_labels[i] != 'Sql Injection':\n",
        "        tabs += '\\t'\n",
        "    print(multi_labels[i], ':', tabs, metrics[multi_labels[i]])\n",
        "\n",
        "print(metrics)"
      ]
    },
    {
      "cell_type": "code",
      "execution_count": null,
      "metadata": {
        "id": "2PnNfWLlWDoH"
      },
      "outputs": [],
      "source": [
        "### Get only stuff predicted as attack\n",
        "data = pd.read_csv('/content/drive/MyDrive/Le_Data/round9/x.csv')\n",
        "y = data['Label']\n",
        "\n",
        "# Drop nonsense\n",
        "x = data.drop(axis=0, columns=['Label', 'Unnamed: 0'])\n",
        "\n",
        "# Exact same split\n",
        "x_train, y_train = x[0:int(len(x)*.6)], y[0:int(len(y)*.6)]\n",
        "x_test, y_test = x[int(len(x)*.6):], y[int(len(y)*.6):]\n",
        "\n",
        "# RF best performer\n",
        "with open('/content/drive/MyDrive/Le_Data/rf_multi.pkl', 'rb') as f:\n",
        "  random_forest = pickle.load(f)\n",
        "\n",
        "# GP best performer\n",
        "with open('/content/drive/MyDrive/Le_Data/round9/bin_gp.pkl', 'rb') as f:\n",
        "  gp_model = pickle.load(f)\n",
        "\n",
        "p = gp_model.predict(x_test)\n",
        "### Append p, x_test and y_test together\n",
        "x_test['prediction'] = p\n",
        "x_test['label'] = y_test\n",
        "\n",
        "### Drop all rows where row for p == 0 (benign)\n",
        "x_test = x_test.drop(x_test[x_test['prediction'] == 0].index)\n",
        "\n",
        "### Reset y_test to y_test column in combined df and drop columns\n",
        "y_test = x_test['label']\n",
        "x_test = x_test.drop(axis=0, columns=['label', 'prediction'])\n",
        "\n",
        "multi_labels = [\n",
        "        'BENIGN',\n",
        "        'DoS GoldenEye',\n",
        "        'Bot',\n",
        "        'Heartbleed',\n",
        "        'DoS Hulk',\n",
        "        'FTP-Patator',\n",
        "        'PortScan',\n",
        "        'DDoS',\n",
        "        'Brute Force',\n",
        "        'XSS',\n",
        "        'DoS Slowhttptest',\n",
        "        'Infiltration',\n",
        "        'SSH-Patator',\n",
        "        'DoS slowloris',\n",
        "        'Sql Injection'\n",
        "    ]\n",
        "### Run prediction\n",
        "rf_predictions = random_forest.predict(x_test)\n",
        "matrix = confusion_matrix(\n",
        "    y_test, \n",
        "    rf_predictions,\n",
        "    labels=multi_labels\n",
        ")\n",
        "\n",
        "with open('/content/drive/MyDrive/Le_Data/multi_matrix.txt', 'w') as m:\n",
        "    m.write(str(matrix))\n",
        "\n",
        "print(\"Accuracy:\", accuracy_score(y_test, rf_predictions))\n",
        "disp = ConfusionMatrixDisplay(matrix)\n",
        "disp.plot()\n",
        "plt.show()"
      ]
    },
    {
      "cell_type": "code",
      "execution_count": null,
      "metadata": {
        "colab": {
          "base_uri": "https://localhost:8080/"
        },
        "id": "61uMoOaQfpEO",
        "outputId": "dc17bc8c-6de2-4a25-919c-94724f4b2a8e"
      },
      "outputs": [
        {
          "name": "stdout",
          "output_type": "stream",
          "text": [
            "BENIGN : {'precision': 0.9806335385077316, 'recall': 0.9991332279610462, 'f1-score': 0.9897969491867864}\n",
            "DoS GoldenEye : {'precision': 0.9992541951522685, 'recall': 0.9986335403726708, 'f1-score': 0.9989437713575645}\n",
            "Bot : {'precision': 0.996897913141568, 'recall': 0.9786821705426356, 'f1-score': 0.9877060631461302}\n",
            "Heartbleed : {'precision': 1.0, 'recall': 1.0, 'f1-score': 1.0}\n",
            "DoS Hulk : {'precision': 0.9998478905681287, 'recall': 0.9990663438677249, 'f1-score': 0.9994569644311704}\n",
            "FTP-Patator : {'precision': 1.0, 'recall': 1.0, 'f1-score': 1.0}\n",
            "PortScan : {'precision': 0.9999513358314274, 'recall': 0.9971368952297763, 'f1-score': 0.9985421323743804}\n",
            "DDoS : {'precision': 0.9999805072025887, 'recall': 0.9995908107792132, 'f1-score': 0.999785621016936}\n",
            "Brute Force : {'precision': 0.9704192381357736, 'recall': 0.9810671256454389, 'f1-score': 0.9757141328768589}\n",
            "XSS : {'precision': 0.9815297182098035, 'recall': 0.9671021931871209, 'f1-score': 0.9742625455400165}\n",
            "DoS Slowhttptest : {'precision': 0.9995012468827931, 'recall': 0.997676734152008, 'f1-score': 0.9985881571298064}\n",
            "Infiltration : {'precision': 1.0, 'recall': 0.9997419354838709, 'f1-score': 0.9998709510904632}\n",
            "SSH-Patator : {'precision': 0.9998424452497243, 'recall': 0.9993700787401575, 'f1-score': 0.9996062061904387}\n",
            "DoS slowloris : {'precision': 0.999215809284818, 'recall': 0.9984328475160633, 'f1-score': 0.9988241749627655}\n",
            "Sql Injection : {'precision': 0.9992581602373887, 'recall': 0.9990111248454883, 'f1-score': 0.9991346272716034}\n",
            "accuracy: 0.9977019284738475\n",
            "precision_avg: 0.995088799893601\n",
            "recall_avg: 0.994309668554881\n",
            "f1 avg: 0.9946821531049946\n"
          ]
        }
      ],
      "source": [
        "from sklearn.metrics import precision_score, recall_score, f1_score, accuracy_score\n",
        "\n",
        "precision_scores = precision_score(y_test, rf_predictions, labels=multi_labels, average=None)\n",
        "recall_scores = recall_score(y_test, rf_predictions, labels=multi_labels, average=None)\n",
        "f1_scores = f1_score(y_test, rf_predictions, labels=multi_labels, average=None)\n",
        "accuracy = accuracy_score(y_test, rf_predictions)\n",
        "\n",
        "metrics = {label: {} for label in multi_labels}\n",
        "\n",
        "for i in range(len(multi_labels)):\n",
        "  metrics[multi_labels[i]]['precision'] = precision_scores[i]\n",
        "  metrics[multi_labels[i]]['recall'] = recall_scores[i]\n",
        "  metrics[multi_labels[i]]['f1-score'] = f1_scores[i]\n",
        "\n",
        "precision_avg = 0\n",
        "recall_avg = 0\n",
        "f1_scores_avg = 0\n",
        "num_labels = len(multi_labels)\n",
        "\n",
        "for metric in metrics:\n",
        "  print(metric, ':', metrics[metric])\n",
        "  precision_avg += metrics[metric]['precision']\n",
        "  recall_avg += metrics[metric]['recall']\n",
        "  f1_scores_avg += metrics[metric]['f1-score']\n",
        "\n",
        "precision_avg /= num_labels\n",
        "recall_avg /= num_labels\n",
        "f1_scores_avg /= num_labels\n",
        "\n",
        "print('accuracy:', accuracy)\n",
        "print('precision_avg:', precision_avg)\n",
        "print('recall_avg:', recall_avg)\n",
        "print('f1 avg:', f1_scores_avg)\n"
      ]
    }
  ],
  "metadata": {
    "accelerator": "TPU",
    "colab": {
      "collapsed_sections": [
        "L4UzJ8WyeDYH"
      ],
      "machine_shape": "hm",
      "provenance": []
    },
    "gpuClass": "premium",
    "kernelspec": {
      "display_name": "Python 3",
      "name": "python3"
    },
    "language_info": {
      "name": "python"
    }
  },
  "nbformat": 4,
  "nbformat_minor": 0
}